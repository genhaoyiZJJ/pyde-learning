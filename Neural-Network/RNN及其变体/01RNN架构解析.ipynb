{
 "cells": [
  {
   "cell_type": "markdown",
   "metadata": {
    "pycharm": {
     "name": "#%% md\n"
    }
   },
   "source": [
    "# RNN模型"
   ]
  },
  {
   "cell_type": "code",
   "execution_count": 1,
   "metadata": {
    "pycharm": {
     "name": "#%%\n"
    }
   },
   "outputs": [],
   "source": [
    "import torch\n",
    "import torch.nn as nn"
   ]
  },
  {
   "cell_type": "code",
   "execution_count": 2,
   "metadata": {
    "pycharm": {
     "name": "#%%\n"
    }
   },
   "outputs": [],
   "source": [
    "'''\n",
    "第一个参数：input_size(输入张量x的维度)\n",
    "第二个参数：hidden_size(隐藏层的维度， 隐藏层的神经元个数)\n",
    "第三个参数：num_layer(隐藏层的数量)\n",
    "'''\n",
    "rnn = nn.RNN(5, 6, 1)  # --A"
   ]
  },
  {
   "cell_type": "code",
   "execution_count": 3,
   "metadata": {
    "pycharm": {
     "name": "#%%\n"
    }
   },
   "outputs": [],
   "source": [
    "'''\n",
    "第一个参数：sequence_length(输入序列的长度)\n",
    "第二个参数：batch_size(批次的样本数量)\n",
    "第三个参数：input_size(输入张量的维度)\n",
    "'''\n",
    "input = torch.randn(1, 3, 5) #--B"
   ]
  },
  {
   "cell_type": "code",
   "execution_count": 4,
   "metadata": {
    "pycharm": {
     "name": "#%%\n"
    }
   },
   "outputs": [],
   "source": [
    "'''\n",
    "第一个参数：num_layer * num_directions(层数*网络方向)\n",
    "第二个参数：batch_size(批次的样本数)\n",
    "第三个参数：hidden_size(隐藏层的维度， 隐藏层神经元的个数)\n",
    "'''\n",
    "h0 = torch.randn(1, 3, 6) #--C"
   ]
  },
  {
   "cell_type": "code",
   "execution_count": 7,
   "metadata": {
    "pycharm": {
     "name": "#%%\n"
    }
   },
   "outputs": [],
   "source": [
    "# 注意点： 上面中的三个一的意义不一样 A和C的一需要保持一致， 也可以自己指定 \n",
    "# B中的1可以自己任意改写， 因为是程序员自己指定，"
   ]
  },
  {
   "cell_type": "code",
   "execution_count": 6,
   "metadata": {
    "pycharm": {
     "name": "#%%\n"
    }
   },
   "outputs": [
    {
     "name": "stdout",
     "output_type": "stream",
     "text": [
      "tensor([[[ 0.6636, -0.3936,  0.5632, -0.6171,  0.0100, -0.0929],\n",
      "         [ 0.2246, -0.7703,  0.8508, -0.7963, -0.7819, -0.3027],\n",
      "         [-0.5080,  0.2289,  0.9385,  0.0168, -0.9629,  0.7897]]],\n",
      "       grad_fn=<StackBackward>)\n",
      "torch.Size([1, 3, 6])\n",
      "tensor([[[ 0.6636, -0.3936,  0.5632, -0.6171,  0.0100, -0.0929],\n",
      "         [ 0.2246, -0.7703,  0.8508, -0.7963, -0.7819, -0.3027],\n",
      "         [-0.5080,  0.2289,  0.9385,  0.0168, -0.9629,  0.7897]]],\n",
      "       grad_fn=<StackBackward>)\n",
      "torch.Size([1, 3, 6])\n"
     ]
    }
   ],
   "source": [
    "# 输入input到RNN中，得到结果\n",
    "output, hn = rnn(input, h0)\n",
    "\n",
    "print(output)\n",
    "print(output.shape)\n",
    "print(hn)\n",
    "print(hn.shape)"
   ]
  },
  {
   "cell_type": "markdown",
   "metadata": {
    "pycharm": {
     "name": "#%% md\n"
    }
   },
   "source": [
    "# LSTM模型"
   ]
  },
  {
   "cell_type": "code",
   "execution_count": 8,
   "metadata": {
    "pycharm": {
     "name": "#%%\n"
    }
   },
   "outputs": [],
   "source": [
    "'''\n",
    "第一个参数：input_size(输入张量x的维度)\n",
    "第二个参数：hidden_size(隐藏层的维度， 隐藏层的神经元个数)\n",
    "第三个参数：num_layer(隐藏层层数)\n",
    "'''\n",
    "lstm = nn.LSTM(5, 6, 2)"
   ]
  },
  {
   "cell_type": "code",
   "execution_count": 9,
   "metadata": {
    "pycharm": {
     "name": "#%%\n"
    }
   },
   "outputs": [],
   "source": [
    "'''\n",
    "第一个参数：sequence_length(输入序列的长度)\n",
    "第二个参数：batch_size(批次的样本数量)\n",
    "第三个参数：input_size(输入张量x的维度)\n",
    "'''\n",
    "input1 = torch.randn(1, 3, 5)"
   ]
  },
  {
   "cell_type": "code",
   "execution_count": 10,
   "metadata": {
    "pycharm": {
     "name": "#%%\n"
    }
   },
   "outputs": [],
   "source": [
    "'''\n",
    "第一个参数：num_layer * num_directions(隐藏层层数*方向数)\n",
    "第二个参数：batch_size(批次的样本数量)\n",
    "第三个参数：num_layer(隐藏层的维度)\n",
    "'''\n",
    "h0 = torch.randn(2, 3, 6)\n",
    "c0 = torch.randn(2, 3, 6)"
   ]
  },
  {
   "cell_type": "code",
   "execution_count": 11,
   "metadata": {
    "pycharm": {
     "name": "#%%\n"
    }
   },
   "outputs": [
    {
     "name": "stdout",
     "output_type": "stream",
     "text": [
      "tensor([[[-0.2370, -0.0583,  0.0500,  0.1917,  0.0686,  0.5719],\n",
      "         [ 0.4243, -0.1873, -0.2210,  0.3361, -0.0372, -0.1411],\n",
      "         [-0.1847, -0.1088,  0.1313,  0.1221,  0.1312, -0.0776]]],\n",
      "       grad_fn=<StackBackward>)\n",
      "torch.Size([1, 3, 6])\n",
      "tensor([[[ 0.0991,  0.1474,  0.0282,  0.2366, -0.1836,  0.2254],\n",
      "         [-0.4293, -0.1545, -0.1596, -0.1213,  0.1107, -0.2750],\n",
      "         [ 0.2945, -0.1484, -0.2418, -0.2126,  0.2622,  0.1880]],\n",
      "\n",
      "        [[-0.2370, -0.0583,  0.0500,  0.1917,  0.0686,  0.5719],\n",
      "         [ 0.4243, -0.1873, -0.2210,  0.3361, -0.0372, -0.1411],\n",
      "         [-0.1847, -0.1088,  0.1313,  0.1221,  0.1312, -0.0776]]],\n",
      "       grad_fn=<StackBackward>)\n",
      "torch.Size([2, 3, 6])\n",
      "tensor([[[ 0.4948,  0.7631,  0.1260,  0.4069, -0.3126,  0.3497],\n",
      "         [-0.5289, -0.2864, -0.2302, -0.1766,  0.4243, -0.3848],\n",
      "         [ 0.9584, -0.4547, -1.1198, -1.4924,  0.5767,  0.4122]],\n",
      "\n",
      "        [[-0.3985, -0.1128,  0.1135,  0.6471,  0.1994,  1.3590],\n",
      "         [ 1.4179, -1.0325, -0.6081,  0.7638, -0.0583, -0.4080],\n",
      "         [-0.2184, -0.1724,  0.5169,  0.3778,  0.5472, -0.4302]]],\n",
      "       grad_fn=<StackBackward>)\n",
      "torch.Size([2, 3, 6])\n"
     ]
    }
   ],
   "source": [
    "# 将input1,  h0, c0输入到lstm中， 输出结果\n",
    "output, (hn, cn) = lstm(input1, (h0, c0))\n",
    "\n",
    "print(output)\n",
    "print(output.shape)\n",
    "print(hn)\n",
    "print(hn.shape)\n",
    "print(cn)\n",
    "print(cn.shape)"
   ]
  },
  {
   "cell_type": "markdown",
   "metadata": {
    "pycharm": {
     "name": "#%% md\n"
    }
   },
   "source": [
    "# GRU模型"
   ]
  },
  {
   "cell_type": "code",
   "execution_count": 12,
   "metadata": {
    "pycharm": {
     "name": "#%%\n"
    }
   },
   "outputs": [],
   "source": [
    "'''\n",
    "第一个参数：input_size(输入张量x的维度)\n",
    "第二个参数：hidden_size(隐藏层的维度， 隐藏层神经元的个数)\n",
    "第三个参数：num_layers(隐藏层的层数)\n",
    "'''\n",
    "gru = nn.GRU(5, 6, 2)"
   ]
  },
  {
   "cell_type": "code",
   "execution_count": 13,
   "metadata": {
    "pycharm": {
     "name": "#%%\n"
    }
   },
   "outputs": [],
   "source": [
    "'''\n",
    "第一个参数：sequence_length(输入序列的长度)\n",
    "第二个参数：batch_siz(批次样本的数量)\n",
    "第三个参数：input_size(输入张量x的维度)\n",
    "'''\n",
    "input2 = torch.randn(1, 3, 5)"
   ]
  },
  {
   "cell_type": "code",
   "execution_count": 14,
   "metadata": {
    "pycharm": {
     "name": "#%%\n"
    }
   },
   "outputs": [],
   "source": [
    "'''\n",
    "第一个参数：num_layers * num_directions(隐藏层的层数 * 方向数)\n",
    "第二个参数：batch_size(批次样本的数量)\n",
    "第三个参数：hidden_size(隐藏层的维度， 隐藏层的神经元个数)\n",
    "'''\n",
    "h0 = torch.randn(2, 3, 6)"
   ]
  },
  {
   "cell_type": "code",
   "execution_count": 15,
   "metadata": {
    "pycharm": {
     "name": "#%%\n"
    }
   },
   "outputs": [
    {
     "name": "stdout",
     "output_type": "stream",
     "text": [
      "tensor([[[ 0.2370, -0.9308,  0.1323,  0.5029,  0.3597, -0.4720],\n",
      "         [-0.1150, -1.1768, -0.5770, -0.5217,  0.5666, -0.4799],\n",
      "         [-0.4231,  1.2768, -0.2543, -0.2822, -0.0771, -0.0631]]],\n",
      "       grad_fn=<StackBackward>)\n",
      "torch.Size([1, 3, 6])\n",
      "tensor([[[ 0.2598, -0.2406, -0.3915,  0.1361, -0.0169, -0.2891],\n",
      "         [-0.5885,  0.1594,  1.4320, -0.1065,  0.3526, -0.5709],\n",
      "         [-0.7556, -0.2301, -0.7022, -1.1283,  1.0545,  0.0581]],\n",
      "\n",
      "        [[ 0.2370, -0.9308,  0.1323,  0.5029,  0.3597, -0.4720],\n",
      "         [-0.1150, -1.1768, -0.5770, -0.5217,  0.5666, -0.4799],\n",
      "         [-0.4231,  1.2768, -0.2543, -0.2822, -0.0771, -0.0631]]],\n",
      "       grad_fn=<StackBackward>)\n",
      "torch.Size([2, 3, 6])\n"
     ]
    }
   ],
   "source": [
    "output, hn = gru(input2, h0)\n",
    "print(output)\n",
    "print(output.shape)\n",
    "print(hn)\n",
    "print(hn.shape)"
   ]
  },
  {
   "cell_type": "markdown",
   "metadata": {
    "pycharm": {
     "name": "#%% md\n"
    }
   },
   "source": [
    "# 注意力机制"
   ]
  },
  {
   "cell_type": "code",
   "execution_count": 16,
   "metadata": {
    "pycharm": {
     "name": "#%%\n"
    }
   },
   "outputs": [],
   "source": [
    "import torch\n",
    "import torch.nn as nn\n",
    "import torch.nn.functional as F"
   ]
  },
  {
   "cell_type": "code",
   "execution_count": 29,
   "metadata": {
    "pycharm": {
     "name": "#%%\n"
    }
   },
   "outputs": [],
   "source": [
    "# query： 查询   key:  关键字  value：值\n",
    "# 注意力机制各个的含义：https://blog.csdn.net/ningyanggege/article/details/89786077"
   ]
  },
  {
   "cell_type": "code",
   "execution_count": 24,
   "metadata": {
    "pycharm": {
     "name": "#%%\n"
    }
   },
   "outputs": [],
   "source": [
    "class Attn(nn.Module):\n",
    "    def __init__(self, query_size, key_size, value_size1, value_size2, output_size):\n",
    "        \"\"\"初始化函数中的参数有5个, query_size代表query的最后一维大小\n",
    "           key_size代表key的最后一维大小, value_size1代表value的导数第二维大小, \n",
    "           value = (1, value_size1, value_size2)\n",
    "           value_size2代表value的倒数第一维大小, output_size输出的最后一维大小\"\"\"\n",
    "        super(Attn, self).__init__()\n",
    "        # 将以下参数传入类中\n",
    "        self.query_size = query_size\n",
    "        self.key_size = key_size\n",
    "        self.value_size1 = value_size1\n",
    "        self.value_size2 = value_size2\n",
    "        self.output_size = output_size\n",
    "\n",
    "        # 初始化注意力机制实现第一步中需要的线性层.\n",
    "        self.attn = nn.Linear(self.query_size + self.key_size, value_size1)\n",
    "\n",
    "        # 初始化注意力机制实现第三步中需要的线性层.\n",
    "        self.attn_combine = nn.Linear(self.query_size + value_size2, output_size)\n",
    "\n",
    "\n",
    "    def forward(self, Q, K, V):\n",
    "        \"\"\"forward函数的输入参数有三个, 分别是Q, K, V, 根据模型训练常识, 输入给Attion机制的\n",
    "           张量一般情况都是三维张量, 因此这里也假设Q, K, V都是三维张量\"\"\"\n",
    "\n",
    "        # 第一步, 按照计算规则进行计算, \n",
    "        # 我们采用常见的第一种计算规则\n",
    "        # 将Q，K进行纵轴拼接, 做一次线性变化, 最后使用softmax处理获得结果\n",
    "        attn_weights = F.softmax(\n",
    "            self.attn(torch.cat((Q[0], K[0]), 1)), dim=1)\n",
    "\n",
    "        # 然后进行第一步的后半部分, 将得到的权重矩阵与V做矩阵乘法计算, \n",
    "        # 当二者都是三维张量且第一维代表为batch条数时, 则做bmm运算\n",
    "        attn_applied = torch.bmm(attn_weights.unsqueeze(0), V)\n",
    "\n",
    "        # 之后进行第二步, 通过取[0]是用来降维, 根据第一步采用的计算方法, \n",
    "        # 需要将Q与第一步的计算结果再进行拼接\n",
    "        output = torch.cat((Q[0], attn_applied[0]), 1)\n",
    "\n",
    "        # 最后是第三步, 使用线性层作用在第三步的结果上做一个线性变换并扩展维度，得到输出\n",
    "        # 因为要保证输出也是三维张量, 因此使用unsqueeze(0)扩展维度\n",
    "        output = self.attn_combine(output).unsqueeze(0)\n",
    "        return output, attn_weights"
   ]
  },
  {
   "cell_type": "code",
   "execution_count": 25,
   "metadata": {
    "pycharm": {
     "name": "#%%\n"
    }
   },
   "outputs": [],
   "source": [
    "query_size = 32\n",
    "key_size = 32\n",
    "value_size1 = 32\n",
    "value_size2 = 64\n",
    "output_size = 64\n",
    "\n",
    "attn = Attn(query_size, key_size, value_size1, value_size2, output_size)\n",
    "\n",
    "Q = torch.randn(1, 1, 32)\n",
    "K = torch.randn(1, 1, 32)\n",
    "V = torch.randn(1, 32, 64)"
   ]
  },
  {
   "cell_type": "code",
   "execution_count": 26,
   "metadata": {
    "pycharm": {
     "name": "#%%\n"
    }
   },
   "outputs": [
    {
     "data": {
      "text/plain": [
       "tensor([[[ 1.7740,  1.4786,  2.3317, -0.5930,  0.9520, -1.0182, -0.5578,\n",
       "          -0.8354, -1.2971, -0.1046,  0.5362,  0.7183,  0.7682, -0.0429,\n",
       "           1.2952,  0.9103, -0.7283,  0.2551,  0.9726,  1.2260,  0.1193,\n",
       "           0.1745,  1.4248, -0.9619,  1.9483,  1.1757,  0.5759,  0.4788,\n",
       "          -2.3636, -1.0463,  0.2420, -0.0597]]])"
      ]
     },
     "execution_count": 26,
     "metadata": {},
     "output_type": "execute_result"
    }
   ],
   "source": [
    "Q"
   ]
  },
  {
   "cell_type": "code",
   "execution_count": 27,
   "metadata": {
    "pycharm": {
     "name": "#%%\n"
    }
   },
   "outputs": [
    {
     "data": {
      "text/plain": [
       "tensor([[ 1.7740,  1.4786,  2.3317, -0.5930,  0.9520, -1.0182, -0.5578, -0.8354,\n",
       "         -1.2971, -0.1046,  0.5362,  0.7183,  0.7682, -0.0429,  1.2952,  0.9103,\n",
       "         -0.7283,  0.2551,  0.9726,  1.2260,  0.1193,  0.1745,  1.4248, -0.9619,\n",
       "          1.9483,  1.1757,  0.5759,  0.4788, -2.3636, -1.0463,  0.2420, -0.0597]])"
      ]
     },
     "execution_count": 27,
     "metadata": {},
     "output_type": "execute_result"
    }
   ],
   "source": [
    "Q[0]"
   ]
  },
  {
   "cell_type": "code",
   "execution_count": 21,
   "metadata": {
    "pycharm": {
     "name": "#%%\n"
    }
   },
   "outputs": [
    {
     "data": {
      "text/plain": [
       "tensor([[[ 1.1232e+00, -1.2998e-01, -1.3256e+00, -3.3377e-01, -1.8022e-03,\n",
       "          -6.3622e-01, -2.1706e-01,  4.0448e-01, -6.6468e-01,  9.9501e-01,\n",
       "           1.0076e+00, -1.9031e+00,  1.1123e+00,  3.0115e-01,  7.7458e-02,\n",
       "          -1.2264e+00,  9.7955e-01, -2.7316e-01,  2.8254e-02, -9.2839e-01,\n",
       "           1.1870e+00,  7.9573e-01,  1.1114e+00, -2.9109e-01,  2.0859e+00,\n",
       "          -1.1886e-01, -8.8469e-01,  9.2813e-02,  3.3019e-01,  1.0126e+00,\n",
       "          -1.4384e+00,  4.2519e-01]]])"
      ]
     },
     "execution_count": 21,
     "metadata": {},
     "output_type": "execute_result"
    }
   ],
   "source": [
    "K"
   ]
  },
  {
   "cell_type": "code",
   "execution_count": 28,
   "metadata": {
    "pycharm": {
     "name": "#%%\n"
    }
   },
   "outputs": [
    {
     "data": {
      "text/plain": [
       "tensor([[ 0.5475,  0.7832, -1.5453,  0.9205,  0.5791,  0.5292,  0.9043,  0.5458,\n",
       "          0.3247,  0.0150, -2.3652, -1.3378, -0.0917,  1.2127, -1.1445, -0.2330,\n",
       "          0.7043,  0.8920, -0.5323, -0.2291, -0.9997, -1.2049,  0.9797, -0.3397,\n",
       "          0.6935,  0.8829, -0.4705, -0.2313,  0.2498,  0.9236, -0.9035,  0.8144]])"
      ]
     },
     "execution_count": 28,
     "metadata": {},
     "output_type": "execute_result"
    }
   ],
   "source": [
    "K[0]"
   ]
  },
  {
   "cell_type": "code",
   "execution_count": 22,
   "metadata": {
    "pycharm": {
     "name": "#%%\n"
    }
   },
   "outputs": [
    {
     "data": {
      "text/plain": [
       "tensor([[[ 0.0466,  0.6807,  1.0195,  ..., -0.2512, -0.8350, -0.2921],\n",
       "         [ 1.8938, -0.7587,  0.5470,  ...,  0.2621,  0.5621, -1.3187],\n",
       "         [ 0.9755,  0.7679,  1.7150,  ..., -1.7738,  1.0374,  0.8423],\n",
       "         ...,\n",
       "         [-1.7679,  0.0284,  0.3307,  ..., -0.6763,  1.9952,  0.1761],\n",
       "         [ 1.1370,  1.1686, -0.5645,  ..., -0.4609,  0.1332, -1.0165],\n",
       "         [-0.4942, -1.3697,  0.0422,  ..., -2.0213,  0.2770,  0.0901]]])"
      ]
     },
     "execution_count": 22,
     "metadata": {},
     "output_type": "execute_result"
    }
   ],
   "source": [
    "V"
   ]
  },
  {
   "cell_type": "code",
   "execution_count": 19,
   "metadata": {
    "pycharm": {
     "name": "#%%\n"
    }
   },
   "outputs": [
    {
     "name": "stdout",
     "output_type": "stream",
     "text": [
      "tensor([[[-0.4448,  0.1492, -0.2393,  0.2379,  0.3050,  0.1410, -0.2181,\n",
      "          -0.3092, -0.0061, -0.0017,  0.1908, -0.3353,  0.6883, -0.4597,\n",
      "          -0.3722,  0.2023, -0.0534,  0.2060,  0.1919,  0.3144, -0.2256,\n",
      "          -0.1580, -0.0750,  0.0025,  0.0414,  0.0884, -0.0332,  0.0115,\n",
      "           0.2041,  0.2028, -0.2121,  0.0540,  0.3871, -0.2367, -0.7858,\n",
      "           0.3565,  0.2158,  0.5477,  0.0978, -0.7959,  0.6423, -0.3632,\n",
      "           0.0491,  0.3595,  0.5497, -0.1529,  0.0645,  0.1671, -0.2469,\n",
      "          -0.2192,  0.2145, -0.0804,  0.0245,  0.1536,  0.0170,  0.4528,\n",
      "           0.2799, -0.4460,  0.1481, -0.2102, -0.0692,  0.2601, -0.1598,\n",
      "          -0.0314]]], grad_fn=<UnsqueezeBackward0>)\n",
      "tensor([[0.0296, 0.0398, 0.0260, 0.0315, 0.0427, 0.0477, 0.0537, 0.0181, 0.0114,\n",
      "         0.0285, 0.0106, 0.0578, 0.0369, 0.0198, 0.0580, 0.0398, 0.0394, 0.0372,\n",
      "         0.0328, 0.0212, 0.0374, 0.0446, 0.0303, 0.0355, 0.0258, 0.0258, 0.0067,\n",
      "         0.0161, 0.0230, 0.0151, 0.0372, 0.0201]], grad_fn=<SoftmaxBackward>)\n"
     ]
    }
   ],
   "source": [
    "out = attn(Q, K, V)\n",
    "print(out[0])\n",
    "print(out[1])"
   ]
  },
  {
   "cell_type": "code",
   "execution_count": null,
   "metadata": {
    "pycharm": {
     "name": "#%%\n"
    }
   },
   "outputs": [],
   "source": []
  },
  {
   "cell_type": "code",
   "execution_count": null,
   "metadata": {
    "pycharm": {
     "name": "#%%\n"
    }
   },
   "outputs": [],
   "source": []
  },
  {
   "cell_type": "code",
   "execution_count": null,
   "metadata": {
    "pycharm": {
     "name": "#%%\n"
    }
   },
   "outputs": [],
   "source": []
  }
 ],
 "metadata": {
  "kernelspec": {
   "display_name": "Python 3",
   "language": "python",
   "name": "python3"
  },
  "language_info": {
   "codemirror_mode": {
    "name": "ipython",
    "version": 3
   },
   "file_extension": ".py",
   "mimetype": "text/x-python",
   "name": "python",
   "nbconvert_exporter": "python",
   "pygments_lexer": "ipython3",
   "version": "3.7.3"
  },
  "toc": {
   "base_numbering": 1,
   "nav_menu": {},
   "number_sections": true,
   "sideBar": true,
   "skip_h1_title": false,
   "title_cell": "Table of Contents",
   "title_sidebar": "Contents",
   "toc_cell": false,
   "toc_position": {},
   "toc_section_display": true,
   "toc_window_display": true
  }
 },
 "nbformat": 4,
 "nbformat_minor": 4
}
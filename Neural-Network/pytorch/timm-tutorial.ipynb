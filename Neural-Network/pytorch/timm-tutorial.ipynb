{
 "metadata": {
  "kernelspec": {
   "language": "python",
   "display_name": "Python 3",
   "name": "python3"
  },
  "language_info": {
   "name": "python",
   "version": "3.10.13",
   "mimetype": "text/x-python",
   "codemirror_mode": {
    "name": "ipython",
    "version": 3
   },
   "pygments_lexer": "ipython3",
   "nbconvert_exporter": "python",
   "file_extension": ".py"
  },
  "kaggle": {
   "accelerator": "none",
   "dataSources": [
    {
     "sourceId": 8976370,
     "sourceType": "datasetVersion",
     "datasetId": 5358810
    }
   ],
   "dockerImageVersionId": 30747,
   "isInternetEnabled": true,
   "language": "python",
   "sourceType": "notebook",
   "isGpuEnabled": false
  }
 },
 "nbformat_minor": 4,
 "nbformat": 4,
 "cells": [
  {
   "cell_type": "markdown",
   "source": [
    "# Timm使用教程\n",
    "timm（Pytorch Image Models）项目是一个图像分类模型库，通过timm可以轻松的搭建出各种sota模型（目前内置预训练模型592个，包含densenet系列、efficientnet系列、resnet系列、vit系列、vgg系列、inception系列、mobilenet系列、xcit系列等等），并进行迁移学习。\n",
    "\n",
    "下面详细介绍timm的基本用法和高级用法\n",
    "- 基本用法:指用timm实现出迁移学习模型，构造出知识蒸馏模型；\n",
    "- 高级用法:指使用timm的内置模块实现自己的网络，及对timm内置模型的修改和微调。\n",
    "- 此外，timm的作者在官网实现了timm内置模型的train、validate、inference\n",
    "\n",
    "官方指导链接：https://huggingface.co/docs/timm/quickstart#quickstart\n",
    "\n",
    "本文档的配套使用教程：【推荐！！！】\n",
    "https://www.bilibili.com/video/BV1bT42167nw/?vd_source=6e452cd7908a2d9b382932f345476fd1 "
   ],
   "metadata": {
    "pycharm": {
     "name": "#%% md\n"
    }
   }
  },
  {
   "cell_type": "markdown",
   "source": [
    "# 1.安装timm"
   ],
   "metadata": {
    "pycharm": {
     "name": "#%% md\n"
    }
   }
  },
  {
   "cell_type": "code",
   "source": [
    "# !pip install timm"
   ],
   "metadata": {
    "execution": {
     "iopub.status.busy": "2024-08-21T11:46:34.192148Z",
     "iopub.execute_input": "2024-08-21T11:46:34.192613Z",
     "iopub.status.idle": "2024-08-21T11:46:47.831776Z",
     "shell.execute_reply.started": "2024-08-21T11:46:34.192583Z",
     "shell.execute_reply": "2024-08-21T11:46:47.830611Z"
    },
    "trusted": true,
    "pycharm": {
     "name": "#%%\n"
    }
   },
   "execution_count": 1,
   "outputs": [
    {
     "name": "stdout",
     "text": "Requirement already satisfied: timm in /opt/conda/lib/python3.10/site-packages (1.0.7)\nRequirement already satisfied: torch in /opt/conda/lib/python3.10/site-packages (from timm) (2.1.2)\nRequirement already satisfied: torchvision in /opt/conda/lib/python3.10/site-packages (from timm) (0.16.2)\nRequirement already satisfied: pyyaml in /opt/conda/lib/python3.10/site-packages (from timm) (6.0.1)\nRequirement already satisfied: huggingface_hub in /opt/conda/lib/python3.10/site-packages (from timm) (0.23.4)\nRequirement already satisfied: safetensors in /opt/conda/lib/python3.10/site-packages (from timm) (0.4.3)\nRequirement already satisfied: filelock in /opt/conda/lib/python3.10/site-packages (from huggingface_hub->timm) (3.13.1)\nRequirement already satisfied: fsspec>=2023.5.0 in /opt/conda/lib/python3.10/site-packages (from huggingface_hub->timm) (2024.5.0)\nRequirement already satisfied: packaging>=20.9 in /opt/conda/lib/python3.10/site-packages (from huggingface_hub->timm) (21.3)\nRequirement already satisfied: requests in /opt/conda/lib/python3.10/site-packages (from huggingface_hub->timm) (2.32.3)\nRequirement already satisfied: tqdm>=4.42.1 in /opt/conda/lib/python3.10/site-packages (from huggingface_hub->timm) (4.66.4)\nRequirement already satisfied: typing-extensions>=3.7.4.3 in /opt/conda/lib/python3.10/site-packages (from huggingface_hub->timm) (4.9.0)\nRequirement already satisfied: sympy in /opt/conda/lib/python3.10/site-packages (from torch->timm) (1.13.0)\nRequirement already satisfied: networkx in /opt/conda/lib/python3.10/site-packages (from torch->timm) (3.2.1)\nRequirement already satisfied: jinja2 in /opt/conda/lib/python3.10/site-packages (from torch->timm) (3.1.2)\nRequirement already satisfied: numpy in /opt/conda/lib/python3.10/site-packages (from torchvision->timm) (1.26.4)\nRequirement already satisfied: pillow!=8.3.*,>=5.3.0 in /opt/conda/lib/python3.10/site-packages (from torchvision->timm) (9.5.0)\nRequirement already satisfied: pyparsing!=3.0.5,>=2.0.2 in /opt/conda/lib/python3.10/site-packages (from packaging>=20.9->huggingface_hub->timm) (3.1.1)\nRequirement already satisfied: MarkupSafe>=2.0 in /opt/conda/lib/python3.10/site-packages (from jinja2->torch->timm) (2.1.3)\nRequirement already satisfied: charset-normalizer<4,>=2 in /opt/conda/lib/python3.10/site-packages (from requests->huggingface_hub->timm) (3.3.2)\nRequirement already satisfied: idna<4,>=2.5 in /opt/conda/lib/python3.10/site-packages (from requests->huggingface_hub->timm) (3.6)\nRequirement already satisfied: urllib3<3,>=1.21.1 in /opt/conda/lib/python3.10/site-packages (from requests->huggingface_hub->timm) (1.26.18)\nRequirement already satisfied: certifi>=2017.4.17 in /opt/conda/lib/python3.10/site-packages (from requests->huggingface_hub->timm) (2024.7.4)\nRequirement already satisfied: mpmath<1.4,>=1.1.0 in /opt/conda/lib/python3.10/site-packages (from sympy->torch->timm) (1.3.0)\n",
     "output_type": "stream"
    }
   ]
  },
  {
   "cell_type": "markdown",
   "source": [
    "# 2.加载预训练模型"
   ],
   "metadata": {
    "pycharm": {
     "name": "#%% md\n"
    }
   }
  },
  {
   "cell_type": "code",
   "source": [
    "import timm\n",
    "\n",
    "m = timm.create_model('mobilenetv3_large_100', \n",
    "                      pretrained=True,   # 需要开启internet按钮\n",
    "                      #in_chans=1         # 可以处理非3通道的数据，只需要指定通道数即可\n",
    "                     ) \n",
    "model = m.cuda()     #需要调用GPU（开启）"
   ],
   "metadata": {
    "execution": {
     "iopub.status.busy": "2024-08-21T11:47:25.781702Z",
     "iopub.execute_input": "2024-08-21T11:47:25.782437Z",
     "iopub.status.idle": "2024-08-21T11:47:26.194909Z",
     "shell.execute_reply.started": "2024-08-21T11:47:25.782406Z",
     "shell.execute_reply": "2024-08-21T11:47:26.193919Z"
    },
    "trusted": true,
    "pycharm": {
     "name": "#%%\n"
    }
   },
   "execution_count": 3,
   "outputs": []
  },
  {
   "cell_type": "code",
   "source": [
    "m.eval()   #查看模型结构"
   ],
   "metadata": {
    "execution": {
     "iopub.status.busy": "2024-08-21T11:47:32.536149Z",
     "iopub.execute_input": "2024-08-21T11:47:32.537011Z",
     "iopub.status.idle": "2024-08-21T11:47:32.549428Z",
     "shell.execute_reply.started": "2024-08-21T11:47:32.536979Z",
     "shell.execute_reply": "2024-08-21T11:47:32.548408Z"
    },
    "trusted": true,
    "pycharm": {
     "name": "#%%\n"
    }
   },
   "execution_count": 4,
   "outputs": [
    {
     "execution_count": 4,
     "output_type": "execute_result",
     "data": {
      "text/plain": "MobileNetV3(\n  (conv_stem): Conv2d(3, 16, kernel_size=(3, 3), stride=(2, 2), padding=(1, 1), bias=False)\n  (bn1): BatchNormAct2d(\n    16, eps=1e-05, momentum=0.1, affine=True, track_running_stats=True\n    (drop): Identity()\n    (act): Hardswish()\n  )\n  (blocks): Sequential(\n    (0): Sequential(\n      (0): DepthwiseSeparableConv(\n        (conv_dw): Conv2d(16, 16, kernel_size=(3, 3), stride=(1, 1), padding=(1, 1), groups=16, bias=False)\n        (bn1): BatchNormAct2d(\n          16, eps=1e-05, momentum=0.1, affine=True, track_running_stats=True\n          (drop): Identity()\n          (act): ReLU(inplace=True)\n        )\n        (aa): Identity()\n        (se): Identity()\n        (conv_pw): Conv2d(16, 16, kernel_size=(1, 1), stride=(1, 1), bias=False)\n        (bn2): BatchNormAct2d(\n          16, eps=1e-05, momentum=0.1, affine=True, track_running_stats=True\n          (drop): Identity()\n          (act): Identity()\n        )\n        (drop_path): Identity()\n      )\n    )\n    (1): Sequential(\n      (0): InvertedResidual(\n        (conv_pw): Conv2d(16, 64, kernel_size=(1, 1), stride=(1, 1), bias=False)\n        (bn1): BatchNormAct2d(\n          64, eps=1e-05, momentum=0.1, affine=True, track_running_stats=True\n          (drop): Identity()\n          (act): ReLU(inplace=True)\n        )\n        (conv_dw): Conv2d(64, 64, kernel_size=(3, 3), stride=(2, 2), padding=(1, 1), groups=64, bias=False)\n        (bn2): BatchNormAct2d(\n          64, eps=1e-05, momentum=0.1, affine=True, track_running_stats=True\n          (drop): Identity()\n          (act): ReLU(inplace=True)\n        )\n        (aa): Identity()\n        (se): Identity()\n        (conv_pwl): Conv2d(64, 24, kernel_size=(1, 1), stride=(1, 1), bias=False)\n        (bn3): BatchNormAct2d(\n          24, eps=1e-05, momentum=0.1, affine=True, track_running_stats=True\n          (drop): Identity()\n          (act): Identity()\n        )\n        (drop_path): Identity()\n      )\n      (1): InvertedResidual(\n        (conv_pw): Conv2d(24, 72, kernel_size=(1, 1), stride=(1, 1), bias=False)\n        (bn1): BatchNormAct2d(\n          72, eps=1e-05, momentum=0.1, affine=True, track_running_stats=True\n          (drop): Identity()\n          (act): ReLU(inplace=True)\n        )\n        (conv_dw): Conv2d(72, 72, kernel_size=(3, 3), stride=(1, 1), padding=(1, 1), groups=72, bias=False)\n        (bn2): BatchNormAct2d(\n          72, eps=1e-05, momentum=0.1, affine=True, track_running_stats=True\n          (drop): Identity()\n          (act): ReLU(inplace=True)\n        )\n        (aa): Identity()\n        (se): Identity()\n        (conv_pwl): Conv2d(72, 24, kernel_size=(1, 1), stride=(1, 1), bias=False)\n        (bn3): BatchNormAct2d(\n          24, eps=1e-05, momentum=0.1, affine=True, track_running_stats=True\n          (drop): Identity()\n          (act): Identity()\n        )\n        (drop_path): Identity()\n      )\n    )\n    (2): Sequential(\n      (0): InvertedResidual(\n        (conv_pw): Conv2d(24, 72, kernel_size=(1, 1), stride=(1, 1), bias=False)\n        (bn1): BatchNormAct2d(\n          72, eps=1e-05, momentum=0.1, affine=True, track_running_stats=True\n          (drop): Identity()\n          (act): ReLU(inplace=True)\n        )\n        (conv_dw): Conv2d(72, 72, kernel_size=(5, 5), stride=(2, 2), padding=(2, 2), groups=72, bias=False)\n        (bn2): BatchNormAct2d(\n          72, eps=1e-05, momentum=0.1, affine=True, track_running_stats=True\n          (drop): Identity()\n          (act): ReLU(inplace=True)\n        )\n        (aa): Identity()\n        (se): SqueezeExcite(\n          (conv_reduce): Conv2d(72, 24, kernel_size=(1, 1), stride=(1, 1))\n          (act1): ReLU(inplace=True)\n          (conv_expand): Conv2d(24, 72, kernel_size=(1, 1), stride=(1, 1))\n          (gate): Hardsigmoid()\n        )\n        (conv_pwl): Conv2d(72, 40, kernel_size=(1, 1), stride=(1, 1), bias=False)\n        (bn3): BatchNormAct2d(\n          40, eps=1e-05, momentum=0.1, affine=True, track_running_stats=True\n          (drop): Identity()\n          (act): Identity()\n        )\n        (drop_path): Identity()\n      )\n      (1): InvertedResidual(\n        (conv_pw): Conv2d(40, 120, kernel_size=(1, 1), stride=(1, 1), bias=False)\n        (bn1): BatchNormAct2d(\n          120, eps=1e-05, momentum=0.1, affine=True, track_running_stats=True\n          (drop): Identity()\n          (act): ReLU(inplace=True)\n        )\n        (conv_dw): Conv2d(120, 120, kernel_size=(5, 5), stride=(1, 1), padding=(2, 2), groups=120, bias=False)\n        (bn2): BatchNormAct2d(\n          120, eps=1e-05, momentum=0.1, affine=True, track_running_stats=True\n          (drop): Identity()\n          (act): ReLU(inplace=True)\n        )\n        (aa): Identity()\n        (se): SqueezeExcite(\n          (conv_reduce): Conv2d(120, 32, kernel_size=(1, 1), stride=(1, 1))\n          (act1): ReLU(inplace=True)\n          (conv_expand): Conv2d(32, 120, kernel_size=(1, 1), stride=(1, 1))\n          (gate): Hardsigmoid()\n        )\n        (conv_pwl): Conv2d(120, 40, kernel_size=(1, 1), stride=(1, 1), bias=False)\n        (bn3): BatchNormAct2d(\n          40, eps=1e-05, momentum=0.1, affine=True, track_running_stats=True\n          (drop): Identity()\n          (act): Identity()\n        )\n        (drop_path): Identity()\n      )\n      (2): InvertedResidual(\n        (conv_pw): Conv2d(40, 120, kernel_size=(1, 1), stride=(1, 1), bias=False)\n        (bn1): BatchNormAct2d(\n          120, eps=1e-05, momentum=0.1, affine=True, track_running_stats=True\n          (drop): Identity()\n          (act): ReLU(inplace=True)\n        )\n        (conv_dw): Conv2d(120, 120, kernel_size=(5, 5), stride=(1, 1), padding=(2, 2), groups=120, bias=False)\n        (bn2): BatchNormAct2d(\n          120, eps=1e-05, momentum=0.1, affine=True, track_running_stats=True\n          (drop): Identity()\n          (act): ReLU(inplace=True)\n        )\n        (aa): Identity()\n        (se): SqueezeExcite(\n          (conv_reduce): Conv2d(120, 32, kernel_size=(1, 1), stride=(1, 1))\n          (act1): ReLU(inplace=True)\n          (conv_expand): Conv2d(32, 120, kernel_size=(1, 1), stride=(1, 1))\n          (gate): Hardsigmoid()\n        )\n        (conv_pwl): Conv2d(120, 40, kernel_size=(1, 1), stride=(1, 1), bias=False)\n        (bn3): BatchNormAct2d(\n          40, eps=1e-05, momentum=0.1, affine=True, track_running_stats=True\n          (drop): Identity()\n          (act): Identity()\n        )\n        (drop_path): Identity()\n      )\n    )\n    (3): Sequential(\n      (0): InvertedResidual(\n        (conv_pw): Conv2d(40, 240, kernel_size=(1, 1), stride=(1, 1), bias=False)\n        (bn1): BatchNormAct2d(\n          240, eps=1e-05, momentum=0.1, affine=True, track_running_stats=True\n          (drop): Identity()\n          (act): Hardswish()\n        )\n        (conv_dw): Conv2d(240, 240, kernel_size=(3, 3), stride=(2, 2), padding=(1, 1), groups=240, bias=False)\n        (bn2): BatchNormAct2d(\n          240, eps=1e-05, momentum=0.1, affine=True, track_running_stats=True\n          (drop): Identity()\n          (act): Hardswish()\n        )\n        (aa): Identity()\n        (se): Identity()\n        (conv_pwl): Conv2d(240, 80, kernel_size=(1, 1), stride=(1, 1), bias=False)\n        (bn3): BatchNormAct2d(\n          80, eps=1e-05, momentum=0.1, affine=True, track_running_stats=True\n          (drop): Identity()\n          (act): Identity()\n        )\n        (drop_path): Identity()\n      )\n      (1): InvertedResidual(\n        (conv_pw): Conv2d(80, 200, kernel_size=(1, 1), stride=(1, 1), bias=False)\n        (bn1): BatchNormAct2d(\n          200, eps=1e-05, momentum=0.1, affine=True, track_running_stats=True\n          (drop): Identity()\n          (act): Hardswish()\n        )\n        (conv_dw): Conv2d(200, 200, kernel_size=(3, 3), stride=(1, 1), padding=(1, 1), groups=200, bias=False)\n        (bn2): BatchNormAct2d(\n          200, eps=1e-05, momentum=0.1, affine=True, track_running_stats=True\n          (drop): Identity()\n          (act): Hardswish()\n        )\n        (aa): Identity()\n        (se): Identity()\n        (conv_pwl): Conv2d(200, 80, kernel_size=(1, 1), stride=(1, 1), bias=False)\n        (bn3): BatchNormAct2d(\n          80, eps=1e-05, momentum=0.1, affine=True, track_running_stats=True\n          (drop): Identity()\n          (act): Identity()\n        )\n        (drop_path): Identity()\n      )\n      (2): InvertedResidual(\n        (conv_pw): Conv2d(80, 184, kernel_size=(1, 1), stride=(1, 1), bias=False)\n        (bn1): BatchNormAct2d(\n          184, eps=1e-05, momentum=0.1, affine=True, track_running_stats=True\n          (drop): Identity()\n          (act): Hardswish()\n        )\n        (conv_dw): Conv2d(184, 184, kernel_size=(3, 3), stride=(1, 1), padding=(1, 1), groups=184, bias=False)\n        (bn2): BatchNormAct2d(\n          184, eps=1e-05, momentum=0.1, affine=True, track_running_stats=True\n          (drop): Identity()\n          (act): Hardswish()\n        )\n        (aa): Identity()\n        (se): Identity()\n        (conv_pwl): Conv2d(184, 80, kernel_size=(1, 1), stride=(1, 1), bias=False)\n        (bn3): BatchNormAct2d(\n          80, eps=1e-05, momentum=0.1, affine=True, track_running_stats=True\n          (drop): Identity()\n          (act): Identity()\n        )\n        (drop_path): Identity()\n      )\n      (3): InvertedResidual(\n        (conv_pw): Conv2d(80, 184, kernel_size=(1, 1), stride=(1, 1), bias=False)\n        (bn1): BatchNormAct2d(\n          184, eps=1e-05, momentum=0.1, affine=True, track_running_stats=True\n          (drop): Identity()\n          (act): Hardswish()\n        )\n        (conv_dw): Conv2d(184, 184, kernel_size=(3, 3), stride=(1, 1), padding=(1, 1), groups=184, bias=False)\n        (bn2): BatchNormAct2d(\n          184, eps=1e-05, momentum=0.1, affine=True, track_running_stats=True\n          (drop): Identity()\n          (act): Hardswish()\n        )\n        (aa): Identity()\n        (se): Identity()\n        (conv_pwl): Conv2d(184, 80, kernel_size=(1, 1), stride=(1, 1), bias=False)\n        (bn3): BatchNormAct2d(\n          80, eps=1e-05, momentum=0.1, affine=True, track_running_stats=True\n          (drop): Identity()\n          (act): Identity()\n        )\n        (drop_path): Identity()\n      )\n    )\n    (4): Sequential(\n      (0): InvertedResidual(\n        (conv_pw): Conv2d(80, 480, kernel_size=(1, 1), stride=(1, 1), bias=False)\n        (bn1): BatchNormAct2d(\n          480, eps=1e-05, momentum=0.1, affine=True, track_running_stats=True\n          (drop): Identity()\n          (act): Hardswish()\n        )\n        (conv_dw): Conv2d(480, 480, kernel_size=(3, 3), stride=(1, 1), padding=(1, 1), groups=480, bias=False)\n        (bn2): BatchNormAct2d(\n          480, eps=1e-05, momentum=0.1, affine=True, track_running_stats=True\n          (drop): Identity()\n          (act): Hardswish()\n        )\n        (aa): Identity()\n        (se): SqueezeExcite(\n          (conv_reduce): Conv2d(480, 120, kernel_size=(1, 1), stride=(1, 1))\n          (act1): ReLU(inplace=True)\n          (conv_expand): Conv2d(120, 480, kernel_size=(1, 1), stride=(1, 1))\n          (gate): Hardsigmoid()\n        )\n        (conv_pwl): Conv2d(480, 112, kernel_size=(1, 1), stride=(1, 1), bias=False)\n        (bn3): BatchNormAct2d(\n          112, eps=1e-05, momentum=0.1, affine=True, track_running_stats=True\n          (drop): Identity()\n          (act): Identity()\n        )\n        (drop_path): Identity()\n      )\n      (1): InvertedResidual(\n        (conv_pw): Conv2d(112, 672, kernel_size=(1, 1), stride=(1, 1), bias=False)\n        (bn1): BatchNormAct2d(\n          672, eps=1e-05, momentum=0.1, affine=True, track_running_stats=True\n          (drop): Identity()\n          (act): Hardswish()\n        )\n        (conv_dw): Conv2d(672, 672, kernel_size=(3, 3), stride=(1, 1), padding=(1, 1), groups=672, bias=False)\n        (bn2): BatchNormAct2d(\n          672, eps=1e-05, momentum=0.1, affine=True, track_running_stats=True\n          (drop): Identity()\n          (act): Hardswish()\n        )\n        (aa): Identity()\n        (se): SqueezeExcite(\n          (conv_reduce): Conv2d(672, 168, kernel_size=(1, 1), stride=(1, 1))\n          (act1): ReLU(inplace=True)\n          (conv_expand): Conv2d(168, 672, kernel_size=(1, 1), stride=(1, 1))\n          (gate): Hardsigmoid()\n        )\n        (conv_pwl): Conv2d(672, 112, kernel_size=(1, 1), stride=(1, 1), bias=False)\n        (bn3): BatchNormAct2d(\n          112, eps=1e-05, momentum=0.1, affine=True, track_running_stats=True\n          (drop): Identity()\n          (act): Identity()\n        )\n        (drop_path): Identity()\n      )\n    )\n    (5): Sequential(\n      (0): InvertedResidual(\n        (conv_pw): Conv2d(112, 672, kernel_size=(1, 1), stride=(1, 1), bias=False)\n        (bn1): BatchNormAct2d(\n          672, eps=1e-05, momentum=0.1, affine=True, track_running_stats=True\n          (drop): Identity()\n          (act): Hardswish()\n        )\n        (conv_dw): Conv2d(672, 672, kernel_size=(5, 5), stride=(2, 2), padding=(2, 2), groups=672, bias=False)\n        (bn2): BatchNormAct2d(\n          672, eps=1e-05, momentum=0.1, affine=True, track_running_stats=True\n          (drop): Identity()\n          (act): Hardswish()\n        )\n        (aa): Identity()\n        (se): SqueezeExcite(\n          (conv_reduce): Conv2d(672, 168, kernel_size=(1, 1), stride=(1, 1))\n          (act1): ReLU(inplace=True)\n          (conv_expand): Conv2d(168, 672, kernel_size=(1, 1), stride=(1, 1))\n          (gate): Hardsigmoid()\n        )\n        (conv_pwl): Conv2d(672, 160, kernel_size=(1, 1), stride=(1, 1), bias=False)\n        (bn3): BatchNormAct2d(\n          160, eps=1e-05, momentum=0.1, affine=True, track_running_stats=True\n          (drop): Identity()\n          (act): Identity()\n        )\n        (drop_path): Identity()\n      )\n      (1): InvertedResidual(\n        (conv_pw): Conv2d(160, 960, kernel_size=(1, 1), stride=(1, 1), bias=False)\n        (bn1): BatchNormAct2d(\n          960, eps=1e-05, momentum=0.1, affine=True, track_running_stats=True\n          (drop): Identity()\n          (act): Hardswish()\n        )\n        (conv_dw): Conv2d(960, 960, kernel_size=(5, 5), stride=(1, 1), padding=(2, 2), groups=960, bias=False)\n        (bn2): BatchNormAct2d(\n          960, eps=1e-05, momentum=0.1, affine=True, track_running_stats=True\n          (drop): Identity()\n          (act): Hardswish()\n        )\n        (aa): Identity()\n        (se): SqueezeExcite(\n          (conv_reduce): Conv2d(960, 240, kernel_size=(1, 1), stride=(1, 1))\n          (act1): ReLU(inplace=True)\n          (conv_expand): Conv2d(240, 960, kernel_size=(1, 1), stride=(1, 1))\n          (gate): Hardsigmoid()\n        )\n        (conv_pwl): Conv2d(960, 160, kernel_size=(1, 1), stride=(1, 1), bias=False)\n        (bn3): BatchNormAct2d(\n          160, eps=1e-05, momentum=0.1, affine=True, track_running_stats=True\n          (drop): Identity()\n          (act): Identity()\n        )\n        (drop_path): Identity()\n      )\n      (2): InvertedResidual(\n        (conv_pw): Conv2d(160, 960, kernel_size=(1, 1), stride=(1, 1), bias=False)\n        (bn1): BatchNormAct2d(\n          960, eps=1e-05, momentum=0.1, affine=True, track_running_stats=True\n          (drop): Identity()\n          (act): Hardswish()\n        )\n        (conv_dw): Conv2d(960, 960, kernel_size=(5, 5), stride=(1, 1), padding=(2, 2), groups=960, bias=False)\n        (bn2): BatchNormAct2d(\n          960, eps=1e-05, momentum=0.1, affine=True, track_running_stats=True\n          (drop): Identity()\n          (act): Hardswish()\n        )\n        (aa): Identity()\n        (se): SqueezeExcite(\n          (conv_reduce): Conv2d(960, 240, kernel_size=(1, 1), stride=(1, 1))\n          (act1): ReLU(inplace=True)\n          (conv_expand): Conv2d(240, 960, kernel_size=(1, 1), stride=(1, 1))\n          (gate): Hardsigmoid()\n        )\n        (conv_pwl): Conv2d(960, 160, kernel_size=(1, 1), stride=(1, 1), bias=False)\n        (bn3): BatchNormAct2d(\n          160, eps=1e-05, momentum=0.1, affine=True, track_running_stats=True\n          (drop): Identity()\n          (act): Identity()\n        )\n        (drop_path): Identity()\n      )\n    )\n    (6): Sequential(\n      (0): ConvBnAct(\n        (conv): Conv2d(160, 960, kernel_size=(1, 1), stride=(1, 1), bias=False)\n        (bn1): BatchNormAct2d(\n          960, eps=1e-05, momentum=0.1, affine=True, track_running_stats=True\n          (drop): Identity()\n          (act): Hardswish()\n        )\n        (aa): Identity()\n        (drop_path): Identity()\n      )\n    )\n  )\n  (global_pool): SelectAdaptivePool2d(pool_type=avg, flatten=Identity())\n  (conv_head): Conv2d(960, 1280, kernel_size=(1, 1), stride=(1, 1))\n  (norm_head): Identity()\n  (act2): Hardswish()\n  (flatten): Flatten(start_dim=1, end_dim=-1)\n  (classifier): Linear(in_features=1280, out_features=1000, bias=True)\n)"
     },
     "metadata": {}
    }
   ]
  },
  {
   "cell_type": "markdown",
   "source": [
    "## 2.1 .手动加载对应模型权重"
   ],
   "metadata": {
    "pycharm": {
     "name": "#%% md\n"
    }
   }
  },
  {
   "cell_type": "code",
   "source": [
    "import timm\n",
    "# 查看模型cfg，得到模型对应的网址\n",
    "model = timm.create_model('resnet18')#pretrained=True,\n",
    "print(model.default_cfg)#查看模型cfg"
   ],
   "metadata": {
    "execution": {
     "iopub.status.busy": "2024-08-21T11:48:32.578271Z",
     "iopub.execute_input": "2024-08-21T11:48:32.579110Z",
     "iopub.status.idle": "2024-08-21T11:48:32.797110Z",
     "shell.execute_reply.started": "2024-08-21T11:48:32.579075Z",
     "shell.execute_reply": "2024-08-21T11:48:32.796167Z"
    },
    "trusted": true,
    "pycharm": {
     "name": "#%%\n"
    }
   },
   "execution_count": 5,
   "outputs": [
    {
     "name": "stdout",
     "text": "{'url': 'https://github.com/huggingface/pytorch-image-models/releases/download/v0.1-rsb-weights/resnet18_a1_0-d63eafa0.pth', 'hf_hub_id': 'timm/resnet18.a1_in1k', 'architecture': 'resnet18', 'tag': 'a1_in1k', 'custom_load': False, 'input_size': (3, 224, 224), 'test_input_size': (3, 288, 288), 'fixed_input_size': False, 'interpolation': 'bicubic', 'crop_pct': 0.95, 'test_crop_pct': 1.0, 'crop_mode': 'center', 'mean': (0.485, 0.456, 0.406), 'std': (0.229, 0.224, 0.225), 'num_classes': 1000, 'pool_size': (7, 7), 'first_conv': 'conv1', 'classifier': 'fc', 'origin_url': 'https://github.com/huggingface/pytorch-image-models', 'paper_ids': 'arXiv:2110.00476'}\n",
     "output_type": "stream"
    }
   ]
  },
  {
   "cell_type": "code",
   "source": [
    "# 手动下载预训练模型\n",
    "pre_path = '/kaggle/input/resnet18/resnet18_a1_0-d63eafa0.pth'\n",
    "model = timm.create_model('resnet18', pretrained=True, \n",
    "                          #num_classes=2,    # 调整最后一层的分类个数\n",
    "                          pretrained_cfg_overlay=dict(file=pre_path))  # ----模型预训练权重.pth地址"
   ],
   "metadata": {
    "trusted": true,
    "pycharm": {
     "name": "#%%\n"
    }
   },
   "execution_count": null,
   "outputs": []
  },
  {
   "cell_type": "code",
   "source": [
    "# 查看模型输出效果\n",
    "import torch\n",
    "x = torch.randn(1,3,224,224)\n",
    "output = model(x)\n",
    "output.shape"
   ],
   "metadata": {
    "execution": {
     "iopub.status.busy": "2024-07-21T16:10:43.961938Z",
     "iopub.execute_input": "2024-07-21T16:10:43.962253Z",
     "iopub.status.idle": "2024-07-21T16:10:44.028573Z",
     "shell.execute_reply.started": "2024-07-21T16:10:43.962226Z",
     "shell.execute_reply": "2024-07-21T16:10:44.027601Z"
    },
    "trusted": true,
    "pycharm": {
     "name": "#%%\n"
    }
   },
   "execution_count": null,
   "outputs": []
  },
  {
   "cell_type": "markdown",
   "source": [
    "## 2.2 计算模型参数量"
   ],
   "metadata": {
    "pycharm": {
     "name": "#%% md\n"
    }
   }
  },
  {
   "cell_type": "code",
   "source": [
    "!pip install thop"
   ],
   "metadata": {
    "execution": {
     "iopub.status.busy": "2024-08-21T11:51:14.374884Z",
     "iopub.execute_input": "2024-08-21T11:51:14.375574Z",
     "iopub.status.idle": "2024-08-21T11:51:27.215061Z",
     "shell.execute_reply.started": "2024-08-21T11:51:14.375540Z",
     "shell.execute_reply": "2024-08-21T11:51:27.214093Z"
    },
    "trusted": true,
    "pycharm": {
     "name": "#%%\n"
    }
   },
   "execution_count": 7,
   "outputs": [
    {
     "name": "stdout",
     "text": "Collecting thop\n  Downloading thop-0.1.1.post2209072238-py3-none-any.whl.metadata (2.7 kB)\nRequirement already satisfied: torch in /opt/conda/lib/python3.10/site-packages (from thop) (2.1.2)\nRequirement already satisfied: filelock in /opt/conda/lib/python3.10/site-packages (from torch->thop) (3.13.1)\nRequirement already satisfied: typing-extensions in /opt/conda/lib/python3.10/site-packages (from torch->thop) (4.9.0)\nRequirement already satisfied: sympy in /opt/conda/lib/python3.10/site-packages (from torch->thop) (1.13.0)\nRequirement already satisfied: networkx in /opt/conda/lib/python3.10/site-packages (from torch->thop) (3.2.1)\nRequirement already satisfied: jinja2 in /opt/conda/lib/python3.10/site-packages (from torch->thop) (3.1.2)\nRequirement already satisfied: fsspec in /opt/conda/lib/python3.10/site-packages (from torch->thop) (2024.5.0)\nRequirement already satisfied: MarkupSafe>=2.0 in /opt/conda/lib/python3.10/site-packages (from jinja2->torch->thop) (2.1.3)\nRequirement already satisfied: mpmath<1.4,>=1.1.0 in /opt/conda/lib/python3.10/site-packages (from sympy->torch->thop) (1.3.0)\nDownloading thop-0.1.1.post2209072238-py3-none-any.whl (15 kB)\nInstalling collected packages: thop\nSuccessfully installed thop-0.1.1.post2209072238\n",
     "output_type": "stream"
    }
   ]
  },
  {
   "cell_type": "code",
   "source": [
    "import timm\n",
    "model = timm.create_model('resnest14d', pretrained=True, num_classes=2)\n",
    "\n",
    "# 计算模型参数量\n",
    "from thop import profile\n",
    "import torch\n",
    "\n",
    "input = torch.randn(1, 3, 224, 224)    # 随机输入\n",
    "flops, params = profile(model, inputs=(input, ))    #计算量，参数量\n",
    "print(flops, params) #计算量，参数量"
   ],
   "metadata": {
    "execution": {
     "iopub.status.busy": "2024-08-21T11:51:28.909865Z",
     "iopub.execute_input": "2024-08-21T11:51:28.910587Z",
     "iopub.status.idle": "2024-08-21T11:51:29.989545Z",
     "shell.execute_reply.started": "2024-08-21T11:51:28.910549Z",
     "shell.execute_reply": "2024-08-21T11:51:29.988596Z"
    },
    "trusted": true,
    "pycharm": {
     "name": "#%%\n"
    }
   },
   "execution_count": 8,
   "outputs": [
    {
     "output_type": "display_data",
     "data": {
      "text/plain": "model.safetensors:   0%|          | 0.00/42.6M [00:00<?, ?B/s]",
      "application/vnd.jupyter.widget-view+json": {
       "version_major": 2,
       "version_minor": 0,
       "model_id": "9b31bebefce7452c99a9121044ae0b45"
      }
     },
     "metadata": {}
    },
    {
     "name": "stdout",
     "text": "[INFO] Register count_convNd() for <class 'torch.nn.modules.conv.Conv2d'>.\n[INFO] Register count_normalization() for <class 'torch.nn.modules.batchnorm.BatchNorm2d'>.\n[INFO] Register zero_ops() for <class 'torch.nn.modules.activation.ReLU'>.\n[INFO] Register zero_ops() for <class 'torch.nn.modules.container.Sequential'>.\n[INFO] Register zero_ops() for <class 'torch.nn.modules.pooling.MaxPool2d'>.\n[INFO] Register count_avgpool() for <class 'torch.nn.modules.pooling.AvgPool2d'>.\n[INFO] Register count_adap_avgpool() for <class 'torch.nn.modules.pooling.AdaptiveAvgPool2d'>.\n[INFO] Register count_linear() for <class 'torch.nn.modules.linear.Linear'>.\n2777295232.0 8566786.0\n",
     "output_type": "stream"
    }
   ]
  },
  {
   "cell_type": "code",
   "source": [
    "# 转换为M\n",
    "total_megabytes = params / (1024 * 1024)\n",
    "print(\"Total parameters in MB:\", total_megabytes)"
   ],
   "metadata": {
    "execution": {
     "iopub.status.busy": "2024-08-21T11:51:58.252182Z",
     "iopub.execute_input": "2024-08-21T11:51:58.252836Z",
     "iopub.status.idle": "2024-08-21T11:51:58.258239Z",
     "shell.execute_reply.started": "2024-08-21T11:51:58.252803Z",
     "shell.execute_reply": "2024-08-21T11:51:58.257346Z"
    },
    "trusted": true,
    "pycharm": {
     "name": "#%%\n"
    }
   },
   "execution_count": 9,
   "outputs": [
    {
     "name": "stdout",
     "text": "Total parameters in MB: 8.169923782348633\n",
     "output_type": "stream"
    }
   ]
  },
  {
   "cell_type": "code",
   "source": [
    "print(f\"FLOPs: {flops / 1e9} G\")  # 打印计算量（以十亿次浮点运算为单位）  \n",
    "print(f\"Params: {params / 1e6} M\")  # 打印参数量（以百万为单位）"
   ],
   "metadata": {
    "execution": {
     "iopub.status.busy": "2024-08-21T11:52:17.408218Z",
     "iopub.execute_input": "2024-08-21T11:52:17.409084Z",
     "iopub.status.idle": "2024-08-21T11:52:17.413793Z",
     "shell.execute_reply.started": "2024-08-21T11:52:17.409047Z",
     "shell.execute_reply": "2024-08-21T11:52:17.412815Z"
    },
    "trusted": true,
    "pycharm": {
     "name": "#%%\n"
    }
   },
   "execution_count": 10,
   "outputs": [
    {
     "name": "stdout",
     "text": "FLOPs: 2.777295232 G\nParams: 8.566786 M\n",
     "output_type": "stream"
    }
   ]
  },
  {
   "cell_type": "markdown",
   "source": [
    "# 3.查看模型列表"
   ],
   "metadata": {
    "pycharm": {
     "name": "#%% md\n"
    }
   }
  },
  {
   "cell_type": "code",
   "source": [
    "import timm\n",
    "from pprint import pprint\n",
    "#model_names = timm.list_models(pretrained=True)   # 所有有预训练权重的模型\n",
    "# 根据模型名称进行过滤，查看有哪些模型\n",
    "model_names = timm.list_models('*resne*t*')\n",
    "pprint(model_names[:10])   # 回车输出"
   ],
   "metadata": {
    "execution": {
     "iopub.status.busy": "2024-08-21T11:53:19.666907Z",
     "iopub.execute_input": "2024-08-21T11:53:19.667300Z",
     "iopub.status.idle": "2024-08-21T11:53:19.674999Z",
     "shell.execute_reply.started": "2024-08-21T11:53:19.667268Z",
     "shell.execute_reply": "2024-08-21T11:53:19.673999Z"
    },
    "trusted": true,
    "pycharm": {
     "name": "#%%\n"
    }
   },
   "execution_count": 12,
   "outputs": [
    {
     "name": "stdout",
     "text": "['bat_resnext26ts',\n 'cspresnet50',\n 'cspresnet50d',\n 'cspresnet50w',\n 'cspresnext50',\n 'eca_resnet33ts',\n 'eca_resnext26ts',\n 'ecaresnet26t',\n 'ecaresnet50d',\n 'ecaresnet50d_pruned']\n",
     "output_type": "stream"
    }
   ]
  },
  {
   "cell_type": "code",
   "source": [
    "import timm\n",
    "from pprint import pprint\n",
    "# 根据模型名称进行过滤\n",
    "model_names = timm.list_models('*in1k')\n",
    "pprint(model_names[:10])   # 回车输出"
   ],
   "metadata": {
    "execution": {
     "iopub.status.busy": "2024-08-21T11:53:29.697879Z",
     "iopub.execute_input": "2024-08-21T11:53:29.698668Z",
     "iopub.status.idle": "2024-08-21T11:53:29.704355Z",
     "shell.execute_reply.started": "2024-08-21T11:53:29.698633Z",
     "shell.execute_reply": "2024-08-21T11:53:29.703356Z"
    },
    "trusted": true,
    "pycharm": {
     "name": "#%%\n"
    }
   },
   "execution_count": 14,
   "outputs": [
    {
     "name": "stdout",
     "text": "[]\n",
     "output_type": "stream"
    }
   ]
  },
  {
   "cell_type": "markdown",
   "source": [
    "# 4.模型微调最后一层"
   ],
   "metadata": {
    "pycharm": {
     "name": "#%% md\n"
    }
   }
  },
  {
   "cell_type": "code",
   "source": [
    "NUM_FINETUNE_CLASSES = 2   # 设置分类类别数\n",
    "model = timm.create_model('mobilenetv3_large_100', pretrained=True, \n",
    "                          num_classes=NUM_FINETUNE_CLASSES)   # 设置num_classes即可改变最后输出结果"
   ],
   "metadata": {
    "execution": {
     "iopub.status.busy": "2024-08-21T11:54:28.984897Z",
     "iopub.execute_input": "2024-08-21T11:54:28.985251Z",
     "iopub.status.idle": "2024-08-21T11:54:29.211240Z",
     "shell.execute_reply.started": "2024-08-21T11:54:28.985222Z",
     "shell.execute_reply": "2024-08-21T11:54:29.210272Z"
    },
    "trusted": true,
    "pycharm": {
     "name": "#%%\n"
    }
   },
   "execution_count": 16,
   "outputs": []
  },
  {
   "cell_type": "code",
   "source": [
    "model.classifier     # 查看最后一层的分类器"
   ],
   "metadata": {
    "execution": {
     "iopub.status.busy": "2024-08-21T11:54:31.546022Z",
     "iopub.execute_input": "2024-08-21T11:54:31.546377Z",
     "iopub.status.idle": "2024-08-21T11:54:31.552729Z",
     "shell.execute_reply.started": "2024-08-21T11:54:31.546348Z",
     "shell.execute_reply": "2024-08-21T11:54:31.551753Z"
    },
    "trusted": true,
    "pycharm": {
     "name": "#%%\n"
    }
   },
   "execution_count": 17,
   "outputs": [
    {
     "execution_count": 17,
     "output_type": "execute_result",
     "data": {
      "text/plain": "Linear(in_features=1280, out_features=2, bias=True)"
     },
     "metadata": {}
    }
   ]
  },
  {
   "cell_type": "markdown",
   "source": [
    "# 5.特征提取\n",
    "\n",
    "用于迁移学习"
   ],
   "metadata": {
    "pycharm": {
     "name": "#%% md\n"
    }
   }
  },
  {
   "cell_type": "code",
   "source": [
    "import timm\n",
    "import torch\n",
    "x = torch.randn(1, 3, 224, 224)\n",
    "model = timm.create_model('mobilenetv3_large_100', pretrained=True)\n",
    "features = model.forward_features(x)\n",
    "print(features.shape) # 即倒数第二层，在经过最后全连接层之前"
   ],
   "metadata": {
    "execution": {
     "iopub.status.busy": "2024-08-21T11:56:42.722076Z",
     "iopub.execute_input": "2024-08-21T11:56:42.722464Z",
     "iopub.status.idle": "2024-08-21T11:56:43.037020Z",
     "shell.execute_reply.started": "2024-08-21T11:56:42.722435Z",
     "shell.execute_reply": "2024-08-21T11:56:43.036048Z"
    },
    "trusted": true,
    "pycharm": {
     "name": "#%%\n"
    }
   },
   "execution_count": 18,
   "outputs": [
    {
     "name": "stdout",
     "text": "torch.Size([1, 960, 7, 7])\n",
     "output_type": "stream"
    }
   ]
  },
  {
   "cell_type": "code",
   "source": [
    "# 获取倒数第二层，线性层的特征: 如：512*1\n",
    "import torch.nn as nn\n",
    "model.fc = nn.Identity()    # 修改线性层为单位映射 y=x"
   ],
   "metadata": {
    "execution": {
     "iopub.status.busy": "2024-08-21T11:57:27.831921Z",
     "iopub.execute_input": "2024-08-21T11:57:27.832288Z",
     "iopub.status.idle": "2024-08-21T11:57:27.836840Z",
     "shell.execute_reply.started": "2024-08-21T11:57:27.832259Z",
     "shell.execute_reply": "2024-08-21T11:57:27.835771Z"
    },
    "trusted": true,
    "pycharm": {
     "name": "#%%\n"
    }
   },
   "execution_count": 20,
   "outputs": []
  },
  {
   "cell_type": "markdown",
   "source": [
    "## 可视化网络结构\n",
    "\n",
    "参考：https://datawhalechina.github.io/thorough-pytorch/%E7%AC%AC%E4%B8%83%E7%AB%A0/7.1%20%E5%8F%AF%E8%A7%86%E5%8C%96%E7%BD%91%E7%BB%9C%E7%BB%93%E6%9E%84.html\n",
    "\n",
    "torchvision --- summary(model)"
   ],
   "metadata": {
    "pycharm": {
     "name": "#%% md\n"
    }
   }
  },
  {
   "cell_type": "code",
   "source": [
    "import torchvision.models as models\n",
    "from torchinfo import summary\n",
    "summary(model, (1, 3, 224, 224)) # 模型， 输入"
   ],
   "metadata": {
    "execution": {
     "iopub.status.busy": "2024-08-21T11:57:43.445842Z",
     "iopub.execute_input": "2024-08-21T11:57:43.446679Z",
     "iopub.status.idle": "2024-08-21T11:57:44.157079Z",
     "shell.execute_reply.started": "2024-08-21T11:57:43.446642Z",
     "shell.execute_reply": "2024-08-21T11:57:44.156147Z"
    },
    "trusted": true,
    "pycharm": {
     "name": "#%%\n"
    }
   },
   "execution_count": 21,
   "outputs": [
    {
     "execution_count": 21,
     "output_type": "execute_result",
     "data": {
      "text/plain": "===============================================================================================\nLayer (type:depth-idx)                        Output Shape              Param #\n===============================================================================================\nMobileNetV3                                   [1, 1000]                 --\n├─Conv2d: 1-1                                 [1, 16, 112, 112]         432\n├─BatchNormAct2d: 1-2                         [1, 16, 112, 112]         32\n│    └─Identity: 2-1                          [1, 16, 112, 112]         --\n│    └─Hardswish: 2-2                         [1, 16, 112, 112]         --\n├─Sequential: 1-3                             [1, 960, 7, 7]            --\n│    └─Sequential: 2-3                        [1, 16, 112, 112]         --\n│    │    └─DepthwiseSeparableConv: 3-1       [1, 16, 112, 112]         464\n│    └─Sequential: 2-4                        [1, 24, 56, 56]           --\n│    │    └─InvertedResidual: 3-2             [1, 24, 56, 56]           3,440\n│    │    └─InvertedResidual: 3-3             [1, 24, 56, 56]           4,440\n│    └─Sequential: 2-5                        [1, 40, 28, 28]           --\n│    │    └─InvertedResidual: 3-4             [1, 40, 28, 28]           10,328\n│    │    └─InvertedResidual: 3-5             [1, 40, 28, 28]           20,992\n│    │    └─InvertedResidual: 3-6             [1, 40, 28, 28]           20,992\n│    └─Sequential: 2-6                        [1, 80, 14, 14]           --\n│    │    └─InvertedResidual: 3-7             [1, 80, 14, 14]           32,080\n│    │    └─InvertedResidual: 3-8             [1, 80, 14, 14]           34,760\n│    │    └─InvertedResidual: 3-9             [1, 80, 14, 14]           31,992\n│    │    └─InvertedResidual: 3-10            [1, 80, 14, 14]           31,992\n│    └─Sequential: 2-7                        [1, 112, 14, 14]          --\n│    │    └─InvertedResidual: 3-11            [1, 112, 14, 14]          214,424\n│    │    └─InvertedResidual: 3-12            [1, 112, 14, 14]          386,120\n│    └─Sequential: 2-8                        [1, 160, 7, 7]            --\n│    │    └─InvertedResidual: 3-13            [1, 160, 7, 7]            429,224\n│    │    └─InvertedResidual: 3-14            [1, 160, 7, 7]            797,360\n│    │    └─InvertedResidual: 3-15            [1, 160, 7, 7]            797,360\n│    └─Sequential: 2-9                        [1, 960, 7, 7]            --\n│    │    └─ConvBnAct: 3-16                   [1, 960, 7, 7]            155,520\n├─SelectAdaptivePool2d: 1-4                   [1, 960, 1, 1]            --\n│    └─AdaptiveAvgPool2d: 2-10                [1, 960, 1, 1]            --\n│    └─Identity: 2-11                         [1, 960, 1, 1]            --\n├─Conv2d: 1-5                                 [1, 1280, 1, 1]           1,230,080\n├─Identity: 1-6                               [1, 1280, 1, 1]           --\n├─Hardswish: 1-7                              [1, 1280, 1, 1]           --\n├─Flatten: 1-8                                [1, 1280]                 --\n├─Linear: 1-9                                 [1, 1000]                 1,281,000\n===============================================================================================\nTotal params: 5,483,032\nTrainable params: 5,483,032\nNon-trainable params: 0\nTotal mult-adds (M): 216.60\n===============================================================================================\nInput size (MB): 0.60\nForward/backward pass size (MB): 35.26\nParams size (MB): 21.83\nEstimated Total Size (MB): 57.69\n==============================================================================================="
     },
     "metadata": {}
    }
   ]
  },
  {
   "cell_type": "markdown",
   "source": [
    "## 可视化模型结构（使用模型权重）\n",
    "\n",
    "当我们有模型权重文件（*.pth）后，我们可以使用 netron 来可视化模型结构，更加直观。\n",
    "\n",
    "netron 网址为：https://netron.app/"
   ],
   "metadata": {
    "pycharm": {
     "name": "#%% md\n"
    }
   }
  },
  {
   "cell_type": "markdown",
   "source": [
    "resnet18的网络结构"
   ],
   "metadata": {
    "pycharm": {
     "name": "#%% md\n"
    }
   }
  },
  {
   "cell_type": "markdown",
   "source": [
    "# 6.查看/设定模型的图像增强方法"
   ],
   "metadata": {
    "pycharm": {
     "name": "#%% md\n"
    }
   }
  },
  {
   "cell_type": "code",
   "source": [
    "# 查看预训练模型的相关配置（全部）\n",
    "model.pretrained_cfg"
   ],
   "metadata": {
    "execution": {
     "iopub.status.busy": "2024-08-21T12:01:19.548947Z",
     "iopub.execute_input": "2024-08-21T12:01:19.549342Z",
     "iopub.status.idle": "2024-08-21T12:01:19.556155Z",
     "shell.execute_reply.started": "2024-08-21T12:01:19.549312Z",
     "shell.execute_reply": "2024-08-21T12:01:19.555149Z"
    },
    "trusted": true,
    "pycharm": {
     "name": "#%%\n"
    }
   },
   "execution_count": 22,
   "outputs": [
    {
     "execution_count": 22,
     "output_type": "execute_result",
     "data": {
      "text/plain": "{'url': 'https://github.com/rwightman/pytorch-image-models/releases/download/v0.1-weights/mobilenetv3_large_100_ra-f55367f5.pth',\n 'hf_hub_id': 'timm/mobilenetv3_large_100.ra_in1k',\n 'architecture': 'mobilenetv3_large_100',\n 'tag': 'ra_in1k',\n 'custom_load': False,\n 'input_size': (3, 224, 224),\n 'fixed_input_size': False,\n 'interpolation': 'bicubic',\n 'crop_pct': 0.875,\n 'crop_mode': 'center',\n 'mean': (0.485, 0.456, 0.406),\n 'std': (0.229, 0.224, 0.225),\n 'num_classes': 1000,\n 'pool_size': (7, 7),\n 'first_conv': 'conv_stem',\n 'classifier': 'classifier'}"
     },
     "metadata": {}
    }
   ]
  },
  {
   "cell_type": "code",
   "source": [
    "# 仅解析与数据相关的配置\n",
    "timm.data.resolve_data_config(model.pretrained_cfg)\n",
    "# 'crop_mode': 'center' 中心裁剪\n",
    "# 'crop_pct'裁剪的比例为 0.875"
   ],
   "metadata": {
    "execution": {
     "iopub.status.busy": "2024-08-21T12:02:10.515563Z",
     "iopub.execute_input": "2024-08-21T12:02:10.515938Z",
     "iopub.status.idle": "2024-08-21T12:02:10.522596Z",
     "shell.execute_reply.started": "2024-08-21T12:02:10.515910Z",
     "shell.execute_reply": "2024-08-21T12:02:10.521632Z"
    },
    "trusted": true,
    "pycharm": {
     "name": "#%%\n"
    }
   },
   "execution_count": 23,
   "outputs": [
    {
     "execution_count": 23,
     "output_type": "execute_result",
     "data": {
      "text/plain": "{'input_size': (3, 224, 224),\n 'interpolation': 'bicubic',\n 'mean': (0.485, 0.456, 0.406),\n 'std': (0.229, 0.224, 0.225),\n 'crop_pct': 0.875,\n 'crop_mode': 'center'}"
     },
     "metadata": {}
    }
   ]
  },
  {
   "cell_type": "markdown",
   "source": [
    "***将其转化为Compose形式***\n",
    "\n",
    "-- timm.data.create_transform"
   ],
   "metadata": {
    "pycharm": {
     "name": "#%% md\n"
    }
   }
  },
  {
   "cell_type": "code",
   "source": [
    "# 定义该模型的数据转换方法，用于新数据\n",
    "data_cfg = timm.data.resolve_data_config(model.pretrained_cfg)    # 保存数据配置方法\n",
    "transform = timm.data.create_transform(**data_cfg)   # 创建转换方法，类似 transforms.Compose\n",
    "transform\n",
    "#1.将图像大小调整为 256x256 像素，使用双三次插值（bicubic）进行插值操作\n",
    "#2.对调整大小后的图像进行中心裁剪，裁剪尺寸为 (224, 224)"
   ],
   "metadata": {
    "execution": {
     "iopub.status.busy": "2024-08-21T12:02:28.428117Z",
     "iopub.execute_input": "2024-08-21T12:02:28.428520Z",
     "iopub.status.idle": "2024-08-21T12:02:28.453244Z",
     "shell.execute_reply.started": "2024-08-21T12:02:28.428488Z",
     "shell.execute_reply": "2024-08-21T12:02:28.452313Z"
    },
    "trusted": true,
    "pycharm": {
     "name": "#%%\n"
    }
   },
   "execution_count": 24,
   "outputs": [
    {
     "execution_count": 24,
     "output_type": "execute_result",
     "data": {
      "text/plain": "Compose(\n    Resize(size=256, interpolation=bicubic, max_size=None, antialias=warn)\n    CenterCrop(size=(224, 224))\n    ToTensor()\n    Normalize(mean=tensor([0.4850, 0.4560, 0.4060]), std=tensor([0.2290, 0.2240, 0.2250]))\n)"
     },
     "metadata": {}
    }
   ]
  },
  {
   "cell_type": "markdown",
   "source": [
    "# 7.使用预训练模型进行推断"
   ],
   "metadata": {
    "pycharm": {
     "name": "#%% md\n"
    }
   }
  },
  {
   "cell_type": "markdown",
   "source": [
    "## （1）待预测的图片"
   ],
   "metadata": {
    "pycharm": {
     "name": "#%% md\n"
    }
   }
  },
  {
   "cell_type": "code",
   "source": [
    "import requests\n",
    "from PIL import Image\n",
    "from io import BytesIO\n",
    "#url = 'https://datasets-server.huggingface.co/assets/imagenet-1k/--/default/test/12/image/image.jpg'\n",
    "url = 'http://img.sccnn.com/simg/340/03378.jpg'\n",
    "image = Image.open(requests.get(url, stream=True).raw)\n",
    "image"
   ],
   "metadata": {
    "execution": {
     "iopub.status.busy": "2024-08-21T12:04:04.277422Z",
     "iopub.execute_input": "2024-08-21T12:04:04.277793Z",
     "iopub.status.idle": "2024-08-21T12:04:05.135631Z",
     "shell.execute_reply.started": "2024-08-21T12:04:04.277762Z",
     "shell.execute_reply": "2024-08-21T12:04:05.134695Z"
    },
    "trusted": true,
    "pycharm": {
     "name": "#%%\n"
    }
   },
   "execution_count": 25,
   "outputs": [
    {
     "execution_count": 25,
     "output_type": "execute_result",
     "data": {
      "text/plain": "<PIL.JpegImagePlugin.JpegImageFile image mode=RGB size=150x100>",
      "image/png": "[encoded data removed]"
     },
     "metadata": {}
    }
   ]
  },
  {
   "cell_type": "markdown",
   "source": [
    "## （2）加载训练好的模型，获取数据预处理方法"
   ],
   "metadata": {
    "pycharm": {
     "name": "#%% md\n"
    }
   }
  },
  {
   "cell_type": "code",
   "source": [
    "# 加载模型，开启eval模式（不参与训练）\n",
    "model = timm.create_model('mobilenetv3_large_100', pretrained=True).eval()\n",
    "# 模型的数据预处理方法\n",
    "transform = timm.data.create_transform(\n",
    "    **timm.data.resolve_data_config(model.pretrained_cfg)\n",
    ")"
   ],
   "metadata": {
    "execution": {
     "iopub.status.busy": "2024-08-21T12:04:27.827362Z",
     "iopub.execute_input": "2024-08-21T12:04:27.828219Z",
     "iopub.status.idle": "2024-08-21T12:04:28.121154Z",
     "shell.execute_reply.started": "2024-08-21T12:04:27.828188Z",
     "shell.execute_reply": "2024-08-21T12:04:28.119893Z"
    },
    "trusted": true,
    "pycharm": {
     "name": "#%%\n"
    }
   },
   "execution_count": 26,
   "outputs": []
  },
  {
   "cell_type": "code",
   "source": [
    "# 对图片进行数据预处理\n",
    "image_tensor = transform(image)\n",
    "image_tensor.shape"
   ],
   "metadata": {
    "execution": {
     "iopub.status.busy": "2024-08-21T12:04:36.428247Z",
     "iopub.execute_input": "2024-08-21T12:04:36.428919Z",
     "iopub.status.idle": "2024-08-21T12:04:36.442513Z",
     "shell.execute_reply.started": "2024-08-21T12:04:36.428885Z",
     "shell.execute_reply": "2024-08-21T12:04:36.441488Z"
    },
    "trusted": true,
    "pycharm": {
     "name": "#%%\n"
    }
   },
   "execution_count": 27,
   "outputs": [
    {
     "execution_count": 27,
     "output_type": "execute_result",
     "data": {
      "text/plain": "torch.Size([3, 224, 224])"
     },
     "metadata": {}
    }
   ]
  },
  {
   "cell_type": "markdown",
   "source": [
    "## （3）调用模型预测"
   ],
   "metadata": {
    "pycharm": {
     "name": "#%% md\n"
    }
   }
  },
  {
   "cell_type": "code",
   "source": [
    "# 输入：[1, 3, 224, 224]\n",
    "output = model(image_tensor.unsqueeze(0)) #将单张图像数据转换为模型可以处理的批量输入格式\n",
    "output.shape"
   ],
   "metadata": {
    "execution": {
     "iopub.status.busy": "2024-08-21T12:04:45.139474Z",
     "iopub.execute_input": "2024-08-21T12:04:45.139829Z",
     "iopub.status.idle": "2024-08-21T12:04:45.201620Z",
     "shell.execute_reply.started": "2024-08-21T12:04:45.139802Z",
     "shell.execute_reply": "2024-08-21T12:04:45.200792Z"
    },
    "trusted": true,
    "pycharm": {
     "name": "#%%\n"
    }
   },
   "execution_count": 28,
   "outputs": [
    {
     "execution_count": 28,
     "output_type": "execute_result",
     "data": {
      "text/plain": "torch.Size([1, 1000])"
     },
     "metadata": {}
    }
   ]
  },
  {
   "cell_type": "markdown",
   "source": [
    "## （4）用softmax获取预测概率"
   ],
   "metadata": {
    "pycharm": {
     "name": "#%% md\n"
    }
   }
  },
  {
   "cell_type": "code",
   "source": [
    "probabilities = torch.nn.functional.softmax(output[0], dim=0)\n",
    "probabilities.shape"
   ],
   "metadata": {
    "execution": {
     "iopub.status.busy": "2024-08-21T12:04:49.860353Z",
     "iopub.execute_input": "2024-08-21T12:04:49.860718Z",
     "iopub.status.idle": "2024-08-21T12:04:49.867835Z",
     "shell.execute_reply.started": "2024-08-21T12:04:49.860691Z",
     "shell.execute_reply": "2024-08-21T12:04:49.866896Z"
    },
    "trusted": true,
    "pycharm": {
     "name": "#%%\n"
    }
   },
   "execution_count": 29,
   "outputs": [
    {
     "execution_count": 29,
     "output_type": "execute_result",
     "data": {
      "text/plain": "torch.Size([1000])"
     },
     "metadata": {}
    }
   ]
  },
  {
   "cell_type": "code",
   "source": [
    "# 获取概率前5的值和索引\n",
    "values, indices = torch.topk(probabilities, 5)\n",
    "values, indices"
   ],
   "metadata": {
    "execution": {
     "iopub.status.busy": "2024-08-21T12:04:58.138801Z",
     "iopub.execute_input": "2024-08-21T12:04:58.139142Z",
     "iopub.status.idle": "2024-08-21T12:04:58.150440Z",
     "shell.execute_reply.started": "2024-08-21T12:04:58.139118Z",
     "shell.execute_reply": "2024-08-21T12:04:58.149250Z"
    },
    "trusted": true,
    "pycharm": {
     "name": "#%%\n"
    }
   },
   "execution_count": 30,
   "outputs": [
    {
     "execution_count": 30,
     "output_type": "execute_result",
     "data": {
      "text/plain": "(tensor([0.3302, 0.1603, 0.0517, 0.0153, 0.0104], grad_fn=<TopkBackward0>),\n tensor([279, 258, 270, 278, 259]))"
     },
     "metadata": {}
    }
   ]
  },
  {
   "cell_type": "markdown",
   "source": [
    "## （5）根据索引号对应分类\n"
   ],
   "metadata": {
    "pycharm": {
     "name": "#%% md\n"
    }
   }
  },
  {
   "cell_type": "code",
   "source": [
    "IMAGENET_1k_URL = 'https://storage.googleapis.com/bit_models/ilsvrc2012_wordnet_lemmas.txt'\n",
    "IMAGENET_1k_LABELS = requests.get(IMAGENET_1k_URL).text.strip().split('\\n')\n",
    "[{'label': IMAGENET_1k_LABELS[idx], 'value': val.item()} for val, idx in zip(values, indices)]"
   ],
   "metadata": {
    "execution": {
     "iopub.status.busy": "2024-08-21T12:05:03.975836Z",
     "iopub.execute_input": "2024-08-21T12:05:03.976220Z",
     "iopub.status.idle": "2024-08-21T12:05:05.065497Z",
     "shell.execute_reply.started": "2024-08-21T12:05:03.976193Z",
     "shell.execute_reply": "2024-08-21T12:05:05.064549Z"
    },
    "trusted": true,
    "pycharm": {
     "name": "#%%\n"
    }
   },
   "execution_count": 31,
   "outputs": [
    {
     "execution_count": 31,
     "output_type": "execute_result",
     "data": {
      "text/plain": "[{'label': 'Arctic_fox, white_fox, Alopex_lagopus',\n  'value': 0.3302437365055084},\n {'label': 'Samoyed, Samoyede', 'value': 0.1602587103843689},\n {'label': 'white_wolf, Arctic_wolf, Canis_lupus_tundrarum',\n  'value': 0.05171625688672066},\n {'label': 'kit_fox, Vulpes_macrotis', 'value': 0.015253503806889057},\n {'label': 'Pomeranian', 'value': 0.010353856720030308}]"
     },
     "metadata": {}
    }
   ]
  },
  {
   "cell_type": "markdown",
   "source": [
    "# 8.使用timm中可复用的模块\n",
    "\n",
    "https://blog.csdn.net/a486259/article/details/123525448"
   ],
   "metadata": {
    "pycharm": {
     "name": "#%% md\n"
    }
   }
  },
  {
   "cell_type": "code",
   "source": [
    "# 1.模块导入\n",
    "from timm.models.vision_transformer import PatchEmbed, Block,Attention,Mlp\n",
    "from timm.models.vision_transformer_hybrid import HybridEmbed\n",
    "#from timm.models.levit import Residual"
   ],
   "metadata": {
    "execution": {
     "iopub.status.busy": "2024-08-21T12:05:35.726941Z",
     "iopub.execute_input": "2024-08-21T12:05:35.727694Z",
     "iopub.status.idle": "2024-08-21T12:05:35.732128Z",
     "shell.execute_reply.started": "2024-08-21T12:05:35.727657Z",
     "shell.execute_reply": "2024-08-21T12:05:35.731086Z"
    },
    "trusted": true,
    "pycharm": {
     "name": "#%%\n"
    }
   },
   "execution_count": 33,
   "outputs": []
  },
  {
   "cell_type": "code",
   "source": [
    "import torch.nn as nn\n",
    "\n",
    "# 2.具体模块的实现方式分析\n",
    "class Residual(nn.Module):\n",
    "    def __init__(self, m, drop):\n",
    "        super().__init__()\n",
    "        self.m = m\n",
    "        self.drop = drop\n",
    " \n",
    "    def forward(self, x):\n",
    "        if self.training and self.drop > 0:\n",
    "            return x + self.m(x) * torch.rand(\n",
    "                x.size(0), 1, 1, device=x.device).ge_(self.drop).div(1 - self.drop).detach()\n",
    "        else:\n",
    "            return x + self.m(x)\n",
    "        \n",
    "class PatchEmbed(nn.Module):\n",
    "    \"\"\" 2D Image to Patch Embedding\n",
    "    \"\"\"\n",
    "    def __init__(self, img_size=224, patch_size=16, in_chans=3, embed_dim=768, norm_layer=None, flatten=True):\n",
    "        super().__init__()\n",
    "        img_size = to_2tuple(img_size)\n",
    "        patch_size = to_2tuple(patch_size)\n",
    "        self.img_size = img_size\n",
    "        self.patch_size = patch_size\n",
    "        self.grid_size = (img_size[0] // patch_size[0], img_size[1] // patch_size[1])\n",
    "        self.num_patches = self.grid_size[0] * self.grid_size[1]\n",
    "        self.flatten = flatten\n",
    " \n",
    "        self.proj = nn.Conv2d(in_chans, embed_dim, kernel_size=patch_size, stride=patch_size)\n",
    "        self.norm = norm_layer(embed_dim) if norm_layer else nn.Identity()\n",
    " \n",
    "    def forward(self, x):\n",
    "        B, C, H, W = x.shape\n",
    "        _assert(H == self.img_size[0], f\"Input image height ({H}) doesn't match model ({self.img_size[0]}).\")\n",
    "        _assert(W == self.img_size[1], f\"Input image width ({W}) doesn't match model ({self.img_size[1]}).\")\n",
    "        x = self.proj(x)\n",
    "        if self.flatten:\n",
    "            x = x.flatten(2).transpose(1, 2)  # BCHW -> BNC\n",
    "        x = self.norm(x)\n",
    "        return x\n",
    "    \n",
    "class Attention(nn.Module):\n",
    "    def __init__(self, dim, num_heads=8, qkv_bias=False, attn_drop=0., proj_drop=0.):\n",
    "        super().__init__()\n",
    "        self.num_heads = num_heads\n",
    "        head_dim = dim // num_heads\n",
    "        self.scale = head_dim ** -0.5\n",
    " \n",
    "        self.qkv = nn.Linear(dim, dim * 3, bias=qkv_bias)\n",
    "        self.attn_drop = nn.Dropout(attn_drop)\n",
    "        self.proj = nn.Linear(dim, dim)\n",
    "        self.proj_drop = nn.Dropout(proj_drop)\n",
    " \n",
    "    def forward(self, x):\n",
    "        B, N, C = x.shape\n",
    "        qkv = self.qkv(x).reshape(B, N, 3, self.num_heads, C // self.num_heads).permute(2, 0, 3, 1, 4)\n",
    "        q, k, v = qkv.unbind(0)   # make torchscript happy (cannot use tensor as tuple)\n",
    " \n",
    "        attn = (q @ k.transpose(-2, -1)) * self.scale\n",
    "        attn = attn.softmax(dim=-1)\n",
    "        attn = self.attn_drop(attn)\n",
    " \n",
    "        x = (attn @ v).transpose(1, 2).reshape(B, N, C)\n",
    "        x = self.proj(x)\n",
    "        x = self.proj_drop(x)\n",
    "        return x\n",
    " \n",
    " \n",
    "class Block(nn.Module):\n",
    " \n",
    "    def __init__(self, dim, num_heads, mlp_ratio=4., qkv_bias=False, drop=0., attn_drop=0.,\n",
    "                 drop_path=0., act_layer=nn.GELU, norm_layer=nn.LayerNorm):\n",
    "        super().__init__()\n",
    "        self.norm1 = norm_layer(dim)\n",
    "        self.attn = Attention(dim, num_heads=num_heads, qkv_bias=qkv_bias, attn_drop=attn_drop, proj_drop=drop)\n",
    "        # NOTE: drop path for stochastic depth, we shall see if this is better than dropout here\n",
    "        self.drop_path = DropPath(drop_path) if drop_path > 0. else nn.Identity()\n",
    "        self.norm2 = norm_layer(dim)\n",
    "        mlp_hidden_dim = int(dim * mlp_ratio)\n",
    "        self.mlp = Mlp(in_features=dim, hidden_features=mlp_hidden_dim, act_layer=act_layer, drop=drop)\n",
    " \n",
    "    def forward(self, x):\n",
    "        x = x + self.drop_path(self.attn(self.norm1(x)))\n",
    "        x = x + self.drop_path(self.mlp(self.norm2(x)))\n",
    "        return x\n",
    "    \n",
    "class Mlp(nn.Module):\n",
    "    \"\"\" MLP as used in Vision Transformer, MLP-Mixer and related networks\n",
    "    \"\"\"\n",
    "    def __init__(self, in_features, hidden_features=None, out_features=None, act_layer=nn.GELU, drop=0.):\n",
    "        super().__init__()\n",
    "        out_features = out_features or in_features\n",
    "        hidden_features = hidden_features or in_features\n",
    "        drop_probs = to_2tuple(drop)\n",
    " \n",
    "        self.fc1 = nn.Linear(in_features, hidden_features)\n",
    "        self.act = act_layer()\n",
    "        self.drop1 = nn.Dropout(drop_probs[0])\n",
    "        self.fc2 = nn.Linear(hidden_features, out_features)\n",
    "        self.drop2 = nn.Dropout(drop_probs[1])\n",
    " \n",
    "    def forward(self, x):\n",
    "        x = self.fc1(x)\n",
    "        x = self.act(x)\n",
    "        x = self.drop1(x)\n",
    "        x = self.fc2(x)\n",
    "        x = self.drop2(x)\n",
    "        return x\n",
    "    \n",
    "class HybridEmbed(nn.Module):\n",
    "    \"\"\" CNN Feature Map Embedding\n",
    "    Extract feature map from CNN, flatten, project to embedding dim.\n",
    "    \"\"\"\n",
    "    def __init__(self, backbone, img_size=224, patch_size=1, feature_size=None, in_chans=3, embed_dim=768):\n",
    "        super().__init__()\n",
    "        assert isinstance(backbone, nn.Module)\n",
    "        img_size = to_2tuple(img_size)\n",
    "        patch_size = to_2tuple(patch_size)\n",
    "        self.img_size = img_size\n",
    "        self.patch_size = patch_size\n",
    "        self.backbone = backbone\n",
    "        if feature_size is None:\n",
    "            with torch.no_grad():\n",
    "                # NOTE Most reliable way of determining output dims is to run forward pass\n",
    "                training = backbone.training\n",
    "                if training:\n",
    "                    backbone.eval()\n",
    "                o = self.backbone(torch.zeros(1, in_chans, img_size[0], img_size[1]))\n",
    "                if isinstance(o, (list, tuple)):\n",
    "                    o = o[-1]  # last feature if backbone outputs list/tuple of features\n",
    "                feature_size = o.shape[-2:]\n",
    "                feature_dim = o.shape[1]\n",
    "                backbone.train(training)\n",
    "        else:\n",
    "            feature_size = to_2tuple(feature_size)\n",
    "            if hasattr(self.backbone, 'feature_info'):\n",
    "                feature_dim = self.backbone.feature_info.channels()[-1]\n",
    "            else:\n",
    "                feature_dim = self.backbone.num_features\n",
    "        assert feature_size[0] % patch_size[0] == 0 and feature_size[1] % patch_size[1] == 0\n",
    "        self.grid_size = (feature_size[0] // patch_size[0], feature_size[1] // patch_size[1])\n",
    "        self.num_patches = self.grid_size[0] * self.grid_size[1]\n",
    "        self.proj = nn.Conv2d(feature_dim, embed_dim, kernel_size=patch_size, stride=patch_size)\n",
    " \n",
    "    def forward(self, x):\n",
    "        x = self.backbone(x)\n",
    "        if isinstance(x, (list, tuple)):\n",
    "            x = x[-1]  # last feature if backbone outputs list/tuple of features\n",
    "        x = self.proj(x).flatten(2).transpose(1, 2)\n",
    "        return x"
   ],
   "metadata": {
    "execution": {
     "iopub.status.busy": "2024-08-21T12:06:04.509800Z",
     "iopub.execute_input": "2024-08-21T12:06:04.510160Z",
     "iopub.status.idle": "2024-08-21T12:06:04.544823Z",
     "shell.execute_reply.started": "2024-08-21T12:06:04.510131Z",
     "shell.execute_reply": "2024-08-21T12:06:04.543875Z"
    },
    "trusted": true,
    "pycharm": {
     "name": "#%%\n"
    }
   },
   "execution_count": 34,
   "outputs": []
  },
  {
   "cell_type": "markdown",
   "source": [
    "# 9.修改模型\n",
    "\n",
    "参考：https://datawhalechina.github.io/thorough-pytorch/%E7%AC%AC%E4%BA%94%E7%AB%A0/5.3%20PyTorch%E4%BF%AE%E6%94%B9%E6%A8%A1%E5%9E%8B.html"
   ],
   "metadata": {
    "pycharm": {
     "name": "#%% md\n"
    }
   }
  },
  {
   "cell_type": "markdown",
   "source": [
    "## 9.1 修改模型层（修改全连接层）"
   ],
   "metadata": {
    "pycharm": {
     "name": "#%% md\n"
    }
   }
  },
  {
   "cell_type": "code",
   "source": [
    "import timm\n",
    "import torch\n",
    "import torch.nn as nn\n",
    "from collections import OrderedDict\n",
    "#import torchvision.models as models\n",
    "#net = models.resnet50()\n",
    "\n",
    "model = timm.create_model('resnet18', pretrained=True)   #加载resnet50模型\n"
   ],
   "metadata": {
    "execution": {
     "iopub.status.busy": "2024-08-21T12:06:25.487211Z",
     "iopub.execute_input": "2024-08-21T12:06:25.487906Z",
     "iopub.status.idle": "2024-08-21T12:06:26.062565Z",
     "shell.execute_reply.started": "2024-08-21T12:06:25.487869Z",
     "shell.execute_reply": "2024-08-21T12:06:26.061586Z"
    },
    "trusted": true,
    "pycharm": {
     "name": "#%%\n"
    }
   },
   "execution_count": 35,
   "outputs": [
    {
     "output_type": "display_data",
     "data": {
      "text/plain": "model.safetensors:   0%|          | 0.00/46.8M [00:00<?, ?B/s]",
      "application/vnd.jupyter.widget-view+json": {
       "version_major": 2,
       "version_minor": 0,
       "model_id": "0848d3f8b3a0479a928e834a9ac0957c"
      }
     },
     "metadata": {}
    }
   ]
  },
  {
   "cell_type": "code",
   "source": [
    "# 显示网络结构\n",
    "import torchvision.models as models\n",
    "from torchinfo import summary\n",
    "summary(model, (1, 3, 224, 224)) # 1：batch_size 3:图片的通道数 224: 图片的高宽"
   ],
   "metadata": {
    "execution": {
     "iopub.status.busy": "2024-08-21T12:06:37.214826Z",
     "iopub.execute_input": "2024-08-21T12:06:37.215703Z",
     "iopub.status.idle": "2024-08-21T12:06:37.295478Z",
     "shell.execute_reply.started": "2024-08-21T12:06:37.215664Z",
     "shell.execute_reply": "2024-08-21T12:06:37.294552Z"
    },
    "trusted": true,
    "pycharm": {
     "name": "#%%\n"
    }
   },
   "execution_count": 36,
   "outputs": [
    {
     "execution_count": 36,
     "output_type": "execute_result",
     "data": {
      "text/plain": "==========================================================================================\nLayer (type:depth-idx)                   Output Shape              Param #\n==========================================================================================\nResNet                                   [1, 1000]                 --\n├─Conv2d: 1-1                            [1, 64, 112, 112]         9,408\n├─BatchNorm2d: 1-2                       [1, 64, 112, 112]         128\n├─ReLU: 1-3                              [1, 64, 112, 112]         --\n├─MaxPool2d: 1-4                         [1, 64, 56, 56]           --\n├─Sequential: 1-5                        [1, 64, 56, 56]           --\n│    └─BasicBlock: 2-1                   [1, 64, 56, 56]           --\n│    │    └─Conv2d: 3-1                  [1, 64, 56, 56]           36,864\n│    │    └─BatchNorm2d: 3-2             [1, 64, 56, 56]           128\n│    │    └─Identity: 3-3                [1, 64, 56, 56]           --\n│    │    └─ReLU: 3-4                    [1, 64, 56, 56]           --\n│    │    └─Identity: 3-5                [1, 64, 56, 56]           --\n│    │    └─Conv2d: 3-6                  [1, 64, 56, 56]           36,864\n│    │    └─BatchNorm2d: 3-7             [1, 64, 56, 56]           128\n│    │    └─ReLU: 3-8                    [1, 64, 56, 56]           --\n│    └─BasicBlock: 2-2                   [1, 64, 56, 56]           --\n│    │    └─Conv2d: 3-9                  [1, 64, 56, 56]           36,864\n│    │    └─BatchNorm2d: 3-10            [1, 64, 56, 56]           128\n│    │    └─Identity: 3-11               [1, 64, 56, 56]           --\n│    │    └─ReLU: 3-12                   [1, 64, 56, 56]           --\n│    │    └─Identity: 3-13               [1, 64, 56, 56]           --\n│    │    └─Conv2d: 3-14                 [1, 64, 56, 56]           36,864\n│    │    └─BatchNorm2d: 3-15            [1, 64, 56, 56]           128\n│    │    └─ReLU: 3-16                   [1, 64, 56, 56]           --\n├─Sequential: 1-6                        [1, 128, 28, 28]          --\n│    └─BasicBlock: 2-3                   [1, 128, 28, 28]          --\n│    │    └─Conv2d: 3-17                 [1, 128, 28, 28]          73,728\n│    │    └─BatchNorm2d: 3-18            [1, 128, 28, 28]          256\n│    │    └─Identity: 3-19               [1, 128, 28, 28]          --\n│    │    └─ReLU: 3-20                   [1, 128, 28, 28]          --\n│    │    └─Identity: 3-21               [1, 128, 28, 28]          --\n│    │    └─Conv2d: 3-22                 [1, 128, 28, 28]          147,456\n│    │    └─BatchNorm2d: 3-23            [1, 128, 28, 28]          256\n│    │    └─Sequential: 3-24             [1, 128, 28, 28]          8,448\n│    │    └─ReLU: 3-25                   [1, 128, 28, 28]          --\n│    └─BasicBlock: 2-4                   [1, 128, 28, 28]          --\n│    │    └─Conv2d: 3-26                 [1, 128, 28, 28]          147,456\n│    │    └─BatchNorm2d: 3-27            [1, 128, 28, 28]          256\n│    │    └─Identity: 3-28               [1, 128, 28, 28]          --\n│    │    └─ReLU: 3-29                   [1, 128, 28, 28]          --\n│    │    └─Identity: 3-30               [1, 128, 28, 28]          --\n│    │    └─Conv2d: 3-31                 [1, 128, 28, 28]          147,456\n│    │    └─BatchNorm2d: 3-32            [1, 128, 28, 28]          256\n│    │    └─ReLU: 3-33                   [1, 128, 28, 28]          --\n├─Sequential: 1-7                        [1, 256, 14, 14]          --\n│    └─BasicBlock: 2-5                   [1, 256, 14, 14]          --\n│    │    └─Conv2d: 3-34                 [1, 256, 14, 14]          294,912\n│    │    └─BatchNorm2d: 3-35            [1, 256, 14, 14]          512\n│    │    └─Identity: 3-36               [1, 256, 14, 14]          --\n│    │    └─ReLU: 3-37                   [1, 256, 14, 14]          --\n│    │    └─Identity: 3-38               [1, 256, 14, 14]          --\n│    │    └─Conv2d: 3-39                 [1, 256, 14, 14]          589,824\n│    │    └─BatchNorm2d: 3-40            [1, 256, 14, 14]          512\n│    │    └─Sequential: 3-41             [1, 256, 14, 14]          33,280\n│    │    └─ReLU: 3-42                   [1, 256, 14, 14]          --\n│    └─BasicBlock: 2-6                   [1, 256, 14, 14]          --\n│    │    └─Conv2d: 3-43                 [1, 256, 14, 14]          589,824\n│    │    └─BatchNorm2d: 3-44            [1, 256, 14, 14]          512\n│    │    └─Identity: 3-45               [1, 256, 14, 14]          --\n│    │    └─ReLU: 3-46                   [1, 256, 14, 14]          --\n│    │    └─Identity: 3-47               [1, 256, 14, 14]          --\n│    │    └─Conv2d: 3-48                 [1, 256, 14, 14]          589,824\n│    │    └─BatchNorm2d: 3-49            [1, 256, 14, 14]          512\n│    │    └─ReLU: 3-50                   [1, 256, 14, 14]          --\n├─Sequential: 1-8                        [1, 512, 7, 7]            --\n│    └─BasicBlock: 2-7                   [1, 512, 7, 7]            --\n│    │    └─Conv2d: 3-51                 [1, 512, 7, 7]            1,179,648\n│    │    └─BatchNorm2d: 3-52            [1, 512, 7, 7]            1,024\n│    │    └─Identity: 3-53               [1, 512, 7, 7]            --\n│    │    └─ReLU: 3-54                   [1, 512, 7, 7]            --\n│    │    └─Identity: 3-55               [1, 512, 7, 7]            --\n│    │    └─Conv2d: 3-56                 [1, 512, 7, 7]            2,359,296\n│    │    └─BatchNorm2d: 3-57            [1, 512, 7, 7]            1,024\n│    │    └─Sequential: 3-58             [1, 512, 7, 7]            132,096\n│    │    └─ReLU: 3-59                   [1, 512, 7, 7]            --\n│    └─BasicBlock: 2-8                   [1, 512, 7, 7]            --\n│    │    └─Conv2d: 3-60                 [1, 512, 7, 7]            2,359,296\n│    │    └─BatchNorm2d: 3-61            [1, 512, 7, 7]            1,024\n│    │    └─Identity: 3-62               [1, 512, 7, 7]            --\n│    │    └─ReLU: 3-63                   [1, 512, 7, 7]            --\n│    │    └─Identity: 3-64               [1, 512, 7, 7]            --\n│    │    └─Conv2d: 3-65                 [1, 512, 7, 7]            2,359,296\n│    │    └─BatchNorm2d: 3-66            [1, 512, 7, 7]            1,024\n│    │    └─ReLU: 3-67                   [1, 512, 7, 7]            --\n├─SelectAdaptivePool2d: 1-9              [1, 512]                  --\n│    └─AdaptiveAvgPool2d: 2-9            [1, 512, 1, 1]            --\n│    └─Flatten: 2-10                     [1, 512]                  --\n├─Linear: 1-10                           [1, 1000]                 513,000\n==========================================================================================\nTotal params: 11,689,512\nTrainable params: 11,689,512\nNon-trainable params: 0\nTotal mult-adds (G): 1.81\n==========================================================================================\nInput size (MB): 0.60\nForward/backward pass size (MB): 39.75\nParams size (MB): 46.76\nEstimated Total Size (MB): 87.11\n=========================================================================================="
     },
     "metadata": {}
    }
   ]
  },
  {
   "cell_type": "code",
   "source": [
    "# 修改分类器\n",
    "classifier = nn.Sequential(OrderedDict([('fc1', nn.Linear(512, 128)),\n",
    "                          ('relu1', nn.ReLU()), \n",
    "                          ('dropout1',nn.Dropout(0.5)),\n",
    "                          ('fc2', nn.Linear(128, 10)),\n",
    "                          ('output', nn.Softmax(dim=1))\n",
    "                          ]))\n",
    "    \n",
    "model.fc = classifier"
   ],
   "metadata": {
    "execution": {
     "iopub.status.busy": "2024-08-21T12:07:06.241466Z",
     "iopub.execute_input": "2024-08-21T12:07:06.242142Z",
     "iopub.status.idle": "2024-08-21T12:07:06.248804Z",
     "shell.execute_reply.started": "2024-08-21T12:07:06.242097Z",
     "shell.execute_reply": "2024-08-21T12:07:06.247731Z"
    },
    "trusted": true,
    "pycharm": {
     "name": "#%%\n"
    }
   },
   "execution_count": 37,
   "outputs": []
  },
  {
   "cell_type": "code",
   "source": [
    "import torchvision.models as models\n",
    "from torchinfo import summary\n",
    "summary(model, (1, 3, 224, 224)) # 1：batch_size 3:图片的通道数 224: 图片的高宽"
   ],
   "metadata": {
    "execution": {
     "iopub.status.busy": "2024-08-21T12:07:10.571782Z",
     "iopub.execute_input": "2024-08-21T12:07:10.572450Z",
     "iopub.status.idle": "2024-08-21T12:07:10.620878Z",
     "shell.execute_reply.started": "2024-08-21T12:07:10.572416Z",
     "shell.execute_reply": "2024-08-21T12:07:10.619912Z"
    },
    "trusted": true,
    "pycharm": {
     "name": "#%%\n"
    }
   },
   "execution_count": 38,
   "outputs": [
    {
     "execution_count": 38,
     "output_type": "execute_result",
     "data": {
      "text/plain": "==========================================================================================\nLayer (type:depth-idx)                   Output Shape              Param #\n==========================================================================================\nResNet                                   [1, 10]                   --\n├─Conv2d: 1-1                            [1, 64, 112, 112]         9,408\n├─BatchNorm2d: 1-2                       [1, 64, 112, 112]         128\n├─ReLU: 1-3                              [1, 64, 112, 112]         --\n├─MaxPool2d: 1-4                         [1, 64, 56, 56]           --\n├─Sequential: 1-5                        [1, 64, 56, 56]           --\n│    └─BasicBlock: 2-1                   [1, 64, 56, 56]           --\n│    │    └─Conv2d: 3-1                  [1, 64, 56, 56]           36,864\n│    │    └─BatchNorm2d: 3-2             [1, 64, 56, 56]           128\n│    │    └─Identity: 3-3                [1, 64, 56, 56]           --\n│    │    └─ReLU: 3-4                    [1, 64, 56, 56]           --\n│    │    └─Identity: 3-5                [1, 64, 56, 56]           --\n│    │    └─Conv2d: 3-6                  [1, 64, 56, 56]           36,864\n│    │    └─BatchNorm2d: 3-7             [1, 64, 56, 56]           128\n│    │    └─ReLU: 3-8                    [1, 64, 56, 56]           --\n│    └─BasicBlock: 2-2                   [1, 64, 56, 56]           --\n│    │    └─Conv2d: 3-9                  [1, 64, 56, 56]           36,864\n│    │    └─BatchNorm2d: 3-10            [1, 64, 56, 56]           128\n│    │    └─Identity: 3-11               [1, 64, 56, 56]           --\n│    │    └─ReLU: 3-12                   [1, 64, 56, 56]           --\n│    │    └─Identity: 3-13               [1, 64, 56, 56]           --\n│    │    └─Conv2d: 3-14                 [1, 64, 56, 56]           36,864\n│    │    └─BatchNorm2d: 3-15            [1, 64, 56, 56]           128\n│    │    └─ReLU: 3-16                   [1, 64, 56, 56]           --\n├─Sequential: 1-6                        [1, 128, 28, 28]          --\n│    └─BasicBlock: 2-3                   [1, 128, 28, 28]          --\n│    │    └─Conv2d: 3-17                 [1, 128, 28, 28]          73,728\n│    │    └─BatchNorm2d: 3-18            [1, 128, 28, 28]          256\n│    │    └─Identity: 3-19               [1, 128, 28, 28]          --\n│    │    └─ReLU: 3-20                   [1, 128, 28, 28]          --\n│    │    └─Identity: 3-21               [1, 128, 28, 28]          --\n│    │    └─Conv2d: 3-22                 [1, 128, 28, 28]          147,456\n│    │    └─BatchNorm2d: 3-23            [1, 128, 28, 28]          256\n│    │    └─Sequential: 3-24             [1, 128, 28, 28]          8,448\n│    │    └─ReLU: 3-25                   [1, 128, 28, 28]          --\n│    └─BasicBlock: 2-4                   [1, 128, 28, 28]          --\n│    │    └─Conv2d: 3-26                 [1, 128, 28, 28]          147,456\n│    │    └─BatchNorm2d: 3-27            [1, 128, 28, 28]          256\n│    │    └─Identity: 3-28               [1, 128, 28, 28]          --\n│    │    └─ReLU: 3-29                   [1, 128, 28, 28]          --\n│    │    └─Identity: 3-30               [1, 128, 28, 28]          --\n│    │    └─Conv2d: 3-31                 [1, 128, 28, 28]          147,456\n│    │    └─BatchNorm2d: 3-32            [1, 128, 28, 28]          256\n│    │    └─ReLU: 3-33                   [1, 128, 28, 28]          --\n├─Sequential: 1-7                        [1, 256, 14, 14]          --\n│    └─BasicBlock: 2-5                   [1, 256, 14, 14]          --\n│    │    └─Conv2d: 3-34                 [1, 256, 14, 14]          294,912\n│    │    └─BatchNorm2d: 3-35            [1, 256, 14, 14]          512\n│    │    └─Identity: 3-36               [1, 256, 14, 14]          --\n│    │    └─ReLU: 3-37                   [1, 256, 14, 14]          --\n│    │    └─Identity: 3-38               [1, 256, 14, 14]          --\n│    │    └─Conv2d: 3-39                 [1, 256, 14, 14]          589,824\n│    │    └─BatchNorm2d: 3-40            [1, 256, 14, 14]          512\n│    │    └─Sequential: 3-41             [1, 256, 14, 14]          33,280\n│    │    └─ReLU: 3-42                   [1, 256, 14, 14]          --\n│    └─BasicBlock: 2-6                   [1, 256, 14, 14]          --\n│    │    └─Conv2d: 3-43                 [1, 256, 14, 14]          589,824\n│    │    └─BatchNorm2d: 3-44            [1, 256, 14, 14]          512\n│    │    └─Identity: 3-45               [1, 256, 14, 14]          --\n│    │    └─ReLU: 3-46                   [1, 256, 14, 14]          --\n│    │    └─Identity: 3-47               [1, 256, 14, 14]          --\n│    │    └─Conv2d: 3-48                 [1, 256, 14, 14]          589,824\n│    │    └─BatchNorm2d: 3-49            [1, 256, 14, 14]          512\n│    │    └─ReLU: 3-50                   [1, 256, 14, 14]          --\n├─Sequential: 1-8                        [1, 512, 7, 7]            --\n│    └─BasicBlock: 2-7                   [1, 512, 7, 7]            --\n│    │    └─Conv2d: 3-51                 [1, 512, 7, 7]            1,179,648\n│    │    └─BatchNorm2d: 3-52            [1, 512, 7, 7]            1,024\n│    │    └─Identity: 3-53               [1, 512, 7, 7]            --\n│    │    └─ReLU: 3-54                   [1, 512, 7, 7]            --\n│    │    └─Identity: 3-55               [1, 512, 7, 7]            --\n│    │    └─Conv2d: 3-56                 [1, 512, 7, 7]            2,359,296\n│    │    └─BatchNorm2d: 3-57            [1, 512, 7, 7]            1,024\n│    │    └─Sequential: 3-58             [1, 512, 7, 7]            132,096\n│    │    └─ReLU: 3-59                   [1, 512, 7, 7]            --\n│    └─BasicBlock: 2-8                   [1, 512, 7, 7]            --\n│    │    └─Conv2d: 3-60                 [1, 512, 7, 7]            2,359,296\n│    │    └─BatchNorm2d: 3-61            [1, 512, 7, 7]            1,024\n│    │    └─Identity: 3-62               [1, 512, 7, 7]            --\n│    │    └─ReLU: 3-63                   [1, 512, 7, 7]            --\n│    │    └─Identity: 3-64               [1, 512, 7, 7]            --\n│    │    └─Conv2d: 3-65                 [1, 512, 7, 7]            2,359,296\n│    │    └─BatchNorm2d: 3-66            [1, 512, 7, 7]            1,024\n│    │    └─ReLU: 3-67                   [1, 512, 7, 7]            --\n├─SelectAdaptivePool2d: 1-9              [1, 512]                  --\n│    └─AdaptiveAvgPool2d: 2-9            [1, 512, 1, 1]            --\n│    └─Flatten: 2-10                     [1, 512]                  --\n├─Sequential: 1-10                       [1, 10]                   --\n│    └─Linear: 2-11                      [1, 128]                  65,664\n│    └─ReLU: 2-12                        [1, 128]                  --\n│    └─Dropout: 2-13                     [1, 128]                  --\n│    └─Linear: 2-14                      [1, 10]                   1,290\n│    └─Softmax: 2-15                     [1, 10]                   --\n==========================================================================================\nTotal params: 11,243,466\nTrainable params: 11,243,466\nNon-trainable params: 0\nTotal mult-adds (G): 1.81\n==========================================================================================\nInput size (MB): 0.60\nForward/backward pass size (MB): 39.74\nParams size (MB): 44.97\nEstimated Total Size (MB): 85.32\n=========================================================================================="
     },
     "metadata": {}
    }
   ]
  },
  {
   "cell_type": "markdown",
   "source": [
    "## 9.2 添加外部输入"
   ],
   "metadata": {
    "pycharm": {
     "name": "#%% md\n"
    }
   }
  },
  {
   "cell_type": "code",
   "source": [
    "import torch.nn as nn\n",
    "\n",
    "# 1.定义新的类：Model，重写初始化方法\n",
    "class Model(nn.Module):\n",
    "    def __init__(self, net):\n",
    "        super(Model, self).__init__()\n",
    "        self.net = net\n",
    "        self.relu = nn.ReLU()\n",
    "        self.dropout = nn.Dropout(0.5)\n",
    "        self.fc_add = nn.Linear(1001, 10, bias=True)    # --将特征数，转换为最终的10个类别数\n",
    "        self.output = nn.Softmax(dim=1)\n",
    "        \n",
    "    def forward(self, x, add_variable):\n",
    "        #输入x首先经过子模型net进行处理，然后与add_variable进行拼接，接着经过全连接层和 Softmax层处理，最终返回输出\n",
    "        x = self.net(x)\n",
    "        #unsqueeze(1) 的作用是在 add_variable 的第1维度上增加了一个维度，使其能够和 x 进行拼接\n",
    "        x = torch.cat((self.dropout(self.relu(x)), add_variable.unsqueeze(1)),1)\n",
    "        # 经过全连接层和概率求解\n",
    "        x = self.fc_add(x)\n",
    "        x = self.output(x)\n",
    "        return x"
   ],
   "metadata": {
    "execution": {
     "iopub.status.busy": "2024-08-21T12:08:25.112642Z",
     "iopub.execute_input": "2024-08-21T12:08:25.113407Z",
     "iopub.status.idle": "2024-08-21T12:08:25.121107Z",
     "shell.execute_reply.started": "2024-08-21T12:08:25.113358Z",
     "shell.execute_reply": "2024-08-21T12:08:25.120078Z"
    },
    "trusted": true,
    "pycharm": {
     "name": "#%%\n"
    }
   },
   "execution_count": 39,
   "outputs": []
  },
  {
   "cell_type": "code",
   "source": [
    "# 解释拼接方法：torch.cat((self.dropout(self.relu(x)), add_variable.unsqueeze(1)),1)\n",
    "x0 = torch.randn(10, 3, 224, 224)   # 批量数据\n",
    "\n",
    "add_variable = torch.randn(10, 224, 224)   # 10:批量\n",
    "x1 = add_variable.unsqueeze(1)     # 增加一个维度\n",
    "x1.shape, x0.shape"
   ],
   "metadata": {
    "execution": {
     "iopub.status.busy": "2024-08-21T12:08:40.860416Z",
     "iopub.execute_input": "2024-08-21T12:08:40.861116Z",
     "iopub.status.idle": "2024-08-21T12:08:40.888409Z",
     "shell.execute_reply.started": "2024-08-21T12:08:40.861082Z",
     "shell.execute_reply": "2024-08-21T12:08:40.887421Z"
    },
    "trusted": true,
    "pycharm": {
     "name": "#%%\n"
    }
   },
   "execution_count": 40,
   "outputs": [
    {
     "execution_count": 40,
     "output_type": "execute_result",
     "data": {
      "text/plain": "(torch.Size([10, 1, 224, 224]), torch.Size([10, 3, 224, 224]))"
     },
     "metadata": {}
    }
   ]
  },
  {
   "cell_type": "code",
   "source": [
    "torch.cat((x0, x1), 1).shape"
   ],
   "metadata": {
    "execution": {
     "iopub.status.busy": "2024-08-21T12:08:45.609259Z",
     "iopub.execute_input": "2024-08-21T12:08:45.609997Z",
     "iopub.status.idle": "2024-08-21T12:08:45.628745Z",
     "shell.execute_reply.started": "2024-08-21T12:08:45.609940Z",
     "shell.execute_reply": "2024-08-21T12:08:45.627518Z"
    },
    "trusted": true,
    "pycharm": {
     "name": "#%%\n"
    }
   },
   "execution_count": 41,
   "outputs": [
    {
     "execution_count": 41,
     "output_type": "execute_result",
     "data": {
      "text/plain": "torch.Size([10, 4, 224, 224])"
     },
     "metadata": {}
    }
   ]
  },
  {
   "cell_type": "code",
   "source": [
    "#------------实例化模型\n",
    "import timm\n",
    "# 给一个预训练模型\n",
    "#net = models.resnet18()\n",
    "net = timm.create_model('resnet50', pretrained=True)\n",
    "# 2.实例化新模型（传入预训练参数）\n",
    "model = Model(net)"
   ],
   "metadata": {
    "execution": {
     "iopub.status.busy": "2024-08-21T12:08:59.409139Z",
     "iopub.execute_input": "2024-08-21T12:08:59.409543Z",
     "iopub.status.idle": "2024-08-21T12:09:00.513787Z",
     "shell.execute_reply.started": "2024-08-21T12:08:59.409506Z",
     "shell.execute_reply": "2024-08-21T12:09:00.512712Z"
    },
    "trusted": true,
    "pycharm": {
     "name": "#%%\n"
    }
   },
   "execution_count": 42,
   "outputs": [
    {
     "output_type": "display_data",
     "data": {
      "text/plain": "model.safetensors:   0%|          | 0.00/102M [00:00<?, ?B/s]",
      "application/vnd.jupyter.widget-view+json": {
       "version_major": 2,
       "version_minor": 0,
       "model_id": "51586de0d95c4ffd86cf8a0b2c6cb1b2"
      }
     },
     "metadata": {}
    }
   ]
  },
  {
   "cell_type": "code",
   "source": [
    "# 查看模型输出\n",
    "x = torch.randn(10, 3, 224, 224)\n",
    "p = net(x)\n",
    "p.shape"
   ],
   "metadata": {
    "execution": {
     "iopub.status.busy": "2024-08-21T12:09:29.706059Z",
     "iopub.execute_input": "2024-08-21T12:09:29.706875Z",
     "iopub.status.idle": "2024-08-21T12:09:30.766866Z",
     "shell.execute_reply.started": "2024-08-21T12:09:29.706839Z",
     "shell.execute_reply": "2024-08-21T12:09:30.766011Z"
    },
    "trusted": true,
    "pycharm": {
     "name": "#%%\n"
    }
   },
   "execution_count": 43,
   "outputs": [
    {
     "execution_count": 43,
     "output_type": "execute_result",
     "data": {
      "text/plain": "torch.Size([10, 1000])"
     },
     "metadata": {}
    }
   ]
  },
  {
   "cell_type": "code",
   "source": [
    "t = torch.randn(10).unsqueeze(1)    # 每个批量的各自图片的特征\n",
    "t.shape"
   ],
   "metadata": {
    "execution": {
     "iopub.status.busy": "2024-08-21T12:09:34.517936Z",
     "iopub.execute_input": "2024-08-21T12:09:34.518765Z",
     "iopub.status.idle": "2024-08-21T12:09:34.525288Z",
     "shell.execute_reply.started": "2024-08-21T12:09:34.518731Z",
     "shell.execute_reply": "2024-08-21T12:09:34.524434Z"
    },
    "trusted": true,
    "pycharm": {
     "name": "#%%\n"
    }
   },
   "execution_count": 44,
   "outputs": [
    {
     "execution_count": 44,
     "output_type": "execute_result",
     "data": {
      "text/plain": "torch.Size([10, 1])"
     },
     "metadata": {}
    }
   ]
  },
  {
   "cell_type": "code",
   "source": [
    "inputs = torch.randn(32, 3, 224, 224)  \n",
    "add_var = torch.randn(32)   # 与批量数保持一致\n",
    "# 传入2个输入\n",
    "outputs = model(inputs, add_var)    #批量，不同类别对应的概率\n",
    "outputs.shape"
   ],
   "metadata": {
    "execution": {
     "iopub.status.busy": "2024-08-21T12:10:12.928614Z",
     "iopub.execute_input": "2024-08-21T12:10:12.929564Z",
     "iopub.status.idle": "2024-08-21T12:10:16.672080Z",
     "shell.execute_reply.started": "2024-08-21T12:10:12.929529Z",
     "shell.execute_reply": "2024-08-21T12:10:16.671208Z"
    },
    "trusted": true,
    "pycharm": {
     "name": "#%%\n"
    }
   },
   "execution_count": 45,
   "outputs": [
    {
     "execution_count": 45,
     "output_type": "execute_result",
     "data": {
      "text/plain": "torch.Size([32, 10])"
     },
     "metadata": {}
    }
   ]
  },
  {
   "cell_type": "code",
   "source": [
    "outputs.argmax(1)   # 类别判断"
   ],
   "metadata": {
    "execution": {
     "iopub.status.busy": "2024-08-21T12:10:19.810138Z",
     "iopub.execute_input": "2024-08-21T12:10:19.811185Z",
     "iopub.status.idle": "2024-08-21T12:10:19.818646Z",
     "shell.execute_reply.started": "2024-08-21T12:10:19.811127Z",
     "shell.execute_reply": "2024-08-21T12:10:19.817674Z"
    },
    "trusted": true,
    "pycharm": {
     "name": "#%%\n"
    }
   },
   "execution_count": 46,
   "outputs": [
    {
     "execution_count": 46,
     "output_type": "execute_result",
     "data": {
      "text/plain": "tensor([3, 3, 3, 3, 4, 4, 3, 4, 3, 3, 3, 3, 3, 4, 4, 3, 3, 3, 4, 3, 3, 3, 4, 3,\n        3, 3, 4, 4, 3, 3, 4, 4])"
     },
     "metadata": {}
    }
   ]
  },
  {
   "cell_type": "markdown",
   "source": [
    "## 9.3 添加额外输出"
   ],
   "metadata": {
    "pycharm": {
     "name": "#%% md\n"
    }
   }
  },
  {
   "cell_type": "code",
   "source": [
    "class Model(nn.Module):\n",
    "    def __init__(self, net):\n",
    "        super(Model, self).__init__()\n",
    "        self.net = net\n",
    "        self.relu = nn.ReLU()\n",
    "        self.dropout = nn.Dropout(0.5)\n",
    "        self.fc1 = nn.Linear(1000, 10, bias=True)     # 从1000->10\n",
    "        self.output = nn.Softmax(dim=1)\n",
    "        \n",
    "    def forward(self, x, add_variable):\n",
    "        x1000 = self.net(x)      # 网络输出1000类\n",
    "        # 转换输出10类\n",
    "        x10 = self.dropout(self.relu(x1000))\n",
    "        x10 = self.fc1(x10)\n",
    "        x10 = self.output(x10)\n",
    "        return x10, x1000     # 2个输出：10类和100类"
   ],
   "metadata": {
    "execution": {
     "iopub.status.busy": "2024-08-21T12:10:27.358265Z",
     "iopub.execute_input": "2024-08-21T12:10:27.358640Z",
     "iopub.status.idle": "2024-08-21T12:10:27.365896Z",
     "shell.execute_reply.started": "2024-08-21T12:10:27.358611Z",
     "shell.execute_reply": "2024-08-21T12:10:27.364763Z"
    },
    "trusted": true,
    "pycharm": {
     "name": "#%%\n"
    }
   },
   "execution_count": 47,
   "outputs": []
  },
  {
   "cell_type": "code",
   "source": [
    "#------------实例化模型\n",
    "import timm\n",
    "# 给一个预训练模型\n",
    "#net = models.resnet18()\n",
    "net = timm.create_model('resnet18', pretrained=True)\n",
    "# 2.实例化新模型（传入预训练参数）\n",
    "model = Model(net)"
   ],
   "metadata": {
    "execution": {
     "iopub.status.busy": "2024-08-21T12:10:33.296491Z",
     "iopub.execute_input": "2024-08-21T12:10:33.297181Z",
     "iopub.status.idle": "2024-08-21T12:10:33.597801Z",
     "shell.execute_reply.started": "2024-08-21T12:10:33.297149Z",
     "shell.execute_reply": "2024-08-21T12:10:33.596922Z"
    },
    "trusted": true,
    "pycharm": {
     "name": "#%%\n"
    }
   },
   "execution_count": 48,
   "outputs": []
  },
  {
   "cell_type": "code",
   "source": [
    "out10, out1000 = model(inputs, add_var)\n",
    "print(out10.shape, out1000.shape)"
   ],
   "metadata": {
    "execution": {
     "iopub.status.busy": "2024-08-21T12:10:35.662419Z",
     "iopub.execute_input": "2024-08-21T12:10:35.663059Z",
     "iopub.status.idle": "2024-08-21T12:10:36.723557Z",
     "shell.execute_reply.started": "2024-08-21T12:10:35.663029Z",
     "shell.execute_reply": "2024-08-21T12:10:36.722635Z"
    },
    "trusted": true,
    "pycharm": {
     "name": "#%%\n"
    }
   },
   "execution_count": 49,
   "outputs": [
    {
     "name": "stdout",
     "text": "torch.Size([32, 10]) torch.Size([32, 1000])\n",
     "output_type": "stream"
    }
   ]
  },
  {
   "cell_type": "code",
   "source": [],
   "metadata": {
    "pycharm": {
     "name": "#%%\n"
    }
   },
   "execution_count": null,
   "outputs": []
  }
 ]
}
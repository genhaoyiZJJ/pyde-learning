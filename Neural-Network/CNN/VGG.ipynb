{
 "metadata": {
  "kernelspec": {
   "language": "python",
   "display_name": "Python 3",
   "name": "python3"
  },
  "language_info": {
   "name": "python",
   "version": "3.10.13",
   "mimetype": "text/x-python",
   "codemirror_mode": {
    "name": "ipython",
    "version": 3
   },
   "pygments_lexer": "ipython3",
   "nbconvert_exporter": "python",
   "file_extension": ".py"
  },
  "kaggle": {
   "accelerator": "none",
   "dataSources": [],
   "dockerImageVersionId": 30703,
   "isInternetEnabled": true,
   "language": "python",
   "sourceType": "notebook",
   "isGpuEnabled": false
  }
 },
 "nbformat_minor": 4,
 "nbformat": 4,
 "cells": [
  {
   "cell_type": "code",
   "source": [
    "import tensorflow as tf"
   ],
   "metadata": {
    "execution": {
     "iopub.status.busy": "2024-04-23T06:28:26.864972Z",
     "iopub.execute_input": "2024-04-23T06:28:26.865690Z",
     "iopub.status.idle": "2024-04-23T06:28:39.489668Z",
     "shell.execute_reply.started": "2024-04-23T06:28:26.865648Z",
     "shell.execute_reply": "2024-04-23T06:28:39.488860Z"
    },
    "trusted": true,
    "pycharm": {
     "name": "#%%\n"
    }
   },
   "execution_count": 1,
   "outputs": []
  },
  {
   "cell_type": "markdown",
   "source": [
    "# VGG网络"
   ],
   "metadata": {
    "pycharm": {
     "name": "#%% md\n"
    }
   }
  },
  {
   "cell_type": "code",
   "source": [
    "# 定义VGG⽹络中的卷积块：卷积层的个数，卷积层中卷积核的个数\n",
    "def vgg_block(num_convs, num_filters):\n",
    " # 构建序列模型\n",
    " blk = tf.keras.models.Sequential()\n",
    " # 遍历所有的卷积层\n",
    " for _ in range(num_convs):\n",
    "    # 每个卷积层：num_filter个卷积核，卷积核⼤⼩为3*3，paddin\n",
    "    blk.add(tf.keras.layers.Conv2D(num_filters,kernel_size=3,padding='same',activation='relu')),\n",
    " # 卷积块最后是⼀个最⼤池化，窗⼝⼤⼩为2*2，步⻓为2\n",
    " blk.add(tf.keras.layers.MaxPool2D(pool_size=2, strides=2)),\n",
    " return blk"
   ],
   "metadata": {
    "execution": {
     "iopub.status.busy": "2024-04-23T06:28:52.213416Z",
     "iopub.execute_input": "2024-04-23T06:28:52.214298Z",
     "iopub.status.idle": "2024-04-23T06:28:52.220115Z",
     "shell.execute_reply.started": "2024-04-23T06:28:52.214267Z",
     "shell.execute_reply": "2024-04-23T06:28:52.219050Z"
    },
    "trusted": true,
    "pycharm": {
     "name": "#%%\n"
    }
   },
   "execution_count": 2,
   "outputs": []
  },
  {
   "cell_type": "code",
   "source": [
    "# 定义VGG⽹络\n",
    "def vgg(conv_arch):\n",
    "    # 构建序列模型\n",
    "    net = tf.keras.models.Sequential()\n",
    "    # 根据conv_arch⽣成卷积部分\n",
    "    for (num_convs, num_filters) in conv_arch:\n",
    "        net.add(vgg_block(num_convs, num_filters))\n",
    "    # 卷积块序列后添加全连接层\n",
    "    net.add(tf.keras.models.Sequential([\n",
    "        # 将特征图展成⼀维向量\n",
    "        tf.keras.layers.Flatten(),\n",
    "        # 全连接层：4096个神经元，激活函数是relu\n",
    "        tf.keras.layers.Dense(4096, activation='relu'),\n",
    "        # 随机失活\n",
    "        tf.keras.layers.Dropout(0.5),\n",
    "        # 全连接层：4096个神经元，激活函数是relu\n",
    "        tf.keras.layers.Dense(4096, activation='relu'),\n",
    "        # 随机失活\n",
    "        tf.keras.layers.Dropout(0.5),\n",
    "        # 全连接层：10个神经元，激活函数是softmax\n",
    "        tf.keras.layers.Dense(10, activation='softmax')\n",
    "    ]))\n",
    "\n",
    "    return net"
   ],
   "metadata": {
    "execution": {
     "iopub.status.busy": "2024-04-23T06:29:01.720057Z",
     "iopub.execute_input": "2024-04-23T06:29:01.720738Z",
     "iopub.status.idle": "2024-04-23T06:29:01.728040Z",
     "shell.execute_reply.started": "2024-04-23T06:29:01.720710Z",
     "shell.execute_reply": "2024-04-23T06:29:01.727052Z"
    },
    "trusted": true,
    "pycharm": {
     "name": "#%%\n"
    }
   },
   "execution_count": 3,
   "outputs": []
  },
  {
   "cell_type": "code",
   "source": [
    "# 定义5个卷积块，指明每个卷积块中的卷积层个数及相应的卷积核个数\n",
    "conv_arch = ((2, 64), (2, 128), (3, 256), (3, 512), (3, 512))"
   ],
   "metadata": {
    "execution": {
     "iopub.status.busy": "2024-04-23T06:29:14.482419Z",
     "iopub.execute_input": "2024-04-23T06:29:14.483115Z",
     "iopub.status.idle": "2024-04-23T06:29:14.487436Z",
     "shell.execute_reply.started": "2024-04-23T06:29:14.483087Z",
     "shell.execute_reply": "2024-04-23T06:29:14.486449Z"
    },
    "trusted": true,
    "pycharm": {
     "name": "#%%\n"
    }
   },
   "execution_count": 4,
   "outputs": []
  },
  {
   "cell_type": "code",
   "source": [
    "# ⽹络实例化\n",
    "net = vgg(conv_arch)"
   ],
   "metadata": {
    "execution": {
     "iopub.status.busy": "2024-04-23T06:29:22.060626Z",
     "iopub.execute_input": "2024-04-23T06:29:22.060995Z",
     "iopub.status.idle": "2024-04-23T06:29:22.704541Z",
     "shell.execute_reply.started": "2024-04-23T06:29:22.060966Z",
     "shell.execute_reply": "2024-04-23T06:29:22.703550Z"
    },
    "trusted": true,
    "pycharm": {
     "name": "#%%\n"
    }
   },
   "execution_count": 5,
   "outputs": []
  },
  {
   "cell_type": "code",
   "source": [
    "# 构造输⼊X，并将其送⼊到net⽹络中\n",
    "X = tf.random.uniform((1,224,224,1))\n",
    "y = net(X)\n",
    "# 通过net.summay()查看⽹络的形状\n",
    "net.summary()"
   ],
   "metadata": {
    "execution": {
     "iopub.status.busy": "2024-04-23T06:29:30.599550Z",
     "iopub.execute_input": "2024-04-23T06:29:30.599919Z",
     "iopub.status.idle": "2024-04-23T06:29:32.482348Z",
     "shell.execute_reply.started": "2024-04-23T06:29:30.599890Z",
     "shell.execute_reply": "2024-04-23T06:29:32.481444Z"
    },
    "trusted": true,
    "pycharm": {
     "name": "#%%\n"
    }
   },
   "execution_count": 6,
   "outputs": [
    {
     "name": "stdout",
     "output_type": "stream",
     "text": [
      "Model: \"sequential\"\n",
      "_________________________________________________________________\n",
      "Layer (type)                 Output Shape              Param #   \n",
      "=================================================================\n",
      "sequential_1 (Sequential)    (1, 112, 112, 64)         37568     \n",
      "_________________________________________________________________\n",
      "sequential_2 (Sequential)    (1, 56, 56, 128)          221440    \n",
      "_________________________________________________________________\n",
      "sequential_3 (Sequential)    (1, 28, 28, 256)          1475328   \n",
      "_________________________________________________________________\n",
      "sequential_4 (Sequential)    (1, 14, 14, 512)          5899776   \n",
      "_________________________________________________________________\n",
      "sequential_5 (Sequential)    (1, 7, 7, 512)            7079424   \n",
      "_________________________________________________________________\n",
      "sequential_6 (Sequential)    (1, 10)                   119586826 \n",
      "=================================================================\n",
      "Total params: 134,300,362\n",
      "Trainable params: 134,300,362\n",
      "Non-trainable params: 0\n",
      "_________________________________________________________________\n"
     ]
    }
   ]
  },
  {
   "cell_type": "markdown",
   "source": [
    "# 手写数字识别"
   ],
   "metadata": {
    "pycharm": {
     "name": "#%% md\n"
    }
   }
  },
  {
   "cell_type": "code",
   "source": [
    "import numpy as np\n",
    "# 数据集\n",
    "from tensorflow.keras.datasets import mnist\n",
    "\n",
    "# 获取⼿写数字数据集\n",
    "(train_images, train_labels), (test_images, test_labels) = mnist.load_data()\n",
    "# 训练集数据维度的调整：N H W C\n",
    "train_images = np.reshape(train_images,(train_images.shape[0],train_images.shape[1],train_images.shape[2],1))\n",
    "# 测试集数据维度的调整：N H W C\n",
    "test_images = np.reshape(test_images,(test_images.shape[0],test_images.shape[1],test_images.shape[2],1))"
   ],
   "metadata": {
    "execution": {
     "iopub.status.busy": "2024-04-23T06:31:03.129770Z",
     "iopub.execute_input": "2024-04-23T06:31:03.130124Z",
     "iopub.status.idle": "2024-04-23T06:31:03.554627Z",
     "shell.execute_reply.started": "2024-04-23T06:31:03.130097Z",
     "shell.execute_reply": "2024-04-23T06:31:03.553703Z"
    },
    "trusted": true,
    "pycharm": {
     "name": "#%%\n"
    }
   },
   "execution_count": 10,
   "outputs": [
    {
     "name": "stdout",
     "text": "Downloading data from https://storage.googleapis.com/tensorflow/tf-keras-datasets/mnist.npz\n\u001B[1m11490434/11490434\u001B[0m \u001B[32m━━━━━━━━━━━━━━━━━━━━\u001B[0m\u001B[37m\u001B[0m \u001B[1m0s\u001B[0m 0us/step\n",
     "output_type": "stream"
    }
   ]
  },
  {
   "cell_type": "code",
   "source": [
    "# 定义两个⽅法随机抽取部分样本演示\n",
    "# 获取训练集数据\n",
    "def get_train(size):\n",
    " # 随机⽣成要抽样的样本的索引\n",
    " index = np.random.randint(0, np.shape(train_images)[0],size)\n",
    " # 将这些数据resize成22*227⼤⼩\n",
    " resized_images = tf.image.resize_with_pad(train_images[index],224,224,)\n",
    " # 返回抽取的\n",
    " return resized_images.numpy(), train_labels[index]\n",
    "\n",
    "# 获取测试集数据\n",
    "def get_test(size):\n",
    " # 随机⽣成要抽样的样本的索引\n",
    " index = np.random.randint(0, np.shape(test_images)[0], size)\n",
    " # 将这些数据resize成224*224⼤⼩\n",
    " resized_images = tf.image.resize_with_pad(test_images[index],224,224,)\n",
    " # 返回抽样的测试样本\n",
    " return resized_images.numpy(), test_labels[index]"
   ],
   "metadata": {
    "execution": {
     "iopub.status.busy": "2024-04-23T06:31:17.363164Z",
     "iopub.execute_input": "2024-04-23T06:31:17.363521Z",
     "iopub.status.idle": "2024-04-23T06:31:17.370502Z",
     "shell.execute_reply.started": "2024-04-23T06:31:17.363496Z",
     "shell.execute_reply": "2024-04-23T06:31:17.369579Z"
    },
    "trusted": true,
    "pycharm": {
     "name": "#%%\n"
    }
   },
   "execution_count": 11,
   "outputs": []
  },
  {
   "cell_type": "code",
   "source": [
    "# 获取训练样本和测试样本\n",
    "train_images,train_labels = get_train(256)\n",
    "test_images,test_labels = get_test(128)"
   ],
   "metadata": {
    "execution": {
     "iopub.status.busy": "2024-04-23T06:31:27.840849Z",
     "iopub.execute_input": "2024-04-23T06:31:27.841596Z",
     "iopub.status.idle": "2024-04-23T06:31:28.756116Z",
     "shell.execute_reply.started": "2024-04-23T06:31:27.841565Z",
     "shell.execute_reply": "2024-04-23T06:31:28.755196Z"
    },
    "trusted": true,
    "pycharm": {
     "name": "#%%\n"
    }
   },
   "execution_count": 12,
   "outputs": []
  },
  {
   "cell_type": "code",
   "source": [
    "# 模型编译\n",
    "# 指定优化器，损失函数和评价指标\n",
    "optimizer = tf.keras.optimizers.SGD(learning_rate=0.01, momentum=0.0)\n",
    "net.compile(optimizer=optimizer,\n",
    "                loss='sparse_categorical_crossentropy',\n",
    "                metrics=['accuracy'])"
   ],
   "metadata": {
    "execution": {
     "iopub.status.busy": "2024-04-23T06:31:36.205797Z",
     "iopub.execute_input": "2024-04-23T06:31:36.206509Z",
     "iopub.status.idle": "2024-04-23T06:31:36.222391Z",
     "shell.execute_reply.started": "2024-04-23T06:31:36.206475Z",
     "shell.execute_reply": "2024-04-23T06:31:36.221371Z"
    },
    "trusted": true,
    "pycharm": {
     "name": "#%%\n"
    }
   },
   "execution_count": 13,
   "outputs": []
  },
  {
   "cell_type": "code",
   "source": [
    "# 模型训练：指定训练数据，batchsize,epoch,验证集\n",
    "net.fit(train_images,train_labels,batch_size=128,epochs=3,verbose=1,validation_split=0.1)"
   ],
   "metadata": {
    "execution": {
     "iopub.status.busy": "2024-04-23T06:31:45.128153Z",
     "iopub.execute_input": "2024-04-23T06:31:45.128518Z",
     "iopub.status.idle": "2024-04-23T06:35:54.578713Z",
     "shell.execute_reply.started": "2024-04-23T06:31:45.128490Z",
     "shell.execute_reply": "2024-04-23T06:35:54.577683Z"
    },
    "trusted": true,
    "pycharm": {
     "name": "#%%\n"
    }
   },
   "execution_count": 14,
   "outputs": [
    {
     "name": "stdout",
     "text": "Epoch 1/3\n",
     "output_type": "stream"
    },
    {
     "name": "stderr",
     "text": "2024-04-23 06:31:49.711038: E external/local_xla/xla/service/slow_operation_alarm.cc:65] Trying algorithm eng15{k5=1,k6=0,k7=1,k10=1} for conv (f32[128,64,224,224]{3,2,1,0}, u8[0]{0}) custom-call(f32[128,1,224,224]{3,2,1,0}, f32[64,1,3,3]{3,2,1,0}, f32[64]{0}), window={size=3x3 pad=1_1x1_1}, dim_labels=bf01_oi01->bf01, custom_call_target=\"__cudnn$convBiasActivationForward\", backend_config={\"conv_result_scale\":1,\"activation_mode\":\"kRelu\",\"side_input_scale\":0,\"leakyrelu_alpha\":0} is taking a while...\n2024-04-23 06:31:51.560317: E external/local_xla/xla/service/gpu/buffer_comparator.cc:1137] Difference at 0: 1.10754, expected 0.564662\n2024-04-23 06:31:51.560419: E external/local_xla/xla/service/gpu/buffer_comparator.cc:1137] Difference at 1: 1.59741, expected 1.05453\n2024-04-23 06:31:51.560439: E external/local_xla/xla/service/gpu/buffer_comparator.cc:1137] Difference at 2: 1.73904, expected 1.19615\n2024-04-23 06:31:51.560452: E external/local_xla/xla/service/gpu/buffer_comparator.cc:1137] Difference at 3: 1.70995, expected 1.16707\n2024-04-23 06:31:51.560463: E external/local_xla/xla/service/gpu/buffer_comparator.cc:1137] Difference at 4: 1.51769, expected 0.974805\n2024-04-23 06:31:51.560475: E external/local_xla/xla/service/gpu/buffer_comparator.cc:1137] Difference at 5: 1.59343, expected 1.05055\n2024-04-23 06:31:51.560486: E external/local_xla/xla/service/gpu/buffer_comparator.cc:1137] Difference at 6: 1.67058, expected 1.1277\n2024-04-23 06:31:51.560496: E external/local_xla/xla/service/gpu/buffer_comparator.cc:1137] Difference at 7: 1.8091, expected 1.26621\n2024-04-23 06:31:51.560507: E external/local_xla/xla/service/gpu/buffer_comparator.cc:1137] Difference at 8: 1.54906, expected 1.00618\n2024-04-23 06:31:51.560518: E external/local_xla/xla/service/gpu/buffer_comparator.cc:1137] Difference at 9: 1.87642, expected 1.33354\n2024-04-23 06:31:51.742961: E external/local_xla/xla/service/gpu/conv_algorithm_picker.cc:705] Results mismatch between different convolution algorithms. This is likely a bug/unexpected loss of precision in cudnn.\n(f32[128,64,224,224]{3,2,1,0}, u8[0]{0}) custom-call(f32[128,1,224,224]{3,2,1,0}, f32[64,1,3,3]{3,2,1,0}, f32[64]{0}), window={size=3x3 pad=1_1x1_1}, dim_labels=bf01_oi01->bf01, custom_call_target=\"__cudnn$convBiasActivationForward\", backend_config={\"conv_result_scale\":1,\"activation_mode\":\"kRelu\",\"side_input_scale\":0,\"leakyrelu_alpha\":0} for eng20{k2=1,k4=1,k5=1,k6=0,k7=0} vs eng15{k5=1,k6=0,k7=1,k10=1}\n2024-04-23 06:31:51.743024: E external/local_xla/xla/service/gpu/conv_algorithm_picker.cc:270] Device: Tesla P100-PCIE-16GB\n2024-04-23 06:31:51.743042: E external/local_xla/xla/service/gpu/conv_algorithm_picker.cc:271] Platform: Compute Capability 6.0\n2024-04-23 06:31:51.743053: E external/local_xla/xla/service/gpu/conv_algorithm_picker.cc:272] Driver: 12020 (535.129.3)\n2024-04-23 06:31:51.743063: E external/local_xla/xla/service/gpu/conv_algorithm_picker.cc:273] Runtime: <undefined>\n2024-04-23 06:31:51.743083: E external/local_xla/xla/service/gpu/conv_algorithm_picker.cc:280] cudnn version: 8.9.0\n2024-04-23 06:31:51.743153: E external/local_xla/xla/service/slow_operation_alarm.cc:133] The operation took 3.03224261s\nTrying algorithm eng15{k5=1,k6=0,k7=1,k10=1} for conv (f32[128,64,224,224]{3,2,1,0}, u8[0]{0}) custom-call(f32[128,1,224,224]{3,2,1,0}, f32[64,1,3,3]{3,2,1,0}, f32[64]{0}), window={size=3x3 pad=1_1x1_1}, dim_labels=bf01_oi01->bf01, custom_call_target=\"__cudnn$convBiasActivationForward\", backend_config={\"conv_result_scale\":1,\"activation_mode\":\"kRelu\",\"side_input_scale\":0,\"leakyrelu_alpha\":0} is taking a while...\n2024-04-23 06:31:53.779971: E external/local_xla/xla/service/slow_operation_alarm.cc:65] Trying algorithm eng15{k5=1,k6=0,k7=1,k10=1} for conv (f32[128,64,224,224]{3,2,1,0}, u8[0]{0}) custom-call(f32[128,1,224,224]{3,2,1,0}, f32[64,1,3,3]{3,2,1,0}, f32[64]{0}), window={size=3x3 pad=1_1x1_1}, dim_labels=bf01_oi01->bf01, custom_call_target=\"__cudnn$convBiasActivationForward\", backend_config={\"conv_result_scale\":1,\"activation_mode\":\"kRelu\",\"side_input_scale\":0,\"leakyrelu_alpha\":0} is taking a while...\n2024-04-23 06:31:55.656858: E external/local_xla/xla/service/gpu/buffer_comparator.cc:1137] Difference at 0: 1.10754, expected 0.564662\n2024-04-23 06:31:55.656916: E external/local_xla/xla/service/gpu/buffer_comparator.cc:1137] Difference at 1: 1.59741, expected 1.05453\n2024-04-23 06:31:55.656930: E external/local_xla/xla/service/gpu/buffer_comparator.cc:1137] Difference at 2: 1.73904, expected 1.19615\n2024-04-23 06:31:55.656943: E external/local_xla/xla/service/gpu/buffer_comparator.cc:1137] Difference at 3: 1.70995, expected 1.16707\n2024-04-23 06:31:55.656960: E external/local_xla/xla/service/gpu/buffer_comparator.cc:1137] Difference at 4: 1.51769, expected 0.974805\n2024-04-23 06:31:55.656972: E external/local_xla/xla/service/gpu/buffer_comparator.cc:1137] Difference at 5: 1.59343, expected 1.05055\n2024-04-23 06:31:55.656982: E external/local_xla/xla/service/gpu/buffer_comparator.cc:1137] Difference at 6: 1.67058, expected 1.1277\n2024-04-23 06:31:55.656994: E external/local_xla/xla/service/gpu/buffer_comparator.cc:1137] Difference at 7: 1.8091, expected 1.26621\n2024-04-23 06:31:55.657004: E external/local_xla/xla/service/gpu/buffer_comparator.cc:1137] Difference at 8: 1.54906, expected 1.00618\n2024-04-23 06:31:55.657016: E external/local_xla/xla/service/gpu/buffer_comparator.cc:1137] Difference at 9: 1.87642, expected 1.33354\n2024-04-23 06:31:55.835390: E external/local_xla/xla/service/gpu/conv_algorithm_picker.cc:705] Results mismatch between different convolution algorithms. This is likely a bug/unexpected loss of precision in cudnn.\n(f32[128,64,224,224]{3,2,1,0}, u8[0]{0}) custom-call(f32[128,1,224,224]{3,2,1,0}, f32[64,1,3,3]{3,2,1,0}, f32[64]{0}), window={size=3x3 pad=1_1x1_1}, dim_labels=bf01_oi01->bf01, custom_call_target=\"__cudnn$convBiasActivationForward\", backend_config={\"conv_result_scale\":1,\"activation_mode\":\"kRelu\",\"side_input_scale\":0,\"leakyrelu_alpha\":0} for eng20{k2=1,k4=1,k5=1,k6=0,k7=0} vs eng15{k5=1,k6=0,k7=1,k10=1}\n2024-04-23 06:31:55.835455: E external/local_xla/xla/service/gpu/conv_algorithm_picker.cc:270] Device: Tesla P100-PCIE-16GB\n2024-04-23 06:31:55.835465: E external/local_xla/xla/service/gpu/conv_algorithm_picker.cc:271] Platform: Compute Capability 6.0\n2024-04-23 06:31:55.835472: E external/local_xla/xla/service/gpu/conv_algorithm_picker.cc:272] Driver: 12020 (535.129.3)\n2024-04-23 06:31:55.835480: E external/local_xla/xla/service/gpu/conv_algorithm_picker.cc:273] Runtime: <undefined>\n2024-04-23 06:31:55.835497: E external/local_xla/xla/service/gpu/conv_algorithm_picker.cc:280] cudnn version: 8.9.0\n2024-04-23 06:31:55.835539: E external/local_xla/xla/service/slow_operation_alarm.cc:133] The operation took 3.055726291s\nTrying algorithm eng15{k5=1,k6=0,k7=1,k10=1} for conv (f32[128,64,224,224]{3,2,1,0}, u8[0]{0}) custom-call(f32[128,1,224,224]{3,2,1,0}, f32[64,1,3,3]{3,2,1,0}, f32[64]{0}), window={size=3x3 pad=1_1x1_1}, dim_labels=bf01_oi01->bf01, custom_call_target=\"__cudnn$convBiasActivationForward\", backend_config={\"conv_result_scale\":1,\"activation_mode\":\"kRelu\",\"side_input_scale\":0,\"leakyrelu_alpha\":0} is taking a while...\nWARNING: All log messages before absl::InitializeLog() is called are written to STDERR\nI0000 00:00:1713854037.260517      83 device_compiler.h:186] Compiled cluster using XLA!  This line is logged at most once for the lifetime of the process.\nW0000 00:00:1713854037.284914      83 graph_launch.cc:671] Fallback to op-by-op mode because memset node breaks graph update\n",
     "output_type": "stream"
    },
    {
     "name": "stdout",
     "text": "\u001B[1m1/2\u001B[0m \u001B[32m━━━━━━━━━━\u001B[0m\u001B[37m━━━━━━━━━━\u001B[0m \u001B[1m2:12\u001B[0m 133s/step - accuracy: 0.0781 - loss: 2.5912",
     "output_type": "stream"
    },
    {
     "name": "stderr",
     "text": "2024-04-23 06:34:00.832407: E external/local_xla/xla/service/slow_operation_alarm.cc:65] Trying algorithm eng15{k5=1,k6=0,k7=1,k10=1} for conv (f32[102,64,224,224]{3,2,1,0}, u8[0]{0}) custom-call(f32[102,1,224,224]{3,2,1,0}, f32[64,1,3,3]{3,2,1,0}, f32[64]{0}), window={size=3x3 pad=1_1x1_1}, dim_labels=bf01_oi01->bf01, custom_call_target=\"__cudnn$convBiasActivationForward\", backend_config={\"conv_result_scale\":1,\"activation_mode\":\"kRelu\",\"side_input_scale\":0,\"leakyrelu_alpha\":0} is taking a while...\n2024-04-23 06:34:02.098438: E external/local_xla/xla/service/gpu/buffer_comparator.cc:1137] Difference at 0: 1.35547, expected 1.04633\n2024-04-23 06:34:02.098503: E external/local_xla/xla/service/gpu/buffer_comparator.cc:1137] Difference at 1: 1.65821, expected 1.34907\n2024-04-23 06:34:02.098521: E external/local_xla/xla/service/gpu/buffer_comparator.cc:1137] Difference at 3: 1.80334, expected 1.4942\n2024-04-23 06:34:02.098538: E external/local_xla/xla/service/gpu/buffer_comparator.cc:1137] Difference at 4: 1.64374, expected 1.3346\n2024-04-23 06:34:02.098550: E external/local_xla/xla/service/gpu/buffer_comparator.cc:1137] Difference at 6: 1.86242, expected 1.55328\n2024-04-23 06:34:02.098561: E external/local_xla/xla/service/gpu/buffer_comparator.cc:1137] Difference at 7: 1.73538, expected 1.42625\n2024-04-23 06:34:02.098573: E external/local_xla/xla/service/gpu/buffer_comparator.cc:1137] Difference at 8: 1.65215, expected 1.34301\n2024-04-23 06:34:02.098583: E external/local_xla/xla/service/gpu/buffer_comparator.cc:1137] Difference at 9: 1.54649, expected 1.23735\n2024-04-23 06:34:02.098593: E external/local_xla/xla/service/gpu/buffer_comparator.cc:1137] Difference at 10: 1.40107, expected 1.09194\n2024-04-23 06:34:02.098604: E external/local_xla/xla/service/gpu/buffer_comparator.cc:1137] Difference at 11: 1.63687, expected 1.32774\n2024-04-23 06:34:02.245425: E external/local_xla/xla/service/gpu/conv_algorithm_picker.cc:705] Results mismatch between different convolution algorithms. This is likely a bug/unexpected loss of precision in cudnn.\n(f32[102,64,224,224]{3,2,1,0}, u8[0]{0}) custom-call(f32[102,1,224,224]{3,2,1,0}, f32[64,1,3,3]{3,2,1,0}, f32[64]{0}), window={size=3x3 pad=1_1x1_1}, dim_labels=bf01_oi01->bf01, custom_call_target=\"__cudnn$convBiasActivationForward\", backend_config={\"conv_result_scale\":1,\"activation_mode\":\"kRelu\",\"side_input_scale\":0,\"leakyrelu_alpha\":0} for eng20{k2=1,k4=1,k5=1,k6=0,k7=0} vs eng15{k5=1,k6=0,k7=1,k10=1}\n2024-04-23 06:34:02.245491: E external/local_xla/xla/service/gpu/conv_algorithm_picker.cc:270] Device: Tesla P100-PCIE-16GB\n2024-04-23 06:34:02.245506: E external/local_xla/xla/service/gpu/conv_algorithm_picker.cc:271] Platform: Compute Capability 6.0\n2024-04-23 06:34:02.245523: E external/local_xla/xla/service/gpu/conv_algorithm_picker.cc:272] Driver: 12020 (535.129.3)\n2024-04-23 06:34:02.245534: E external/local_xla/xla/service/gpu/conv_algorithm_picker.cc:273] Runtime: <undefined>\n2024-04-23 06:34:02.245557: E external/local_xla/xla/service/gpu/conv_algorithm_picker.cc:280] cudnn version: 8.9.0\n2024-04-23 06:34:02.245614: E external/local_xla/xla/service/slow_operation_alarm.cc:133] The operation took 2.413376596s\nTrying algorithm eng15{k5=1,k6=0,k7=1,k10=1} for conv (f32[102,64,224,224]{3,2,1,0}, u8[0]{0}) custom-call(f32[102,1,224,224]{3,2,1,0}, f32[64,1,3,3]{3,2,1,0}, f32[64]{0}), window={size=3x3 pad=1_1x1_1}, dim_labels=bf01_oi01->bf01, custom_call_target=\"__cudnn$convBiasActivationForward\", backend_config={\"conv_result_scale\":1,\"activation_mode\":\"kRelu\",\"side_input_scale\":0,\"leakyrelu_alpha\":0} is taking a while...\n2024-04-23 06:34:03.857925: E external/local_xla/xla/service/slow_operation_alarm.cc:65] Trying algorithm eng15{k5=1,k6=0,k7=1,k10=1} for conv (f32[102,64,224,224]{3,2,1,0}, u8[0]{0}) custom-call(f32[102,1,224,224]{3,2,1,0}, f32[64,1,3,3]{3,2,1,0}, f32[64]{0}), window={size=3x3 pad=1_1x1_1}, dim_labels=bf01_oi01->bf01, custom_call_target=\"__cudnn$convBiasActivationForward\", backend_config={\"conv_result_scale\":1,\"activation_mode\":\"kRelu\",\"side_input_scale\":0,\"leakyrelu_alpha\":0} is taking a while...\n2024-04-23 06:34:05.173860: E external/local_xla/xla/service/gpu/buffer_comparator.cc:1137] Difference at 0: 1.35547, expected 1.04633\n2024-04-23 06:34:05.173930: E external/local_xla/xla/service/gpu/buffer_comparator.cc:1137] Difference at 1: 1.65821, expected 1.34907\n2024-04-23 06:34:05.173945: E external/local_xla/xla/service/gpu/buffer_comparator.cc:1137] Difference at 3: 1.80334, expected 1.4942\n2024-04-23 06:34:05.173955: E external/local_xla/xla/service/gpu/buffer_comparator.cc:1137] Difference at 4: 1.64374, expected 1.3346\n2024-04-23 06:34:05.173967: E external/local_xla/xla/service/gpu/buffer_comparator.cc:1137] Difference at 6: 1.86242, expected 1.55328\n2024-04-23 06:34:05.173977: E external/local_xla/xla/service/gpu/buffer_comparator.cc:1137] Difference at 7: 1.73538, expected 1.42625\n2024-04-23 06:34:05.173987: E external/local_xla/xla/service/gpu/buffer_comparator.cc:1137] Difference at 8: 1.65215, expected 1.34301\n2024-04-23 06:34:05.173998: E external/local_xla/xla/service/gpu/buffer_comparator.cc:1137] Difference at 9: 1.54649, expected 1.23735\n2024-04-23 06:34:05.174008: E external/local_xla/xla/service/gpu/buffer_comparator.cc:1137] Difference at 10: 1.40107, expected 1.09194\n2024-04-23 06:34:05.174018: E external/local_xla/xla/service/gpu/buffer_comparator.cc:1137] Difference at 11: 1.63687, expected 1.32774\n2024-04-23 06:34:05.326906: E external/local_xla/xla/service/gpu/conv_algorithm_picker.cc:705] Results mismatch between different convolution algorithms. This is likely a bug/unexpected loss of precision in cudnn.\n(f32[102,64,224,224]{3,2,1,0}, u8[0]{0}) custom-call(f32[102,1,224,224]{3,2,1,0}, f32[64,1,3,3]{3,2,1,0}, f32[64]{0}), window={size=3x3 pad=1_1x1_1}, dim_labels=bf01_oi01->bf01, custom_call_target=\"__cudnn$convBiasActivationForward\", backend_config={\"conv_result_scale\":1,\"activation_mode\":\"kRelu\",\"side_input_scale\":0,\"leakyrelu_alpha\":0} for eng20{k2=1,k4=1,k5=1,k6=0,k7=0} vs eng15{k5=1,k6=0,k7=1,k10=1}\n2024-04-23 06:34:05.326967: E external/local_xla/xla/service/gpu/conv_algorithm_picker.cc:270] Device: Tesla P100-PCIE-16GB\n2024-04-23 06:34:05.326981: E external/local_xla/xla/service/gpu/conv_algorithm_picker.cc:271] Platform: Compute Capability 6.0\n2024-04-23 06:34:05.326997: E external/local_xla/xla/service/gpu/conv_algorithm_picker.cc:272] Driver: 12020 (535.129.3)\n2024-04-23 06:34:05.327007: E external/local_xla/xla/service/gpu/conv_algorithm_picker.cc:273] Runtime: <undefined>\n2024-04-23 06:34:05.327031: E external/local_xla/xla/service/gpu/conv_algorithm_picker.cc:280] cudnn version: 8.9.0\n2024-04-23 06:34:05.327088: E external/local_xla/xla/service/slow_operation_alarm.cc:133] The operation took 2.469385921s\nTrying algorithm eng15{k5=1,k6=0,k7=1,k10=1} for conv (f32[102,64,224,224]{3,2,1,0}, u8[0]{0}) custom-call(f32[102,1,224,224]{3,2,1,0}, f32[64,1,3,3]{3,2,1,0}, f32[64]{0}), window={size=3x3 pad=1_1x1_1}, dim_labels=bf01_oi01->bf01, custom_call_target=\"__cudnn$convBiasActivationForward\", backend_config={\"conv_result_scale\":1,\"activation_mode\":\"kRelu\",\"side_input_scale\":0,\"leakyrelu_alpha\":0} is taking a while...\nW0000 00:00:1713854137.972085      86 graph_launch.cc:671] Fallback to op-by-op mode because memset node breaks graph update\n",
     "output_type": "stream"
    },
    {
     "name": "stdout",
     "text": "\u001B[1m2/2\u001B[0m \u001B[32m━━━━━━━━━━━━━━━━━━━━\u001B[0m\u001B[37m\u001B[0m \u001B[1m0s\u001B[0m 101s/step - accuracy: 0.0825 - loss: 2.5560  ",
     "output_type": "stream"
    },
    {
     "name": "stderr",
     "text": "2024-04-23 06:35:39.743470: E external/local_xla/xla/service/gpu/buffer_comparator.cc:1137] Difference at 0: 0.84189, expected 0.195114\n2024-04-23 06:35:39.743534: E external/local_xla/xla/service/gpu/buffer_comparator.cc:1137] Difference at 1: 1.65739, expected 1.01062\n2024-04-23 06:35:39.743549: E external/local_xla/xla/service/gpu/buffer_comparator.cc:1137] Difference at 2: 1.2831, expected 0.636325\n2024-04-23 06:35:39.743564: E external/local_xla/xla/service/gpu/buffer_comparator.cc:1137] Difference at 3: 1.66445, expected 1.01768\n2024-04-23 06:35:39.743579: E external/local_xla/xla/service/gpu/buffer_comparator.cc:1137] Difference at 4: 1.4983, expected 0.851522\n2024-04-23 06:35:39.743590: E external/local_xla/xla/service/gpu/buffer_comparator.cc:1137] Difference at 5: 1.13419, expected 0.487417\n2024-04-23 06:35:39.743600: E external/local_xla/xla/service/gpu/buffer_comparator.cc:1137] Difference at 6: 1.82225, expected 1.17548\n2024-04-23 06:35:39.743611: E external/local_xla/xla/service/gpu/buffer_comparator.cc:1137] Difference at 7: 1.70908, expected 1.06231\n2024-04-23 06:35:39.743622: E external/local_xla/xla/service/gpu/buffer_comparator.cc:1137] Difference at 8: 1.18861, expected 0.541837\n2024-04-23 06:35:39.743632: E external/local_xla/xla/service/gpu/buffer_comparator.cc:1137] Difference at 9: 1.58887, expected 0.942093\n2024-04-23 06:35:39.780164: E external/local_xla/xla/service/gpu/conv_algorithm_picker.cc:705] Results mismatch between different convolution algorithms. This is likely a bug/unexpected loss of precision in cudnn.\n(f32[26,64,224,224]{3,2,1,0}, u8[0]{0}) custom-call(f32[26,1,224,224]{3,2,1,0}, f32[64,1,3,3]{3,2,1,0}, f32[64]{0}), window={size=3x3 pad=1_1x1_1}, dim_labels=bf01_oi01->bf01, custom_call_target=\"__cudnn$convBiasActivationForward\", backend_config={\"conv_result_scale\":1,\"activation_mode\":\"kRelu\",\"side_input_scale\":0,\"leakyrelu_alpha\":0} for eng20{k2=1,k4=1,k5=1,k6=0,k7=0} vs eng15{k5=1,k6=0,k7=1,k10=1}\n2024-04-23 06:35:39.780224: E external/local_xla/xla/service/gpu/conv_algorithm_picker.cc:270] Device: Tesla P100-PCIE-16GB\n2024-04-23 06:35:39.780237: E external/local_xla/xla/service/gpu/conv_algorithm_picker.cc:271] Platform: Compute Capability 6.0\n2024-04-23 06:35:39.780250: E external/local_xla/xla/service/gpu/conv_algorithm_picker.cc:272] Driver: 12020 (535.129.3)\n2024-04-23 06:35:39.780260: E external/local_xla/xla/service/gpu/conv_algorithm_picker.cc:273] Runtime: <undefined>\n2024-04-23 06:35:39.780279: E external/local_xla/xla/service/gpu/conv_algorithm_picker.cc:280] cudnn version: 8.9.0\n2024-04-23 06:35:40.530040: E external/local_xla/xla/service/gpu/buffer_comparator.cc:1137] Difference at 0: 0.84189, expected 0.195114\n2024-04-23 06:35:40.530105: E external/local_xla/xla/service/gpu/buffer_comparator.cc:1137] Difference at 1: 1.65739, expected 1.01062\n2024-04-23 06:35:40.530120: E external/local_xla/xla/service/gpu/buffer_comparator.cc:1137] Difference at 2: 1.2831, expected 0.636325\n2024-04-23 06:35:40.530153: E external/local_xla/xla/service/gpu/buffer_comparator.cc:1137] Difference at 3: 1.66445, expected 1.01768\n2024-04-23 06:35:40.530166: E external/local_xla/xla/service/gpu/buffer_comparator.cc:1137] Difference at 4: 1.4983, expected 0.851522\n2024-04-23 06:35:40.530176: E external/local_xla/xla/service/gpu/buffer_comparator.cc:1137] Difference at 5: 1.13419, expected 0.487417\n2024-04-23 06:35:40.530188: E external/local_xla/xla/service/gpu/buffer_comparator.cc:1137] Difference at 6: 1.82225, expected 1.17548\n2024-04-23 06:35:40.530198: E external/local_xla/xla/service/gpu/buffer_comparator.cc:1137] Difference at 7: 1.70908, expected 1.06231\n2024-04-23 06:35:40.530209: E external/local_xla/xla/service/gpu/buffer_comparator.cc:1137] Difference at 8: 1.18861, expected 0.541837\n2024-04-23 06:35:40.530219: E external/local_xla/xla/service/gpu/buffer_comparator.cc:1137] Difference at 9: 1.58887, expected 0.942093\n2024-04-23 06:35:40.566641: E external/local_xla/xla/service/gpu/conv_algorithm_picker.cc:705] Results mismatch between different convolution algorithms. This is likely a bug/unexpected loss of precision in cudnn.\n(f32[26,64,224,224]{3,2,1,0}, u8[0]{0}) custom-call(f32[26,1,224,224]{3,2,1,0}, f32[64,1,3,3]{3,2,1,0}, f32[64]{0}), window={size=3x3 pad=1_1x1_1}, dim_labels=bf01_oi01->bf01, custom_call_target=\"__cudnn$convBiasActivationForward\", backend_config={\"conv_result_scale\":1,\"activation_mode\":\"kRelu\",\"side_input_scale\":0,\"leakyrelu_alpha\":0} for eng20{k2=1,k4=1,k5=1,k6=0,k7=0} vs eng15{k5=1,k6=0,k7=1,k10=1}\n2024-04-23 06:35:40.566708: E external/local_xla/xla/service/gpu/conv_algorithm_picker.cc:270] Device: Tesla P100-PCIE-16GB\n2024-04-23 06:35:40.566722: E external/local_xla/xla/service/gpu/conv_algorithm_picker.cc:271] Platform: Compute Capability 6.0\n2024-04-23 06:35:40.566733: E external/local_xla/xla/service/gpu/conv_algorithm_picker.cc:272] Driver: 12020 (535.129.3)\n2024-04-23 06:35:40.566744: E external/local_xla/xla/service/gpu/conv_algorithm_picker.cc:273] Runtime: <undefined>\n2024-04-23 06:35:40.566777: E external/local_xla/xla/service/gpu/conv_algorithm_picker.cc:280] cudnn version: 8.9.0\n",
     "output_type": "stream"
    },
    {
     "name": "stdout",
     "text": "\u001B[1m2/2\u001B[0m \u001B[32m━━━━━━━━━━━━━━━━━━━━\u001B[0m\u001B[37m\u001B[0m \u001B[1m246s\u001B[0m 114s/step - accuracy: 0.0840 - loss: 2.5442 - val_accuracy: 0.0385 - val_loss: 2.3193\nEpoch 2/3\n",
     "output_type": "stream"
    },
    {
     "name": "stderr",
     "text": "W0000 00:00:1713854151.622651      83 graph_launch.cc:671] Fallback to op-by-op mode because memset node breaks graph update\n",
     "output_type": "stream"
    },
    {
     "name": "stdout",
     "text": "\u001B[1m2/2\u001B[0m \u001B[32m━━━━━━━━━━━━━━━━━━━━\u001B[0m\u001B[37m\u001B[0m \u001B[1m1s\u001B[0m 693ms/step - accuracy: 0.1932 - loss: 2.2553 - val_accuracy: 0.1538 - val_loss: 2.2780\nEpoch 3/3\n\u001B[1m2/2\u001B[0m \u001B[32m━━━━━━━━━━━━━━━━━━━━\u001B[0m\u001B[37m\u001B[0m \u001B[1m1s\u001B[0m 692ms/step - accuracy: 0.2671 - loss: 2.1842 - val_accuracy: 0.2692 - val_loss: 2.1307\n",
     "output_type": "stream"
    },
    {
     "execution_count": 14,
     "output_type": "execute_result",
     "data": {
      "text/plain": "<keras.src.callbacks.history.History at 0x7ef6a00dac50>"
     },
     "metadata": {}
    }
   ]
  },
  {
   "cell_type": "code",
   "source": [
    "# 指定测试数据\n",
    "net.evaluate(test_images,test_labels,verbose=1)"
   ],
   "metadata": {
    "execution": {
     "iopub.status.busy": "2024-04-23T06:36:09.942665Z",
     "iopub.execute_input": "2024-04-23T06:36:09.943030Z",
     "iopub.status.idle": "2024-04-23T06:36:26.639485Z",
     "shell.execute_reply.started": "2024-04-23T06:36:09.943001Z",
     "shell.execute_reply": "2024-04-23T06:36:26.638604Z"
    },
    "trusted": true,
    "pycharm": {
     "name": "#%%\n"
    }
   },
   "execution_count": 15,
   "outputs": [
    {
     "name": "stderr",
     "text": "2024-04-23 06:36:11.016839: E external/local_xla/xla/service/gpu/buffer_comparator.cc:1137] Difference at 0: 1.2936, expected 0.622453\n2024-04-23 06:36:11.016904: E external/local_xla/xla/service/gpu/buffer_comparator.cc:1137] Difference at 1: 2.24655, expected 1.5754\n2024-04-23 06:36:11.016914: E external/local_xla/xla/service/gpu/buffer_comparator.cc:1137] Difference at 2: 2.29063, expected 1.61949\n2024-04-23 06:36:11.016921: E external/local_xla/xla/service/gpu/buffer_comparator.cc:1137] Difference at 3: 1.82898, expected 1.15784\n2024-04-23 06:36:11.016929: E external/local_xla/xla/service/gpu/buffer_comparator.cc:1137] Difference at 4: 1.91122, expected 1.24007\n2024-04-23 06:36:11.016936: E external/local_xla/xla/service/gpu/buffer_comparator.cc:1137] Difference at 5: 2.07738, expected 1.40624\n2024-04-23 06:36:11.016944: E external/local_xla/xla/service/gpu/buffer_comparator.cc:1137] Difference at 6: 2.02675, expected 1.3556\n2024-04-23 06:36:11.016952: E external/local_xla/xla/service/gpu/buffer_comparator.cc:1137] Difference at 7: 2.20346, expected 1.53231\n2024-04-23 06:36:11.016959: E external/local_xla/xla/service/gpu/buffer_comparator.cc:1137] Difference at 8: 1.87777, expected 1.20662\n2024-04-23 06:36:11.016967: E external/local_xla/xla/service/gpu/buffer_comparator.cc:1137] Difference at 9: 2.28965, expected 1.6185\n2024-04-23 06:36:11.061516: E external/local_xla/xla/service/gpu/conv_algorithm_picker.cc:705] Results mismatch between different convolution algorithms. This is likely a bug/unexpected loss of precision in cudnn.\n(f32[32,64,224,224]{3,2,1,0}, u8[0]{0}) custom-call(f32[32,1,224,224]{3,2,1,0}, f32[64,1,3,3]{3,2,1,0}, f32[64]{0}), window={size=3x3 pad=1_1x1_1}, dim_labels=bf01_oi01->bf01, custom_call_target=\"__cudnn$convBiasActivationForward\", backend_config={\"conv_result_scale\":1,\"activation_mode\":\"kRelu\",\"side_input_scale\":0,\"leakyrelu_alpha\":0} for eng20{k2=1,k4=1,k5=1,k6=0,k7=0} vs eng15{k5=1,k6=0,k7=1,k10=1}\n2024-04-23 06:36:11.061583: E external/local_xla/xla/service/gpu/conv_algorithm_picker.cc:270] Device: Tesla P100-PCIE-16GB\n2024-04-23 06:36:11.061595: E external/local_xla/xla/service/gpu/conv_algorithm_picker.cc:271] Platform: Compute Capability 6.0\n2024-04-23 06:36:11.061606: E external/local_xla/xla/service/gpu/conv_algorithm_picker.cc:272] Driver: 12020 (535.129.3)\n2024-04-23 06:36:11.061621: E external/local_xla/xla/service/gpu/conv_algorithm_picker.cc:273] Runtime: <undefined>\n2024-04-23 06:36:11.061644: E external/local_xla/xla/service/gpu/conv_algorithm_picker.cc:280] cudnn version: 8.9.0\n2024-04-23 06:36:12.057640: E external/local_xla/xla/service/gpu/buffer_comparator.cc:1137] Difference at 0: 1.2936, expected 0.622453\n2024-04-23 06:36:12.057706: E external/local_xla/xla/service/gpu/buffer_comparator.cc:1137] Difference at 1: 2.24655, expected 1.5754\n2024-04-23 06:36:12.057718: E external/local_xla/xla/service/gpu/buffer_comparator.cc:1137] Difference at 2: 2.29063, expected 1.61949\n2024-04-23 06:36:12.057732: E external/local_xla/xla/service/gpu/buffer_comparator.cc:1137] Difference at 3: 1.82898, expected 1.15784\n2024-04-23 06:36:12.057746: E external/local_xla/xla/service/gpu/buffer_comparator.cc:1137] Difference at 4: 1.91122, expected 1.24007\n2024-04-23 06:36:12.057756: E external/local_xla/xla/service/gpu/buffer_comparator.cc:1137] Difference at 5: 2.07738, expected 1.40624\n2024-04-23 06:36:12.057766: E external/local_xla/xla/service/gpu/buffer_comparator.cc:1137] Difference at 6: 2.02675, expected 1.3556\n2024-04-23 06:36:12.057784: E external/local_xla/xla/service/gpu/buffer_comparator.cc:1137] Difference at 7: 2.20346, expected 1.53231\n2024-04-23 06:36:12.057795: E external/local_xla/xla/service/gpu/buffer_comparator.cc:1137] Difference at 8: 1.87777, expected 1.20662\n2024-04-23 06:36:12.057805: E external/local_xla/xla/service/gpu/buffer_comparator.cc:1137] Difference at 9: 2.28965, expected 1.6185\n2024-04-23 06:36:12.102388: E external/local_xla/xla/service/gpu/conv_algorithm_picker.cc:705] Results mismatch between different convolution algorithms. This is likely a bug/unexpected loss of precision in cudnn.\n(f32[32,64,224,224]{3,2,1,0}, u8[0]{0}) custom-call(f32[32,1,224,224]{3,2,1,0}, f32[64,1,3,3]{3,2,1,0}, f32[64]{0}), window={size=3x3 pad=1_1x1_1}, dim_labels=bf01_oi01->bf01, custom_call_target=\"__cudnn$convBiasActivationForward\", backend_config={\"conv_result_scale\":1,\"activation_mode\":\"kRelu\",\"side_input_scale\":0,\"leakyrelu_alpha\":0} for eng20{k2=1,k4=1,k5=1,k6=0,k7=0} vs eng15{k5=1,k6=0,k7=1,k10=1}\n2024-04-23 06:36:12.102453: E external/local_xla/xla/service/gpu/conv_algorithm_picker.cc:270] Device: Tesla P100-PCIE-16GB\n2024-04-23 06:36:12.102464: E external/local_xla/xla/service/gpu/conv_algorithm_picker.cc:271] Platform: Compute Capability 6.0\n2024-04-23 06:36:12.102475: E external/local_xla/xla/service/gpu/conv_algorithm_picker.cc:272] Driver: 12020 (535.129.3)\n2024-04-23 06:36:12.102485: E external/local_xla/xla/service/gpu/conv_algorithm_picker.cc:273] Runtime: <undefined>\n2024-04-23 06:36:12.102515: E external/local_xla/xla/service/gpu/conv_algorithm_picker.cc:280] cudnn version: 8.9.0\n",
     "output_type": "stream"
    },
    {
     "name": "stdout",
     "text": "\u001B[1m3/4\u001B[0m \u001B[32m━━━━━━━━━━━━━━━\u001B[0m\u001B[37m━━━━━\u001B[0m \u001B[1m0s\u001B[0m 64ms/step - accuracy: 0.4045 - loss: 1.9811",
     "output_type": "stream"
    },
    {
     "name": "stderr",
     "text": "W0000 00:00:1713854186.381102      86 graph_launch.cc:671] Fallback to op-by-op mode because memset node breaks graph update\n",
     "output_type": "stream"
    },
    {
     "name": "stdout",
     "text": "\u001B[1m4/4\u001B[0m \u001B[32m━━━━━━━━━━━━━━━━━━━━\u001B[0m\u001B[37m\u001B[0m \u001B[1m17s\u001B[0m 65ms/step - accuracy: 0.4021 - loss: 1.9885\n",
     "output_type": "stream"
    },
    {
     "execution_count": 15,
     "output_type": "execute_result",
     "data": {
      "text/plain": "[1.9994637966156006, 0.3984375]"
     },
     "metadata": {}
    }
   ]
  }
 ]
}
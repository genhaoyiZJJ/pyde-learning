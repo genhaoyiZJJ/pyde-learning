{
 "cells": [
  {
   "cell_type": "code",
   "execution_count": 1,
   "outputs": [],
   "source": [
    "# 导⼊相关的⼯具包\n",
    "import tensorflow as tf\n",
    "from tensorflow.keras import layers, activations"
   ],
   "metadata": {
    "collapsed": false,
    "pycharm": {
     "name": "#%%\n"
    }
   }
  },
  {
   "cell_type": "markdown",
   "source": [
    "# 残差块"
   ],
   "metadata": {
    "collapsed": false,
    "pycharm": {
     "name": "#%% md\n"
    }
   }
  },
  {
   "cell_type": "code",
   "execution_count": 6,
   "outputs": [],
   "source": [
    "# 定义ResNet的残差块\n",
    "class Residual(tf.keras.Model):\n",
    "    # 指明残差块的通道数，是否使⽤1*1卷积，步⻓\n",
    "    def __init__(self, num_channels, use_1x1conv=False, strides=1):\n",
    "        super(Residual, self).__init__()\n",
    "        # 卷积层：指明卷积核个数，padding,卷积核⼤⼩，步⻓\n",
    "        self.conv1 = layers.Conv2D(num_channels,padding='same',kernel_size=3,strides=strides)\n",
    "        # 卷积层：指明卷积核个数，padding,卷积核⼤⼩，步⻓\n",
    "        self.conv2 = layers.Conv2D(num_channels, kernel_size=3,padding='same')\n",
    "        if use_1x1conv:\n",
    "            self.conv3 = layers.Conv2D(num_channels,kernel_size=1,strides=strides)\n",
    "        else:\n",
    "            self.conv3 = None\n",
    "        # 指明BN层\n",
    "        self.bn1 = layers.BatchNormalization()\n",
    "        self.bn2 = layers.BatchNormalization()\n",
    "\n",
    "    # 定义前向传播过程\n",
    "    def call(self, X):\n",
    "        # 卷积，BN，激活\n",
    "        Y = activations.relu(self.bn1(self.conv1(X)))\n",
    "        # 卷积，BN\n",
    "        Y = self.bn2(self.conv2(Y))\n",
    "        # 对输⼊数据进⾏1*1卷积保证通道数相同\n",
    "        if self.conv3:\n",
    "            X = self.conv3(X)\n",
    "        # 返回与输⼊相加后激活的结果\n",
    "        return activations.relu(Y + X)"
   ],
   "metadata": {
    "collapsed": false,
    "pycharm": {
     "name": "#%%\n"
    }
   }
  },
  {
   "cell_type": "markdown",
   "source": [
    "# 残差模块"
   ],
   "metadata": {
    "collapsed": false,
    "pycharm": {
     "name": "#%% md\n"
    }
   }
  },
  {
   "cell_type": "code",
   "execution_count": 7,
   "outputs": [],
   "source": [
    "# ResNet⽹络中模块的构成\n",
    "class ResnetBlock(tf.keras.layers.Layer):\n",
    "    # ⽹络层的定义：输出通道数（卷积核个数），模块中包含的残差块个数，\n",
    "    def __init__(self,num_channels, num_residuals, first_block=False):\n",
    "        super(ResnetBlock, self).__init__()\n",
    "        # 存储残差块\n",
    "        self.listLayers=[]\n",
    "        # 遍历模块中所有的层\n",
    "        for i in range(num_residuals):\n",
    "            # 若为第⼀个残差块并且不是第⼀个模块，则使⽤1*1卷积，步长为2\n",
    "            if i == 0 and not first_block:\n",
    "                self.listLayers.append(Residual(num_channels,use_1x1conv=True,strides=2))\n",
    "            # 否则不使⽤1*1卷积，步⻓为1\n",
    "            else:\n",
    "                self.listLayers.append(Residual(num_channels))\n",
    "\n",
    "    # 定义前向传播过程\n",
    "    def call(self, X):\n",
    "        # 所有层依次向前传播即可\n",
    "        for layer in self.listLayers.layers:\n",
    "            X = layer(X)\n",
    "        return X"
   ],
   "metadata": {
    "collapsed": false,
    "pycharm": {
     "name": "#%%\n"
    }
   }
  },
  {
   "cell_type": "markdown",
   "source": [
    "# ResNet网络"
   ],
   "metadata": {
    "collapsed": false,
    "pycharm": {
     "name": "#%% md\n"
    }
   }
  },
  {
   "cell_type": "code",
   "execution_count": 8,
   "outputs": [],
   "source": [
    "# 构建ResNet⽹络\n",
    "class ResNet(tf.keras.Model):\n",
    "    # 初始化：指定每个模块中的残差快的个数\n",
    "    def __init__(self,num_blocks):\n",
    "        super(ResNet, self).__init__()\n",
    "        # 输⼊层：7*7卷积，步⻓为2\n",
    "        self.conv=layers.Conv2D(64, kernel_size=7, strides=2,padding='same')\n",
    "        # BN层\n",
    "        self.bn=layers.BatchNormalization()\n",
    "        # 激活层\n",
    "        self.relu=layers.Activation('relu')\n",
    "        # 最⼤池化层\n",
    "        self.mp=layers.MaxPool2D(pool_size=3, strides=2, padding='same')\n",
    "        # 第⼀个block，通道数为64\n",
    "        self.resnet_block1=ResnetBlock(64,num_blocks[0], first_block=True)\n",
    "        # 第⼆个block，通道数为128\n",
    "        self.resnet_block2=ResnetBlock(128,num_blocks[1])\n",
    "        # 第三个block，通道数为256\n",
    "        self.resnet_block3=ResnetBlock(256,num_blocks[2])\n",
    "        # 第四个block，通道数为512\n",
    "        self.resnet_block4=ResnetBlock(512,num_blocks[3])\n",
    "        # 全局平均池化\n",
    "        self.gap=layers.GlobalAvgPool2D()\n",
    "        # 全连接层：分类\n",
    "        self.fc=layers.Dense(units=10,activation=tf.keras.activations.softmax)\n",
    "\n",
    "    # 前向传播过程\n",
    "    def call(self, x):\n",
    "        # 卷积\n",
    "        x=self.conv(x)\n",
    "        # BN\n",
    "        x=self.bn(x)\n",
    "        # 激活\n",
    "        x=self.relu(x)\n",
    "        # 最⼤池化\n",
    "        x=self.mp(x)\n",
    "        # 残差模块\n",
    "        x=self.resnet_block1(x)\n",
    "        x=self.resnet_block2(x)\n",
    "        x=self.resnet_block3(x)\n",
    "        x=self.resnet_block4(x)\n",
    "        # 全局平均池化\n",
    "        x=self.gap(x)\n",
    "        # 全链接层\n",
    "        x=self.fc(x)\n",
    "        return x\n"
   ],
   "metadata": {
    "collapsed": false,
    "pycharm": {
     "name": "#%%\n"
    }
   }
  },
  {
   "cell_type": "code",
   "execution_count": 9,
   "outputs": [
    {
     "name": "stdout",
     "output_type": "stream",
     "text": [
      "Model: \"res_net_1\"\n",
      "_________________________________________________________________\n",
      "Layer (type)                 Output Shape              Param #   \n",
      "=================================================================\n",
      "conv2d_20 (Conv2D)           multiple                  3200      \n",
      "_________________________________________________________________\n",
      "batch_normalization_17 (Batc multiple                  256       \n",
      "_________________________________________________________________\n",
      "activation_1 (Activation)    multiple                  0         \n",
      "_________________________________________________________________\n",
      "max_pooling2d_1 (MaxPooling2 multiple                  0         \n",
      "_________________________________________________________________\n",
      "resnet_block_4 (ResnetBlock) multiple                  148736    \n",
      "_________________________________________________________________\n",
      "resnet_block_5 (ResnetBlock) multiple                  526976    \n",
      "_________________________________________________________________\n",
      "resnet_block_6 (ResnetBlock) multiple                  2102528   \n",
      "_________________________________________________________________\n",
      "resnet_block_7 (ResnetBlock) multiple                  8399360   \n",
      "_________________________________________________________________\n",
      "global_average_pooling2d_1 ( multiple                  0         \n",
      "_________________________________________________________________\n",
      "dense_1 (Dense)              multiple                  5130      \n",
      "=================================================================\n",
      "Total params: 11,186,186\n",
      "Trainable params: 11,178,378\n",
      "Non-trainable params: 7,808\n",
      "_________________________________________________________________\n"
     ]
    }
   ],
   "source": [
    "# 模型实例化：指定每个block中的残差块个数\n",
    "mynet = ResNet([2,2,2,2])\n",
    "X = tf.random.uniform(shape=(1, 224, 224 , 1))\n",
    "y = mynet(X)\n",
    "mynet.summary()"
   ],
   "metadata": {
    "collapsed": false,
    "pycharm": {
     "name": "#%%\n"
    }
   }
  },
  {
   "cell_type": "markdown",
   "source": [
    "# 手写数字识别"
   ],
   "metadata": {
    "collapsed": false,
    "pycharm": {
     "name": "#%% md\n"
    }
   }
  },
  {
   "cell_type": "code",
   "execution_count": 14,
   "outputs": [],
   "source": [
    "import numpy as np\n",
    "# 数据集\n",
    "from tensorflow.keras.datasets import mnist\n",
    "\n",
    "# 获取⼿写数字数据集\n",
    "(train_images, train_labels), (test_images, test_labels) = mnist.load_data()\n",
    "# 训练集数据维度的调整：N H W C\n",
    "train_images = np.reshape(train_images,(train_images.shape[0],train_images.shape[1],train_images.shape[2],1))\n",
    "# 测试集数据维度的调整：N H W C\n",
    "test_images = np.reshape(test_images,(test_images.shape[0],test_images.shape[1],test_images.shape[2],1))"
   ],
   "metadata": {
    "collapsed": false,
    "pycharm": {
     "name": "#%%\n"
    }
   }
  },
  {
   "cell_type": "code",
   "execution_count": 15,
   "outputs": [],
   "source": [
    "# 定义两个⽅法随机抽取部分样本演示\n",
    "# 获取训练集数据\n",
    "def get_train(size):\n",
    " # 随机⽣成要抽样的样本的索引\n",
    " index = np.random.randint(0, np.shape(train_images)[0],size)\n",
    " # 将这些数据resize成22*227⼤⼩\n",
    " resized_images = tf.image.resize_with_pad(train_images[index],224,224,)\n",
    " # 返回抽取的\n",
    " return resized_images.numpy(), train_labels[index]\n",
    "\n",
    "# 获取测试集数据\n",
    "def get_test(size):\n",
    " # 随机⽣成要抽样的样本的索引\n",
    " index = np.random.randint(0, np.shape(test_images)[0], size)\n",
    " # 将这些数据resize成224*224⼤⼩\n",
    " resized_images = tf.image.resize_with_pad(test_images[index],224,224,)\n",
    " # 返回抽样的测试样本\n",
    " return resized_images.numpy(), test_labels[index]"
   ],
   "metadata": {
    "collapsed": false,
    "pycharm": {
     "name": "#%%\n"
    }
   }
  },
  {
   "cell_type": "code",
   "execution_count": 16,
   "outputs": [],
   "source": [
    "# 获取训练样本和测试样本\n",
    "train_images,train_labels = get_train(256)\n",
    "test_images,test_labels = get_test(128)"
   ],
   "metadata": {
    "collapsed": false,
    "pycharm": {
     "name": "#%%\n"
    }
   }
  },
  {
   "cell_type": "code",
   "execution_count": null,
   "outputs": [],
   "source": [
    "# 模型编译\n",
    "# 指定优化器，损失函数和评价指标\n",
    "optimizer = tf.keras.optimizers.SGD(learning_rate=0.01, momentum=0.0)\n",
    "\n",
    "mynet.compile(optimizer=optimizer,\n",
    "                loss='sparse_categorical_crossentropy',\n",
    "                metrics=['accuracy'])"
   ],
   "metadata": {
    "collapsed": false,
    "pycharm": {
     "name": "#%%\n"
    }
   }
  },
  {
   "cell_type": "code",
   "execution_count": null,
   "outputs": [],
   "source": [
    "# 模型训练：指定训练数据，batchsize,epoch,验证集\n",
    "mynet.fit(train_images,train_labels,batch_size=128,epochs=3,verbose=1,validation_split=0.1)"
   ],
   "metadata": {
    "collapsed": false,
    "pycharm": {
     "name": "#%%\n"
    }
   }
  },
  {
   "cell_type": "code",
   "execution_count": null,
   "outputs": [],
   "source": [
    "# 指定测试数据\n",
    "mynet.evaluate(test_images,test_labels,verbose=1)"
   ],
   "metadata": {
    "collapsed": false,
    "pycharm": {
     "name": "#%%\n"
    }
   }
  }
 ],
 "metadata": {
  "kernelspec": {
   "display_name": "Python 3",
   "language": "python",
   "name": "python3"
  },
  "language_info": {
   "codemirror_mode": {
    "name": "ipython",
    "version": 2
   },
   "file_extension": ".py",
   "mimetype": "text/x-python",
   "name": "python",
   "nbconvert_exporter": "python",
   "pygments_lexer": "ipython2",
   "version": "2.7.6"
  }
 },
 "nbformat": 4,
 "nbformat_minor": 0
}
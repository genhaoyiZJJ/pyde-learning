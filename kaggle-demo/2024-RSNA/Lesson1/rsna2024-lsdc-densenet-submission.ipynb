{
 "cells": [
  {
   "cell_type": "markdown",
   "id": "5049fe29",
   "metadata": {
    "_cell_guid": "b1076dfc-b9ad-4769-8c92-a6c4dae69d19",
    "_uuid": "8f2839f25d086af736a60e9eeb907d3b93b6e0e5",
    "papermill": {
     "duration": 0.008869,
     "end_time": "2024-06-23T01:03:23.333901",
     "exception": false,
     "start_time": "2024-06-23T01:03:23.325032",
     "status": "completed"
    },
    "tags": [],
    "pycharm": {
     "name": "#%% md\n"
    }
   },
   "source": [
    "# RSNA2024 LSDC Submission Baseline\n",
    "This notebook is forked [here](https://www.kaggle.com/code/itsuki9180/rsna2024-lsdc-submission-baseline). In the [previous notebook](https://www.kaggle.com/code/itsuki9180/rsna2024-lsdc-making-dataset), the author selected the images we wanted to use and exported them to png.The original notebook training. And the original other trained EfficientNet_B4 model with these images. \n",
    "\n",
    "I desided to change the model to see if there is any improvement. The reason why I choose DenseNet201 for training is that DenseNet201 has generally same number of parameters and size with EfficientNet_B4 so that I believe that Kaggle GPU could handle it and we don't need extra machine.\n",
    "\n",
    "### My other Notebooks\n",
    "- [RSNA2024 LSDC Making Dataset](https://www.kaggle.com/code/itsuki9180/rsna2024-lsdc-making-dataset) \n",
    "- [RSNA2024 LSDC Training DenseNet](https://www.kaggle.com/code/hugowjd/rsna2024-lsdc-training-densenet) \n",
    "- [RSNA2024 LSDC Submission DenseNet](https://www.kaggle.com/code/hugowjd/rsna2024-lsdc-densenet-submission) <- you're reading now\n",
    "\n",
    "### Reference:\n",
    "* [Huang, G., Liu, Z., Van Der Maaten, L., and Weinberger, K. Q. Densely connected convolutional networks. CVPR, 2017.](https://arxiv.org/abs/1608.06993)\n",
    "* [Mingxing Tan and Quoc V. Le. EfficientNet: Rethinking Model Scaling for Convolutional Neural Networks. ICML 2019.](https://arxiv.org/abs/1905.11946)\n",
    "\n",
    "### Future Improvement\n",
    "* I'm certain that we can run other models to train these images. We can do it by changing ***MODEL_NAME*** parameters in **Config** session. I would list some CNN models which are suitable for image classification and these numbers of parameters.\n",
    "  * ResNet:\n",
    "    * ResNet-18: ~11.7 million parameters\n",
    "    * **ResNet-34: ~21.8 million parameters**\n",
    "    * **ResNet-50: ~25.6 million parameters**\n",
    "    * ResNet-101: ~44.5 million parameters\n",
    "    * ResNet-152: ~60 million parameters\n",
    "  * VGG:\n",
    "    * VGG-16: ~138 million parameters\n",
    "    * VGG-19: ~143 million parameters\n",
    "  * Inception Networks:\n",
    "    * Inception v1 (GoogleNet): ~6.8 million parameters\n",
    "    * Inception v3: ~23.8 million parameters\n",
    "  * DenseNet:\n",
    "    * DenseNet-121: ~8 million parameters\n",
    "    * **DenseNet-169: ~14 million parameters**\n",
    "        * Waiting to do\n",
    "    * **DenseNet-201: ~20 million parameters** \n",
    "        * My Submission LB: 0.61\n",
    "        * [10 folds submission LB](https://www.kaggle.com/code/sadidul012/densenet201-submission): 0.6\n",
    "    * **DenseNet-161: ~28.7 million parameters**\n",
    "        * 10 folds(This notebook V9): 0.59\n",
    "    * DenseNet-264: ~33 million parameters\n",
    "  * MobileNets (parameters can vary significantly with changes in alpha and resolution multipliers):\n",
    "    * MobileNetV1 (1.0 224): ~4.2 million parameters\n",
    "    * MobileNetV2 (1.0 224): ~3.5 million parameters\n",
    "    * MobileNetV3 Large: ~5.4 million parameters\n",
    "  * Vision Transformers (ViT):\n",
    "    * ViT-B/16 (base model with patch size 16x16): ~86 million parameters\n",
    "  * Xception:\n",
    "    * **Xception: ~22.9 million parameters**\n",
    "        * my test LB : 0.66\n",
    "  * EfficientNet\n",
    "    * EfficientNet-B0: ~5.3 million parameters\n",
    "    * EfficientNet-B1: ~7.8 million parameters\n",
    "    * EfficientNet-B2: ~9.2 million parameters\n",
    "        * [EFNetV2 LB](https://www.kaggle.com/code/shubhamcodez/rsna-efficientnet-starter-notebook): 1.01 \n",
    "    * EfficientNet-B3: ~12 million parameters\n",
    "        * [Original Notebook](https://www.kaggle.com/code/itsuki9180/rsna2024-lsdc-submission-baseline) LB: 0.69\n",
    "    * **EfficientNet-B4: ~19 million parameters**\n",
    "        * [Original Notebook](https://www.kaggle.com/code/itsuki9180/rsna2024-lsdc-submission-baseline) LB: 0.70\n",
    "    * EfficientNet-B5: ~30 million parameters\n",
    "    * EfficientNet-B6: ~43 million parameters\n",
    "    * EfficientNet-B7: ~66 million parameters\n",
    "* The original author said that we can improve the dataset making process\n",
    "* I only trained 5 **folds** and 10 **epochs**, you can modify these parameters. But take care of overfitting."
   ]
  },
  {
   "cell_type": "markdown",
   "id": "61d575b2",
   "metadata": {
    "papermill": {
     "duration": 0.007948,
     "end_time": "2024-06-23T01:03:23.350762",
     "exception": false,
     "start_time": "2024-06-23T01:03:23.342814",
     "status": "completed"
    },
    "tags": [],
    "pycharm": {
     "name": "#%% md\n"
    }
   },
   "source": [
    "# Import Libralies"
   ]
  },
  {
   "cell_type": "code",
   "execution_count": 1,
   "id": "f5432e07",
   "metadata": {
    "execution": {
     "iopub.execute_input": "2024-06-23T01:03:23.367379Z",
     "iopub.status.busy": "2024-06-23T01:03:23.367098Z",
     "iopub.status.idle": "2024-06-23T01:03:33.026825Z",
     "shell.execute_reply": "2024-06-23T01:03:33.025936Z"
    },
    "papermill": {
     "duration": 9.670666,
     "end_time": "2024-06-23T01:03:33.029156",
     "exception": false,
     "start_time": "2024-06-23T01:03:23.358490",
     "status": "completed"
    },
    "tags": [],
    "pycharm": {
     "name": "#%%\n"
    }
   },
   "outputs": [],
   "source": [
    "import os\n",
    "import gc\n",
    "import sys\n",
    "from PIL import Image\n",
    "import cv2\n",
    "import math, random\n",
    "import numpy as np\n",
    "import pandas as pd\n",
    "from glob import glob\n",
    "from tqdm import tqdm\n",
    "import matplotlib.pyplot as plt\n",
    "from sklearn.model_selection import KFold\n",
    "\n",
    "from collections import OrderedDict\n",
    "\n",
    "import torch\n",
    "import torch.nn.functional as F\n",
    "from torch import nn\n",
    "from torch.utils.data import DataLoader, Dataset\n",
    "from torch.optim import AdamW\n",
    "\n",
    "import timm\n",
    "from timm.utils import ModelEmaV2\n",
    "from transformers import get_cosine_schedule_with_warmup\n",
    "\n",
    "import albumentations as A\n",
    "\n",
    "from sklearn.model_selection import KFold\n",
    "\n",
    "import re\n",
    "import pydicom"
   ]
  },
  {
   "cell_type": "code",
   "execution_count": 2,
   "id": "455c1966",
   "metadata": {
    "execution": {
     "iopub.execute_input": "2024-06-23T01:03:33.046888Z",
     "iopub.status.busy": "2024-06-23T01:03:33.046174Z",
     "iopub.status.idle": "2024-06-23T01:03:33.050113Z",
     "shell.execute_reply": "2024-06-23T01:03:33.049294Z"
    },
    "papermill": {
     "duration": 0.014786,
     "end_time": "2024-06-23T01:03:33.052066",
     "exception": false,
     "start_time": "2024-06-23T01:03:33.037280",
     "status": "completed"
    },
    "tags": [],
    "pycharm": {
     "name": "#%%\n"
    }
   },
   "outputs": [],
   "source": [
    "rd = '/kaggle/input/rsna-2024-lumbar-spine-degenerative-classification'"
   ]
  },
  {
   "cell_type": "markdown",
   "id": "12a7a42e",
   "metadata": {
    "papermill": {
     "duration": 0.007534,
     "end_time": "2024-06-23T01:03:33.067405",
     "exception": false,
     "start_time": "2024-06-23T01:03:33.059871",
     "status": "completed"
    },
    "tags": [],
    "pycharm": {
     "name": "#%% md\n"
    }
   },
   "source": [
    "# Config"
   ]
  },
  {
   "cell_type": "code",
   "execution_count": 3,
   "id": "9dfe347e",
   "metadata": {
    "execution": {
     "iopub.execute_input": "2024-06-23T01:03:33.086723Z",
     "iopub.status.busy": "2024-06-23T01:03:33.086117Z",
     "iopub.status.idle": "2024-06-23T01:03:33.164875Z",
     "shell.execute_reply": "2024-06-23T01:03:33.164028Z"
    },
    "papermill": {
     "duration": 0.089953,
     "end_time": "2024-06-23T01:03:33.166746",
     "exception": false,
     "start_time": "2024-06-23T01:03:33.076793",
     "status": "completed"
    },
    "tags": [],
    "pycharm": {
     "name": "#%%\n"
    }
   },
   "outputs": [],
   "source": [
    "DENSE201_DIR = f'/kaggle/input/densenet-weights-for-rsna-2024/'\n",
    "DENSE161_DIR = f'/kaggle/input/densenet161-weights-rsna2024/'\n",
    "device = 'cuda:0' if torch.cuda.is_available() else 'cpu'\n",
    "N_WORKERS = os.cpu_count()\n",
    "USE_AMP = True\n",
    "SEED = 8620\n",
    "\n",
    "IMG_SIZE = [512, 512]\n",
    "IN_CHANS = 30\n",
    "N_LABELS = 25\n",
    "N_CLASSES = 3 * N_LABELS\n",
    "\n",
    "N_FOLDS = 5\n",
    "\n",
    "# MODEL_NAME = \"tf_efficientnet_b4.ns_jft_in1k\"\n",
    "# DENSE_MODEL_NAME = \"densenet201\"\n",
    "DENSE_MODEL_NAME = 'densenet161.tv_in1k'\n",
    "BATCH_SIZE = 1"
   ]
  },
  {
   "cell_type": "code",
   "execution_count": 4,
   "id": "97915e20",
   "metadata": {
    "execution": {
     "iopub.execute_input": "2024-06-23T01:03:33.185298Z",
     "iopub.status.busy": "2024-06-23T01:03:33.184791Z",
     "iopub.status.idle": "2024-06-23T01:03:33.188792Z",
     "shell.execute_reply": "2024-06-23T01:03:33.187940Z"
    },
    "papermill": {
     "duration": 0.015792,
     "end_time": "2024-06-23T01:03:33.190639",
     "exception": false,
     "start_time": "2024-06-23T01:03:33.174847",
     "status": "completed"
    },
    "tags": [],
    "pycharm": {
     "name": "#%%\n"
    }
   },
   "outputs": [],
   "source": [
    "rd = '/kaggle/input/rsna-2024-lumbar-spine-degenerative-classification'"
   ]
  },
  {
   "cell_type": "code",
   "execution_count": 5,
   "id": "6b0f7439",
   "metadata": {
    "execution": {
     "iopub.execute_input": "2024-06-23T01:03:33.207597Z",
     "iopub.status.busy": "2024-06-23T01:03:33.206876Z",
     "iopub.status.idle": "2024-06-23T01:03:33.213785Z",
     "shell.execute_reply": "2024-06-23T01:03:33.212949Z"
    },
    "papermill": {
     "duration": 0.017385,
     "end_time": "2024-06-23T01:03:33.215766",
     "exception": false,
     "start_time": "2024-06-23T01:03:33.198381",
     "status": "completed"
    },
    "tags": [],
    "pycharm": {
     "name": "#%%\n"
    }
   },
   "outputs": [
    {
     "data": {
      "text/plain": [
       "device(type='cuda', index=0)"
      ]
     },
     "execution_count": 5,
     "metadata": {},
     "output_type": "execute_result"
    }
   ],
   "source": [
    "device = torch.device('cuda:0') if torch.cuda.is_available() else torch.device('cpu')\n",
    "device"
   ]
  },
  {
   "cell_type": "code",
   "execution_count": 6,
   "id": "7a521d29",
   "metadata": {
    "execution": {
     "iopub.execute_input": "2024-06-23T01:03:33.232700Z",
     "iopub.status.busy": "2024-06-23T01:03:33.232167Z",
     "iopub.status.idle": "2024-06-23T01:03:33.264733Z",
     "shell.execute_reply": "2024-06-23T01:03:33.263888Z"
    },
    "papermill": {
     "duration": 0.042872,
     "end_time": "2024-06-23T01:03:33.266473",
     "exception": false,
     "start_time": "2024-06-23T01:03:33.223601",
     "status": "completed"
    },
    "tags": [],
    "pycharm": {
     "name": "#%%\n"
    }
   },
   "outputs": [
    {
     "data": {
      "text/html": [
       "<div>\n",
       "<style scoped>\n",
       "    .dataframe tbody tr th:only-of-type {\n",
       "        vertical-align: middle;\n",
       "    }\n",
       "\n",
       "    .dataframe tbody tr th {\n",
       "        vertical-align: top;\n",
       "    }\n",
       "\n",
       "    .dataframe thead th {\n",
       "        text-align: right;\n",
       "    }\n",
       "</style>\n",
       "<table border=\"1\" class=\"dataframe\">\n",
       "  <thead>\n",
       "    <tr style=\"text-align: right;\">\n",
       "      <th></th>\n",
       "      <th>study_id</th>\n",
       "      <th>series_id</th>\n",
       "      <th>series_description</th>\n",
       "    </tr>\n",
       "  </thead>\n",
       "  <tbody>\n",
       "    <tr>\n",
       "      <th>0</th>\n",
       "      <td>44036939</td>\n",
       "      <td>2828203845</td>\n",
       "      <td>Sagittal T1</td>\n",
       "    </tr>\n",
       "    <tr>\n",
       "      <th>1</th>\n",
       "      <td>44036939</td>\n",
       "      <td>3481971518</td>\n",
       "      <td>Axial T2</td>\n",
       "    </tr>\n",
       "    <tr>\n",
       "      <th>2</th>\n",
       "      <td>44036939</td>\n",
       "      <td>3844393089</td>\n",
       "      <td>Sagittal T2/STIR</td>\n",
       "    </tr>\n",
       "  </tbody>\n",
       "</table>\n",
       "</div>"
      ],
      "text/plain": [
       "   study_id   series_id series_description\n",
       "0  44036939  2828203845        Sagittal T1\n",
       "1  44036939  3481971518           Axial T2\n",
       "2  44036939  3844393089   Sagittal T2/STIR"
      ]
     },
     "execution_count": 6,
     "metadata": {},
     "output_type": "execute_result"
    }
   ],
   "source": [
    "df = pd.read_csv(f'{rd}/test_series_descriptions.csv')\n",
    "df.head()"
   ]
  },
  {
   "cell_type": "code",
   "execution_count": 7,
   "id": "a9696061",
   "metadata": {
    "execution": {
     "iopub.execute_input": "2024-06-23T01:03:33.284101Z",
     "iopub.status.busy": "2024-06-23T01:03:33.283597Z",
     "iopub.status.idle": "2024-06-23T01:03:33.290577Z",
     "shell.execute_reply": "2024-06-23T01:03:33.289817Z"
    },
    "papermill": {
     "duration": 0.017777,
     "end_time": "2024-06-23T01:03:33.292397",
     "exception": false,
     "start_time": "2024-06-23T01:03:33.274620",
     "status": "completed"
    },
    "tags": [],
    "pycharm": {
     "name": "#%%\n"
    }
   },
   "outputs": [],
   "source": [
    "study_ids = list(df['study_id'].unique())"
   ]
  },
  {
   "cell_type": "code",
   "execution_count": 8,
   "id": "d3eb39ab",
   "metadata": {
    "execution": {
     "iopub.execute_input": "2024-06-23T01:03:33.309947Z",
     "iopub.status.busy": "2024-06-23T01:03:33.309466Z",
     "iopub.status.idle": "2024-06-23T01:03:33.316781Z",
     "shell.execute_reply": "2024-06-23T01:03:33.316076Z"
    },
    "papermill": {
     "duration": 0.018003,
     "end_time": "2024-06-23T01:03:33.318697",
     "exception": false,
     "start_time": "2024-06-23T01:03:33.300694",
     "status": "completed"
    },
    "tags": [],
    "pycharm": {
     "name": "#%%\n"
    }
   },
   "outputs": [],
   "source": [
    "sample_sub = pd.read_csv(f'{rd}/sample_submission.csv')"
   ]
  },
  {
   "cell_type": "code",
   "execution_count": 9,
   "id": "88e35f5a",
   "metadata": {
    "execution": {
     "iopub.execute_input": "2024-06-23T01:03:33.336269Z",
     "iopub.status.busy": "2024-06-23T01:03:33.335701Z",
     "iopub.status.idle": "2024-06-23T01:03:33.340933Z",
     "shell.execute_reply": "2024-06-23T01:03:33.340107Z"
    },
    "papermill": {
     "duration": 0.016001,
     "end_time": "2024-06-23T01:03:33.342850",
     "exception": false,
     "start_time": "2024-06-23T01:03:33.326849",
     "status": "completed"
    },
    "tags": [],
    "pycharm": {
     "name": "#%%\n"
    }
   },
   "outputs": [
    {
     "data": {
      "text/plain": [
       "['normal_mild', 'moderate', 'severe']"
      ]
     },
     "execution_count": 9,
     "metadata": {},
     "output_type": "execute_result"
    }
   ],
   "source": [
    "LABELS = list(sample_sub.columns[1:])\n",
    "LABELS"
   ]
  },
  {
   "cell_type": "code",
   "execution_count": 10,
   "id": "d3cf96d3",
   "metadata": {
    "execution": {
     "iopub.execute_input": "2024-06-23T01:03:33.360189Z",
     "iopub.status.busy": "2024-06-23T01:03:33.359957Z",
     "iopub.status.idle": "2024-06-23T01:03:33.364085Z",
     "shell.execute_reply": "2024-06-23T01:03:33.363336Z"
    },
    "papermill": {
     "duration": 0.014858,
     "end_time": "2024-06-23T01:03:33.365914",
     "exception": false,
     "start_time": "2024-06-23T01:03:33.351056",
     "status": "completed"
    },
    "tags": [],
    "pycharm": {
     "name": "#%%\n"
    }
   },
   "outputs": [],
   "source": [
    "CONDITIONS = [\n",
    "    'spinal_canal_stenosis', \n",
    "    'left_neural_foraminal_narrowing', \n",
    "    'right_neural_foraminal_narrowing',\n",
    "    'left_subarticular_stenosis',\n",
    "    'right_subarticular_stenosis'\n",
    "]\n",
    "\n",
    "LEVELS = [\n",
    "    'l1_l2',\n",
    "    'l2_l3',\n",
    "    'l3_l4',\n",
    "    'l4_l5',\n",
    "    'l5_s1',\n",
    "]"
   ]
  },
  {
   "cell_type": "code",
   "execution_count": 11,
   "id": "aa814647",
   "metadata": {
    "execution": {
     "iopub.execute_input": "2024-06-23T01:03:33.383645Z",
     "iopub.status.busy": "2024-06-23T01:03:33.383139Z",
     "iopub.status.idle": "2024-06-23T01:03:33.387298Z",
     "shell.execute_reply": "2024-06-23T01:03:33.386507Z"
    },
    "papermill": {
     "duration": 0.014823,
     "end_time": "2024-06-23T01:03:33.389152",
     "exception": false,
     "start_time": "2024-06-23T01:03:33.374329",
     "status": "completed"
    },
    "tags": [],
    "pycharm": {
     "name": "#%%\n"
    }
   },
   "outputs": [],
   "source": [
    "def atoi(text):\n",
    "    return int(text) if text.isdigit() else text\n",
    "\n",
    "def natural_keys(text):\n",
    "    return [ atoi(c) for c in re.split(r'(\\d+)', text) ]"
   ]
  },
  {
   "cell_type": "markdown",
   "id": "aa48558f",
   "metadata": {
    "papermill": {
     "duration": 0.008003,
     "end_time": "2024-06-23T01:03:33.405389",
     "exception": false,
     "start_time": "2024-06-23T01:03:33.397386",
     "status": "completed"
    },
    "tags": [],
    "pycharm": {
     "name": "#%% md\n"
    }
   },
   "source": [
    "# Define Dataset"
   ]
  },
  {
   "cell_type": "code",
   "execution_count": 12,
   "id": "cca5d1b3",
   "metadata": {
    "execution": {
     "iopub.execute_input": "2024-06-23T01:03:33.422836Z",
     "iopub.status.busy": "2024-06-23T01:03:33.422381Z",
     "iopub.status.idle": "2024-06-23T01:03:33.442879Z",
     "shell.execute_reply": "2024-06-23T01:03:33.442197Z"
    },
    "papermill": {
     "duration": 0.031188,
     "end_time": "2024-06-23T01:03:33.444711",
     "exception": false,
     "start_time": "2024-06-23T01:03:33.413523",
     "status": "completed"
    },
    "tags": [],
    "pycharm": {
     "name": "#%%\n"
    }
   },
   "outputs": [],
   "source": [
    "class RSNA24TestDataset(Dataset):\n",
    "    def __init__(self, df, study_ids, phase='test', transform=None):\n",
    "        self.df = df\n",
    "        self.study_ids = study_ids\n",
    "        self.transform = transform\n",
    "        self.phase = phase\n",
    "    \n",
    "    def __len__(self):\n",
    "        return len(self.study_ids)\n",
    "    \n",
    "    def get_img_paths(self, study_id, series_desc):\n",
    "        pdf = self.df[self.df['study_id']==study_id]\n",
    "        pdf_ = pdf[pdf['series_description']==series_desc]\n",
    "        allimgs = []\n",
    "        for i, row in pdf_.iterrows():\n",
    "            pimgs = glob.glob(f'{rd}/test_images/{study_id}/{row[\"series_id\"]}/*.dcm')\n",
    "            # 对获取的路径列表进行自然排序\n",
    "            pimgs = sorted(pimgs, key=natural_keys)\n",
    "            allimgs.extend(pimgs)\n",
    "        # 返回包含所有图像路径的列表\n",
    "        return allimgs\n",
    "    \n",
    "    def read_dcm_ret_arr(self, src_path):\n",
    "        \"\"\"\n",
    "        读取DICOM图像文件并返回处理后的图像数组。\n",
    "\n",
    "        该方法主要负责读取DICOM格式的医学影像文件，对其进行归一化处理，调整其大小，并返回处理后的图像数组。\n",
    "\n",
    "        参数:\n",
    "        src_path (str): DICOM图像文件的路径。\n",
    "\n",
    "        返回:\n",
    "        numpy.ndarray: 经过处理后的图像数组。\n",
    "        \"\"\"\n",
    "        # 使用pydicom库读取DICOM图像文件\n",
    "        dicom_data = pydicom.dcmread(src_path)\n",
    "        # 获取DICOM图像的像素数组\n",
    "        image = dicom_data.pixel_array\n",
    "        # 归一化\n",
    "        image = (image - image.min()) / (image.max() - image.min() + 1e-6) * 255\n",
    "        img = cv2.resize(image, (IMG_SIZE[0], IMG_SIZE[1]),interpolation=cv2.INTER_CUBIC)\n",
    "        # 确保调整大小后的图像形状符合预期\n",
    "        assert img.shape==(IMG_SIZE[0], IMG_SIZE[1])\n",
    "        return img\n",
    "\n",
    "    def __getitem__(self, idx):\n",
    "        \"\"\"\n",
    "        根据索引获取数据样本。\n",
    "\n",
    "        这个方法用于实现数据集的随机访问。它根据提供的索引提取特定的研究（study），\n",
    "        并从该研究中加载三种类型的图像：矢状位T1、矢状位T2/STIR和轴位T2。\n",
    "        如果配置了转换，则应用这些转换。最后，它以指定的格式返回图像数据和研究ID。\n",
    "\n",
    "        参数:\n",
    "        idx (int): 数据集中的索引，用于标识要提取的特定研究。\n",
    "\n",
    "        返回:\n",
    "        tuple: 包含两部分的元组：\n",
    "               1. 格式化后的图像数据（numpy数组）。\n",
    "               2. 研究的唯一标识符（字符串）。\n",
    "        \"\"\"\n",
    "        # 初始化一个零数组，用于存储图像数据\n",
    "        x = np.zeros((IMG_SIZE[0], IMG_SIZE[1], IN_CHANS), dtype=np.uint8)\n",
    "        st_id = self.study_ids[idx]        \n",
    "        \n",
    "        # Sagittal T1\n",
    "        # 加载矢状位T1图像\n",
    "        allimgs_st1 = self.get_img_paths(st_id, 'Sagittal T1')\n",
    "        if len(allimgs_st1)==0:\n",
    "            print(st_id, ': Sagittal T1, has no images')\n",
    "        \n",
    "        else:\n",
    "            # 计算步长，以在图像序列中均匀采样\n",
    "            step = len(allimgs_st1) / 10.0\n",
    "            # 计算采样的起始点st和结束点end\n",
    "            st = len(allimgs_st1)/2.0 - 4.0*step\n",
    "            end = len(allimgs_st1)+0.0001\n",
    "            # 加载并堆叠图像\n",
    "            for j, i in enumerate(np.arange(st, end, step)):\n",
    "                try:\n",
    "                    ind2 = max(0, int((i-0.5001).round()))\n",
    "                    # 读取DICOM图像，并将其转换为np.uint8类型，然后存储到x数组的相应位置\n",
    "                    img = self.read_dcm_ret_arr(allimgs_st1[ind2])\n",
    "                    x[..., j] = img.astype(np.uint8)\n",
    "                except:\n",
    "                    print(f'failed to load on {st_id}, Sagittal T1')\n",
    "                    pass\n",
    "            \n",
    "        # Sagittal T2/STIR\n",
    "        # 加载矢状位T2/STIR图像\n",
    "        allimgs_st2 = self.get_img_paths(st_id, 'Sagittal T2/STIR')\n",
    "        if len(allimgs_st2)==0:\n",
    "            print(st_id, ': Sagittal T2/STIR, has no images')\n",
    "            \n",
    "        else:\n",
    "            step = len(allimgs_st2) / 10.0\n",
    "            st = len(allimgs_st2)/2.0 - 4.0*step\n",
    "            end = len(allimgs_st2)+0.0001\n",
    "            # 加载并堆叠图像\n",
    "            for j, i in enumerate(np.arange(st, end, step)):\n",
    "                try:\n",
    "                    ind2 = max(0, int((i-0.5001).round()))\n",
    "                    img = self.read_dcm_ret_arr(allimgs_st2[ind2])\n",
    "                    x[..., j+10] = img.astype(np.uint8)\n",
    "                except:\n",
    "                    print(f'failed to load on {st_id}, Sagittal T2/STIR')\n",
    "                    pass\n",
    "            \n",
    "        # Axial T2\n",
    "        # 加载轴位T2图像\n",
    "        allimgs_at2 = self.get_img_paths(st_id, 'Axial T2')\n",
    "        if len(allimgs_at2)==0:\n",
    "            print(st_id, ': Axial T2, has no images')\n",
    "            \n",
    "        else:\n",
    "            step = len(allimgs_at2) / 10.0\n",
    "            st = len(allimgs_at2)/2.0 - 4.0*step\n",
    "            end = len(allimgs_at2)+0.0001\n",
    "            # 加载并堆叠图像\n",
    "            for j, i in enumerate(np.arange(st, end, step)):\n",
    "                try:\n",
    "                    ind2 = max(0, int((i-0.5001).round()))\n",
    "                    img = self.read_dcm_ret_arr(allimgs_at2[ind2])\n",
    "                    x[..., j+20] = img.astype(np.uint8)\n",
    "                except:\n",
    "                    print(f'failed to load on {st_id}, Axial T2')\n",
    "                    pass  \n",
    "            \n",
    "            \n",
    "        if self.transform is not None:\n",
    "            x = self.transform(image=x)['image']\n",
    "\n",
    "        x = x.transpose(2, 0, 1)\n",
    "                \n",
    "        return x, str(st_id)"
   ]
  },
  {
   "cell_type": "code",
   "execution_count": 13,
   "id": "8ff1c291",
   "metadata": {
    "execution": {
     "iopub.execute_input": "2024-06-23T01:03:33.462462Z",
     "iopub.status.busy": "2024-06-23T01:03:33.461768Z",
     "iopub.status.idle": "2024-06-23T01:03:33.466206Z",
     "shell.execute_reply": "2024-06-23T01:03:33.465522Z"
    },
    "papermill": {
     "duration": 0.015118,
     "end_time": "2024-06-23T01:03:33.468021",
     "exception": false,
     "start_time": "2024-06-23T01:03:33.452903",
     "status": "completed"
    },
    "tags": [],
    "pycharm": {
     "name": "#%%\n"
    }
   },
   "outputs": [],
   "source": [
    "transforms_test = A.Compose([\n",
    "    A.Resize(IMG_SIZE[0], IMG_SIZE[1]),\n",
    "    A.Normalize(mean=0.5, std=0.5)\n",
    "])"
   ]
  },
  {
   "cell_type": "code",
   "execution_count": 14,
   "id": "6189d3b9",
   "metadata": {
    "execution": {
     "iopub.execute_input": "2024-06-23T01:03:33.485691Z",
     "iopub.status.busy": "2024-06-23T01:03:33.485075Z",
     "iopub.status.idle": "2024-06-23T01:03:33.489672Z",
     "shell.execute_reply": "2024-06-23T01:03:33.488871Z"
    },
    "papermill": {
     "duration": 0.015178,
     "end_time": "2024-06-23T01:03:33.491415",
     "exception": false,
     "start_time": "2024-06-23T01:03:33.476237",
     "status": "completed"
    },
    "tags": [],
    "pycharm": {
     "name": "#%%\n"
    }
   },
   "outputs": [],
   "source": [
    "test_ds = RSNA24TestDataset(df, study_ids, transform=transforms_test)\n",
    "test_dl = DataLoader(\n",
    "    test_ds, \n",
    "    batch_size=1, \n",
    "    shuffle=False,\n",
    "    num_workers=N_WORKERS,\n",
    "    pin_memory=True,\n",
    "    drop_last=False\n",
    ")"
   ]
  },
  {
   "cell_type": "markdown",
   "id": "1033fd45",
   "metadata": {
    "papermill": {
     "duration": 0.007844,
     "end_time": "2024-06-23T01:03:33.507353",
     "exception": false,
     "start_time": "2024-06-23T01:03:33.499509",
     "status": "completed"
    },
    "tags": [],
    "pycharm": {
     "name": "#%% md\n"
    }
   },
   "source": [
    "# Define Model"
   ]
  },
  {
   "cell_type": "code",
   "execution_count": 15,
   "id": "6c1d73eb",
   "metadata": {
    "execution": {
     "iopub.execute_input": "2024-06-23T01:03:33.525001Z",
     "iopub.status.busy": "2024-06-23T01:03:33.524309Z",
     "iopub.status.idle": "2024-06-23T01:03:33.529858Z",
     "shell.execute_reply": "2024-06-23T01:03:33.529129Z"
    },
    "papermill": {
     "duration": 0.016072,
     "end_time": "2024-06-23T01:03:33.531598",
     "exception": false,
     "start_time": "2024-06-23T01:03:33.515526",
     "status": "completed"
    },
    "tags": [],
    "pycharm": {
     "name": "#%%\n"
    }
   },
   "outputs": [],
   "source": [
    "class RSNA24Model(nn.Module):\n",
    "    def __init__(self, model_name, in_c=30, n_classes=75, pretrained=True, features_only=False):\n",
    "        super().__init__()\n",
    "        # 创建指定模型，配置预训练、特征提取模式、输入通道数和类别数。\n",
    "        # 基于 TIMM 库实现了特定模型架构，用于医学影像分析任务。\n",
    "        self.model = timm.create_model(\n",
    "                                    model_name,\n",
    "                                    pretrained=pretrained, \n",
    "                                    features_only=features_only,\n",
    "                                    in_chans=in_c,\n",
    "                                    num_classes=n_classes,\n",
    "                                    global_pool='avg'\n",
    "                                    )\n",
    "    \n",
    "    def forward(self, x):\n",
    "        y = self.model(x)\n",
    "        return y"
   ]
  },
  {
   "cell_type": "markdown",
   "id": "d26c3123",
   "metadata": {
    "papermill": {
     "duration": 0.007891,
     "end_time": "2024-06-23T01:03:33.547568",
     "exception": false,
     "start_time": "2024-06-23T01:03:33.539677",
     "status": "completed"
    },
    "tags": [],
    "pycharm": {
     "name": "#%% md\n"
    }
   },
   "source": [
    "# Load Models"
   ]
  },
  {
   "cell_type": "code",
   "execution_count": 16,
   "id": "313944dd",
   "metadata": {
    "execution": {
     "iopub.execute_input": "2024-06-23T01:03:33.564810Z",
     "iopub.status.busy": "2024-06-23T01:03:33.564355Z",
     "iopub.status.idle": "2024-06-23T01:03:33.567961Z",
     "shell.execute_reply": "2024-06-23T01:03:33.567177Z"
    },
    "papermill": {
     "duration": 0.014199,
     "end_time": "2024-06-23T01:03:33.569857",
     "exception": false,
     "start_time": "2024-06-23T01:03:33.555658",
     "status": "completed"
    },
    "tags": [],
    "pycharm": {
     "name": "#%%\n"
    }
   },
   "outputs": [],
   "source": [
    "models = []"
   ]
  },
  {
   "cell_type": "code",
   "execution_count": 17,
   "id": "b397ed66",
   "metadata": {
    "execution": {
     "iopub.execute_input": "2024-06-23T01:03:33.587002Z",
     "iopub.status.busy": "2024-06-23T01:03:33.586748Z",
     "iopub.status.idle": "2024-06-23T01:03:33.594509Z",
     "shell.execute_reply": "2024-06-23T01:03:33.593850Z"
    },
    "papermill": {
     "duration": 0.018363,
     "end_time": "2024-06-23T01:03:33.596419",
     "exception": false,
     "start_time": "2024-06-23T01:03:33.578056",
     "status": "completed"
    },
    "tags": [],
    "pycharm": {
     "name": "#%%\n"
    }
   },
   "outputs": [],
   "source": [
    "import glob\n",
    "DENSE_CKPT_PATHS = glob.glob(f'{DENSE161_DIR}best_wll_model_fold-*.pt')\n",
    "DENSE_CKPT_PATHS = sorted(DENSE_CKPT_PATHS)"
   ]
  },
  {
   "cell_type": "code",
   "execution_count": 18,
   "id": "3535e691",
   "metadata": {
    "execution": {
     "iopub.execute_input": "2024-06-23T01:03:33.614282Z",
     "iopub.status.busy": "2024-06-23T01:03:33.613527Z",
     "iopub.status.idle": "2024-06-23T01:03:52.302233Z",
     "shell.execute_reply": "2024-06-23T01:03:52.301367Z"
    },
    "papermill": {
     "duration": 18.699747,
     "end_time": "2024-06-23T01:03:52.304450",
     "exception": false,
     "start_time": "2024-06-23T01:03:33.604703",
     "status": "completed"
    },
    "tags": [],
    "pycharm": {
     "name": "#%%\n"
    }
   },
   "outputs": [
    {
     "name": "stdout",
     "output_type": "stream",
     "text": [
      "loading /kaggle/input/densenet161-weights-rsna2024/best_wll_model_fold-0.pt...\n",
      "loading /kaggle/input/densenet161-weights-rsna2024/best_wll_model_fold-1.pt...\n",
      "loading /kaggle/input/densenet161-weights-rsna2024/best_wll_model_fold-2.pt...\n",
      "loading /kaggle/input/densenet161-weights-rsna2024/best_wll_model_fold-3.pt...\n",
      "loading /kaggle/input/densenet161-weights-rsna2024/best_wll_model_fold-4.pt...\n",
      "loading /kaggle/input/densenet161-weights-rsna2024/best_wll_model_fold-5.pt...\n",
      "loading /kaggle/input/densenet161-weights-rsna2024/best_wll_model_fold-6.pt...\n",
      "loading /kaggle/input/densenet161-weights-rsna2024/best_wll_model_fold-7.pt...\n",
      "loading /kaggle/input/densenet161-weights-rsna2024/best_wll_model_fold-8.pt...\n",
      "loading /kaggle/input/densenet161-weights-rsna2024/best_wll_model_fold-9.pt...\n"
     ]
    }
   ],
   "source": [
    "for i, cp in enumerate(DENSE_CKPT_PATHS):\n",
    "    print(f'loading {cp}...')\n",
    "    model = RSNA24Model(DENSE_MODEL_NAME, IN_CHANS, N_CLASSES, pretrained=False)\n",
    "    model.load_state_dict(torch.load(cp))\n",
    "    model.eval()\n",
    "    # 将模型的计算精度设置为半精度（float16），以提高计算效率\n",
    "    model.half()\n",
    "    model.to(device)\n",
    "    models.append(model)"
   ]
  },
  {
   "cell_type": "markdown",
   "id": "c2393b16",
   "metadata": {
    "papermill": {
     "duration": 0.00902,
     "end_time": "2024-06-23T01:03:52.323326",
     "exception": false,
     "start_time": "2024-06-23T01:03:52.314306",
     "status": "completed"
    },
    "tags": [],
    "pycharm": {
     "name": "#%% md\n"
    }
   },
   "source": [
    "# Inference loop"
   ]
  },
  {
   "cell_type": "code",
   "execution_count": 19,
   "id": "d60597f5",
   "metadata": {
    "execution": {
     "iopub.execute_input": "2024-06-23T01:03:52.342603Z",
     "iopub.status.busy": "2024-06-23T01:03:52.342302Z",
     "iopub.status.idle": "2024-06-23T01:03:55.404452Z",
     "shell.execute_reply": "2024-06-23T01:03:55.403303Z"
    },
    "papermill": {
     "duration": 3.074264,
     "end_time": "2024-06-23T01:03:55.406608",
     "exception": false,
     "start_time": "2024-06-23T01:03:52.332344",
     "status": "completed"
    },
    "tags": [],
    "pycharm": {
     "name": "#%%\n"
    }
   },
   "outputs": [
    {
     "name": "stderr",
     "output_type": "stream",
     "text": [
      "100%|██████████| 1/1 [00:03<00:00,  3.05s/it]\n"
     ]
    }
   ],
   "source": [
    "# 开启自动混合精度训练\n",
    "autocast = torch.cuda.amp.autocast(enabled=USE_AMP, dtype=torch.half)\n",
    "y_preds = []\n",
    "row_names = []\n",
    "\n",
    "with tqdm(test_dl, leave=True) as pbar:\n",
    "    with torch.no_grad():\n",
    "        for idx, (x, si) in enumerate(pbar):\n",
    "            x = x.to(device)\n",
    "            # 初始化用于存储每个研究的预测结果的数组\n",
    "            pred_per_study = np.zeros((25, 3))\n",
    "\n",
    "            # 生成行名，用于后续的结果组织和标识\n",
    "            for cond in CONDITIONS:\n",
    "                for level in LEVELS:\n",
    "                    row_names.append(si[0] + '_' + cond + '_' + level)\n",
    "\n",
    "             # 开启自动混合精度\n",
    "            with autocast:\n",
    "                for m in models:\n",
    "                    # 获取模型的预测结果\n",
    "                    y = m(x)[0]\n",
    "                    # 对每个标签进行预测，并计算softmax概率\n",
    "                    for col in range(N_LABELS):\n",
    "                        pred = y[col*3:col*3+3]\n",
    "                        y_pred = pred.float().softmax(0).cpu().numpy()\n",
    "                        pred_per_study[col] += y_pred / len(models)\n",
    "                y_preds.append(pred_per_study)\n",
    "\n",
    "# 将所有预测结果合并为一个数组\n",
    "y_preds = np.concatenate(y_preds, axis=0)"
   ]
  },
  {
   "cell_type": "markdown",
   "id": "908abb6b",
   "metadata": {
    "papermill": {
     "duration": 0.00939,
     "end_time": "2024-06-23T01:03:55.425774",
     "exception": false,
     "start_time": "2024-06-23T01:03:55.416384",
     "status": "completed"
    },
    "tags": [],
    "pycharm": {
     "name": "#%% md\n"
    }
   },
   "source": [
    "# Make Submission"
   ]
  },
  {
   "cell_type": "code",
   "execution_count": 20,
   "id": "40c944c5",
   "metadata": {
    "execution": {
     "iopub.execute_input": "2024-06-23T01:03:55.446877Z",
     "iopub.status.busy": "2024-06-23T01:03:55.446509Z",
     "iopub.status.idle": "2024-06-23T01:03:55.471217Z",
     "shell.execute_reply": "2024-06-23T01:03:55.470113Z"
    },
    "papermill": {
     "duration": 0.037659,
     "end_time": "2024-06-23T01:03:55.473116",
     "exception": false,
     "start_time": "2024-06-23T01:03:55.435457",
     "status": "completed"
    },
    "tags": [],
    "pycharm": {
     "name": "#%%\n"
    }
   },
   "outputs": [
    {
     "data": {
      "text/html": [
       "<div>\n",
       "<style scoped>\n",
       "    .dataframe tbody tr th:only-of-type {\n",
       "        vertical-align: middle;\n",
       "    }\n",
       "\n",
       "    .dataframe tbody tr th {\n",
       "        vertical-align: top;\n",
       "    }\n",
       "\n",
       "    .dataframe thead th {\n",
       "        text-align: right;\n",
       "    }\n",
       "</style>\n",
       "<table border=\"1\" class=\"dataframe\">\n",
       "  <thead>\n",
       "    <tr style=\"text-align: right;\">\n",
       "      <th></th>\n",
       "      <th>row_id</th>\n",
       "      <th>normal_mild</th>\n",
       "      <th>moderate</th>\n",
       "      <th>severe</th>\n",
       "    </tr>\n",
       "  </thead>\n",
       "  <tbody>\n",
       "    <tr>\n",
       "      <th>0</th>\n",
       "      <td>44036939_spinal_canal_stenosis_l1_l2</td>\n",
       "      <td>0.343530</td>\n",
       "      <td>0.405086</td>\n",
       "      <td>0.251384</td>\n",
       "    </tr>\n",
       "    <tr>\n",
       "      <th>1</th>\n",
       "      <td>44036939_spinal_canal_stenosis_l2_l3</td>\n",
       "      <td>0.143158</td>\n",
       "      <td>0.426515</td>\n",
       "      <td>0.430327</td>\n",
       "    </tr>\n",
       "    <tr>\n",
       "      <th>2</th>\n",
       "      <td>44036939_spinal_canal_stenosis_l3_l4</td>\n",
       "      <td>0.118542</td>\n",
       "      <td>0.326268</td>\n",
       "      <td>0.555191</td>\n",
       "    </tr>\n",
       "    <tr>\n",
       "      <th>3</th>\n",
       "      <td>44036939_spinal_canal_stenosis_l4_l5</td>\n",
       "      <td>0.289390</td>\n",
       "      <td>0.274641</td>\n",
       "      <td>0.435969</td>\n",
       "    </tr>\n",
       "    <tr>\n",
       "      <th>4</th>\n",
       "      <td>44036939_spinal_canal_stenosis_l5_s1</td>\n",
       "      <td>0.830504</td>\n",
       "      <td>0.097165</td>\n",
       "      <td>0.072331</td>\n",
       "    </tr>\n",
       "    <tr>\n",
       "      <th>5</th>\n",
       "      <td>44036939_left_neural_foraminal_narrowing_l1_l2</td>\n",
       "      <td>0.519408</td>\n",
       "      <td>0.450863</td>\n",
       "      <td>0.029729</td>\n",
       "    </tr>\n",
       "    <tr>\n",
       "      <th>6</th>\n",
       "      <td>44036939_left_neural_foraminal_narrowing_l2_l3</td>\n",
       "      <td>0.319323</td>\n",
       "      <td>0.575623</td>\n",
       "      <td>0.105054</td>\n",
       "    </tr>\n",
       "    <tr>\n",
       "      <th>7</th>\n",
       "      <td>44036939_left_neural_foraminal_narrowing_l3_l4</td>\n",
       "      <td>0.230049</td>\n",
       "      <td>0.516572</td>\n",
       "      <td>0.253380</td>\n",
       "    </tr>\n",
       "    <tr>\n",
       "      <th>8</th>\n",
       "      <td>44036939_left_neural_foraminal_narrowing_l4_l5</td>\n",
       "      <td>0.145875</td>\n",
       "      <td>0.459954</td>\n",
       "      <td>0.394171</td>\n",
       "    </tr>\n",
       "    <tr>\n",
       "      <th>9</th>\n",
       "      <td>44036939_left_neural_foraminal_narrowing_l5_s1</td>\n",
       "      <td>0.195298</td>\n",
       "      <td>0.375256</td>\n",
       "      <td>0.429446</td>\n",
       "    </tr>\n",
       "    <tr>\n",
       "      <th>10</th>\n",
       "      <td>44036939_right_neural_foraminal_narrowing_l1_l2</td>\n",
       "      <td>0.486522</td>\n",
       "      <td>0.356638</td>\n",
       "      <td>0.156840</td>\n",
       "    </tr>\n",
       "    <tr>\n",
       "      <th>11</th>\n",
       "      <td>44036939_right_neural_foraminal_narrowing_l2_l3</td>\n",
       "      <td>0.362782</td>\n",
       "      <td>0.574614</td>\n",
       "      <td>0.062604</td>\n",
       "    </tr>\n",
       "    <tr>\n",
       "      <th>12</th>\n",
       "      <td>44036939_right_neural_foraminal_narrowing_l3_l4</td>\n",
       "      <td>0.176282</td>\n",
       "      <td>0.595286</td>\n",
       "      <td>0.228432</td>\n",
       "    </tr>\n",
       "    <tr>\n",
       "      <th>13</th>\n",
       "      <td>44036939_right_neural_foraminal_narrowing_l4_l5</td>\n",
       "      <td>0.162385</td>\n",
       "      <td>0.414322</td>\n",
       "      <td>0.423293</td>\n",
       "    </tr>\n",
       "    <tr>\n",
       "      <th>14</th>\n",
       "      <td>44036939_right_neural_foraminal_narrowing_l5_s1</td>\n",
       "      <td>0.237525</td>\n",
       "      <td>0.326235</td>\n",
       "      <td>0.436240</td>\n",
       "    </tr>\n",
       "    <tr>\n",
       "      <th>15</th>\n",
       "      <td>44036939_left_subarticular_stenosis_l1_l2</td>\n",
       "      <td>0.277847</td>\n",
       "      <td>0.400041</td>\n",
       "      <td>0.322113</td>\n",
       "    </tr>\n",
       "    <tr>\n",
       "      <th>16</th>\n",
       "      <td>44036939_left_subarticular_stenosis_l2_l3</td>\n",
       "      <td>0.086295</td>\n",
       "      <td>0.313958</td>\n",
       "      <td>0.599747</td>\n",
       "    </tr>\n",
       "    <tr>\n",
       "      <th>17</th>\n",
       "      <td>44036939_left_subarticular_stenosis_l3_l4</td>\n",
       "      <td>0.057973</td>\n",
       "      <td>0.283447</td>\n",
       "      <td>0.658580</td>\n",
       "    </tr>\n",
       "    <tr>\n",
       "      <th>18</th>\n",
       "      <td>44036939_left_subarticular_stenosis_l4_l5</td>\n",
       "      <td>0.063404</td>\n",
       "      <td>0.289004</td>\n",
       "      <td>0.647593</td>\n",
       "    </tr>\n",
       "    <tr>\n",
       "      <th>19</th>\n",
       "      <td>44036939_left_subarticular_stenosis_l5_s1</td>\n",
       "      <td>0.316318</td>\n",
       "      <td>0.302756</td>\n",
       "      <td>0.380926</td>\n",
       "    </tr>\n",
       "    <tr>\n",
       "      <th>20</th>\n",
       "      <td>44036939_right_subarticular_stenosis_l1_l2</td>\n",
       "      <td>0.265563</td>\n",
       "      <td>0.480237</td>\n",
       "      <td>0.254200</td>\n",
       "    </tr>\n",
       "    <tr>\n",
       "      <th>21</th>\n",
       "      <td>44036939_right_subarticular_stenosis_l2_l3</td>\n",
       "      <td>0.110955</td>\n",
       "      <td>0.390135</td>\n",
       "      <td>0.498910</td>\n",
       "    </tr>\n",
       "    <tr>\n",
       "      <th>22</th>\n",
       "      <td>44036939_right_subarticular_stenosis_l3_l4</td>\n",
       "      <td>0.066637</td>\n",
       "      <td>0.288214</td>\n",
       "      <td>0.645150</td>\n",
       "    </tr>\n",
       "    <tr>\n",
       "      <th>23</th>\n",
       "      <td>44036939_right_subarticular_stenosis_l4_l5</td>\n",
       "      <td>0.065256</td>\n",
       "      <td>0.288159</td>\n",
       "      <td>0.646586</td>\n",
       "    </tr>\n",
       "    <tr>\n",
       "      <th>24</th>\n",
       "      <td>44036939_right_subarticular_stenosis_l5_s1</td>\n",
       "      <td>0.323107</td>\n",
       "      <td>0.357221</td>\n",
       "      <td>0.319673</td>\n",
       "    </tr>\n",
       "  </tbody>\n",
       "</table>\n",
       "</div>"
      ],
      "text/plain": [
       "                                             row_id  normal_mild  moderate  \\\n",
       "0              44036939_spinal_canal_stenosis_l1_l2     0.343530  0.405086   \n",
       "1              44036939_spinal_canal_stenosis_l2_l3     0.143158  0.426515   \n",
       "2              44036939_spinal_canal_stenosis_l3_l4     0.118542  0.326268   \n",
       "3              44036939_spinal_canal_stenosis_l4_l5     0.289390  0.274641   \n",
       "4              44036939_spinal_canal_stenosis_l5_s1     0.830504  0.097165   \n",
       "5    44036939_left_neural_foraminal_narrowing_l1_l2     0.519408  0.450863   \n",
       "6    44036939_left_neural_foraminal_narrowing_l2_l3     0.319323  0.575623   \n",
       "7    44036939_left_neural_foraminal_narrowing_l3_l4     0.230049  0.516572   \n",
       "8    44036939_left_neural_foraminal_narrowing_l4_l5     0.145875  0.459954   \n",
       "9    44036939_left_neural_foraminal_narrowing_l5_s1     0.195298  0.375256   \n",
       "10  44036939_right_neural_foraminal_narrowing_l1_l2     0.486522  0.356638   \n",
       "11  44036939_right_neural_foraminal_narrowing_l2_l3     0.362782  0.574614   \n",
       "12  44036939_right_neural_foraminal_narrowing_l3_l4     0.176282  0.595286   \n",
       "13  44036939_right_neural_foraminal_narrowing_l4_l5     0.162385  0.414322   \n",
       "14  44036939_right_neural_foraminal_narrowing_l5_s1     0.237525  0.326235   \n",
       "15        44036939_left_subarticular_stenosis_l1_l2     0.277847  0.400041   \n",
       "16        44036939_left_subarticular_stenosis_l2_l3     0.086295  0.313958   \n",
       "17        44036939_left_subarticular_stenosis_l3_l4     0.057973  0.283447   \n",
       "18        44036939_left_subarticular_stenosis_l4_l5     0.063404  0.289004   \n",
       "19        44036939_left_subarticular_stenosis_l5_s1     0.316318  0.302756   \n",
       "20       44036939_right_subarticular_stenosis_l1_l2     0.265563  0.480237   \n",
       "21       44036939_right_subarticular_stenosis_l2_l3     0.110955  0.390135   \n",
       "22       44036939_right_subarticular_stenosis_l3_l4     0.066637  0.288214   \n",
       "23       44036939_right_subarticular_stenosis_l4_l5     0.065256  0.288159   \n",
       "24       44036939_right_subarticular_stenosis_l5_s1     0.323107  0.357221   \n",
       "\n",
       "      severe  \n",
       "0   0.251384  \n",
       "1   0.430327  \n",
       "2   0.555191  \n",
       "3   0.435969  \n",
       "4   0.072331  \n",
       "5   0.029729  \n",
       "6   0.105054  \n",
       "7   0.253380  \n",
       "8   0.394171  \n",
       "9   0.429446  \n",
       "10  0.156840  \n",
       "11  0.062604  \n",
       "12  0.228432  \n",
       "13  0.423293  \n",
       "14  0.436240  \n",
       "15  0.322113  \n",
       "16  0.599747  \n",
       "17  0.658580  \n",
       "18  0.647593  \n",
       "19  0.380926  \n",
       "20  0.254200  \n",
       "21  0.498910  \n",
       "22  0.645150  \n",
       "23  0.646586  \n",
       "24  0.319673  "
      ]
     },
     "execution_count": 20,
     "metadata": {},
     "output_type": "execute_result"
    }
   ],
   "source": [
    "sub = pd.DataFrame()\n",
    "sub['row_id'] = row_names\n",
    "sub[LABELS] = y_preds\n",
    "sub.head(25)"
   ]
  },
  {
   "cell_type": "code",
   "execution_count": 21,
   "id": "1ac5df0a",
   "metadata": {
    "execution": {
     "iopub.execute_input": "2024-06-23T01:03:55.493388Z",
     "iopub.status.busy": "2024-06-23T01:03:55.493135Z",
     "iopub.status.idle": "2024-06-23T01:03:55.507950Z",
     "shell.execute_reply": "2024-06-23T01:03:55.507128Z"
    },
    "papermill": {
     "duration": 0.026943,
     "end_time": "2024-06-23T01:03:55.509779",
     "exception": false,
     "start_time": "2024-06-23T01:03:55.482836",
     "status": "completed"
    },
    "tags": [],
    "pycharm": {
     "name": "#%%\n"
    }
   },
   "outputs": [
    {
     "data": {
      "text/html": [
       "<div>\n",
       "<style scoped>\n",
       "    .dataframe tbody tr th:only-of-type {\n",
       "        vertical-align: middle;\n",
       "    }\n",
       "\n",
       "    .dataframe tbody tr th {\n",
       "        vertical-align: top;\n",
       "    }\n",
       "\n",
       "    .dataframe thead th {\n",
       "        text-align: right;\n",
       "    }\n",
       "</style>\n",
       "<table border=\"1\" class=\"dataframe\">\n",
       "  <thead>\n",
       "    <tr style=\"text-align: right;\">\n",
       "      <th></th>\n",
       "      <th>row_id</th>\n",
       "      <th>normal_mild</th>\n",
       "      <th>moderate</th>\n",
       "      <th>severe</th>\n",
       "    </tr>\n",
       "  </thead>\n",
       "  <tbody>\n",
       "    <tr>\n",
       "      <th>0</th>\n",
       "      <td>44036939_spinal_canal_stenosis_l1_l2</td>\n",
       "      <td>0.343530</td>\n",
       "      <td>0.405086</td>\n",
       "      <td>0.251384</td>\n",
       "    </tr>\n",
       "    <tr>\n",
       "      <th>1</th>\n",
       "      <td>44036939_spinal_canal_stenosis_l2_l3</td>\n",
       "      <td>0.143158</td>\n",
       "      <td>0.426515</td>\n",
       "      <td>0.430327</td>\n",
       "    </tr>\n",
       "    <tr>\n",
       "      <th>2</th>\n",
       "      <td>44036939_spinal_canal_stenosis_l3_l4</td>\n",
       "      <td>0.118542</td>\n",
       "      <td>0.326268</td>\n",
       "      <td>0.555191</td>\n",
       "    </tr>\n",
       "    <tr>\n",
       "      <th>3</th>\n",
       "      <td>44036939_spinal_canal_stenosis_l4_l5</td>\n",
       "      <td>0.289390</td>\n",
       "      <td>0.274641</td>\n",
       "      <td>0.435969</td>\n",
       "    </tr>\n",
       "    <tr>\n",
       "      <th>4</th>\n",
       "      <td>44036939_spinal_canal_stenosis_l5_s1</td>\n",
       "      <td>0.830504</td>\n",
       "      <td>0.097165</td>\n",
       "      <td>0.072331</td>\n",
       "    </tr>\n",
       "  </tbody>\n",
       "</table>\n",
       "</div>"
      ],
      "text/plain": [
       "                                 row_id  normal_mild  moderate    severe\n",
       "0  44036939_spinal_canal_stenosis_l1_l2     0.343530  0.405086  0.251384\n",
       "1  44036939_spinal_canal_stenosis_l2_l3     0.143158  0.426515  0.430327\n",
       "2  44036939_spinal_canal_stenosis_l3_l4     0.118542  0.326268  0.555191\n",
       "3  44036939_spinal_canal_stenosis_l4_l5     0.289390  0.274641  0.435969\n",
       "4  44036939_spinal_canal_stenosis_l5_s1     0.830504  0.097165  0.072331"
      ]
     },
     "execution_count": 21,
     "metadata": {},
     "output_type": "execute_result"
    }
   ],
   "source": [
    "sub.to_csv('submission.csv', index=False)\n",
    "pd.read_csv('submission.csv').head()"
   ]
  },
  {
   "cell_type": "markdown",
   "id": "c62c2701",
   "metadata": {
    "papermill": {
     "duration": 0.009554,
     "end_time": "2024-06-23T01:03:55.529422",
     "exception": false,
     "start_time": "2024-06-23T01:03:55.519868",
     "status": "completed"
    },
    "tags": [],
    "pycharm": {
     "name": "#%% md\n"
    }
   },
   "source": [
    "# Conclusion\n",
    "We created the dataset, performed training, and inference in this notebook. \n",
    "\n",
    "This competition is a bit complicated to handle the dataset, so there may be a better way.\n",
    "\n",
    "I think there are many other areas to improve in my notebook. I hope you can learn from my notebook and get a better score."
   ]
  },
  {
   "cell_type": "code",
   "execution_count": null,
   "id": "172511f5",
   "metadata": {
    "papermill": {
     "duration": 0.009661,
     "end_time": "2024-06-23T01:03:55.548860",
     "exception": false,
     "start_time": "2024-06-23T01:03:55.539199",
     "status": "completed"
    },
    "tags": [],
    "pycharm": {
     "name": "#%%\n"
    }
   },
   "outputs": [],
   "source": []
  }
 ],
 "metadata": {
  "kaggle": {
   "accelerator": "nvidiaTeslaT4",
   "dataSources": [
    {
     "databundleVersionId": 8561470,
     "sourceId": 71549,
     "sourceType": "competition"
    },
    {
     "datasetId": 5236783,
     "sourceId": 8727685,
     "sourceType": "datasetVersion"
    },
    {
     "datasetId": 5264030,
     "sourceId": 8761420,
     "sourceType": "datasetVersion"
    }
   ],
   "dockerImageVersionId": 30733,
   "isGpuEnabled": true,
   "isInternetEnabled": false,
   "language": "python",
   "sourceType": "notebook"
  },
  "kernelspec": {
   "display_name": "Python 3",
   "language": "python",
   "name": "python3"
  },
  "language_info": {
   "codemirror_mode": {
    "name": "ipython",
    "version": 3
   },
   "file_extension": ".py",
   "mimetype": "text/x-python",
   "name": "python",
   "nbconvert_exporter": "python",
   "pygments_lexer": "ipython3",
   "version": "3.10.13"
  },
  "papermill": {
   "default_parameters": {},
   "duration": 37.128818,
   "end_time": "2024-06-23T01:03:57.582400",
   "environment_variables": {},
   "exception": null,
   "input_path": "__notebook__.ipynb",
   "output_path": "__notebook__.ipynb",
   "parameters": {},
   "start_time": "2024-06-23T01:03:20.453582",
   "version": "2.5.0"
  }
 },
 "nbformat": 4,
 "nbformat_minor": 5
}